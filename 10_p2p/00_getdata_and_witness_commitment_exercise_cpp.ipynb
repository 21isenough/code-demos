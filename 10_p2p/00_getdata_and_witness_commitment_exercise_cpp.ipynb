{
 "cells": [
  {
   "cell_type": "markdown",
   "metadata": {},
   "source": [
    "# Request block from P2P peer with Libbitcoin \n",
    "\n",
    "<hr style=\"border: 0.5px dashed #000;\">"
   ]
  },
  {
   "cell_type": "markdown",
   "metadata": {},
   "source": [
    "## 1)  Request block from P2P peer"
   ]
  },
  {
   "cell_type": "markdown",
   "metadata": {},
   "source": [
    "Consider the c++ script `request_block_witness_root.cpp`.\n",
    "* Subscribe to a channel event.\n",
    "    * Subscribe to `block` message.\n",
    "    * Request block: `000000000000000000018b63b42f45010822ed77ba6000a5d193283ff812c274`\n",
    "\n",
    "\n",
    "* When block is received.\n",
    "    * Compute the coinbase txid.\n",
    "    * Compute the witness root.\n",
    "    * Extract coinbase witness data."
   ]
  },
  {
   "cell_type": "code",
   "execution_count": null,
   "metadata": {},
   "outputs": [],
   "source": [
    "# Coinbase TXID: \n",
    "# ca5cb582a1b70578c1808ccea96e13b7d94b5f37d79cdf71ae2c31d0cacaaaf3\n",
    "\n",
    "# Witness root: \n",
    "# 83722987b3fed1908669269a057371f016c1408a731d8ba0782acb1297a22036\n",
    "\n",
    "# Coinbase witness/witness reserved value: \n",
    "#0000000000000000000000000000000000000000000000000000000000000000\n"
   ]
  },
  {
   "cell_type": "markdown",
   "metadata": {},
   "source": [
    "## 2)  Verify witness commitment in coinbase transaction."
   ]
  },
  {
   "cell_type": "code",
   "execution_count": null,
   "metadata": {},
   "outputs": [],
   "source": [
    "witness_root=83722987b3fed1908669269a057371f016c1408a731d8ba0782acb1297a22036\n",
    "witness_reserved_value=0000000000000000000000000000000000000000000000000000000000000000\n",
    "\n",
    "echo $witness_root$witness_reserved_value | bx sha256 | bx sha256\n"
   ]
  },
  {
   "cell_type": "code",
   "execution_count": 5,
   "metadata": {},
   "outputs": [
    {
     "name": "stdout",
     "output_type": "stream",
     "text": [
      "\u001b[1;39m[\n",
      "  \u001b[1;39m{\n",
      "    \u001b[0m\u001b[34;1m\"address_hash\"\u001b[0m\u001b[1;39m: \u001b[0m\u001b[0;32m\"c825a1ecf2a6830c4401620c3a16f1995057c2ab\"\u001b[0m\u001b[1;39m,\n",
      "    \u001b[0m\u001b[34;1m\"script\"\u001b[0m\u001b[1;39m: \u001b[0m\u001b[0;32m\"dup hash160 [c825a1ecf2a6830c4401620c3a16f1995057c2ab] equalverify checksig\"\u001b[0m\u001b[1;39m,\n",
      "    \u001b[0m\u001b[34;1m\"value\"\u001b[0m\u001b[1;39m: \u001b[0m\u001b[0;32m\"1270711860\"\u001b[0m\u001b[1;39m\n",
      "  \u001b[1;39m}\u001b[0m\u001b[1;39m,\n",
      "  \u001b[1;39m{\n",
      "    \u001b[0m\u001b[34;1m\"script\"\u001b[0m\u001b[1;39m: \u001b[0m\u001b[0;32m\"return [aa21a9edf1c59181dd9dda2ba6083abb5c8dc76a0bfdda8f2ffba11f5ff6c2441469155d] [0000000000000000]\"\u001b[0m\u001b[1;39m,\n",
      "    \u001b[0m\u001b[34;1m\"value\"\u001b[0m\u001b[1;39m: \u001b[0m\u001b[0;32m\"0\"\u001b[0m\u001b[1;39m\n",
      "  \u001b[1;39m}\u001b[0m\u001b[1;39m,\n",
      "  \u001b[1;39m{\n",
      "    \u001b[0m\u001b[34;1m\"script\"\u001b[0m\u001b[1;39m: \u001b[0m\u001b[0;32m\"return [1.52534b424c4f434b3af9196feac7addd87df41a1feaf1ea1eb47ce98c0f6d7b2bbc73a019213ffca97]\"\u001b[0m\u001b[1;39m,\n",
      "    \u001b[0m\u001b[34;1m\"value\"\u001b[0m\u001b[1;39m: \u001b[0m\u001b[0;32m\"0\"\u001b[0m\u001b[1;39m\n",
      "  \u001b[1;39m}\u001b[0m\u001b[1;39m\n",
      "\u001b[1;39m]\u001b[0m\n"
     ]
    }
   ],
   "source": [
    "# Notice output with [commitment_header | witness_commmitment]\n",
    "bx fetch-tx ca5cb582a1b70578c1808ccea96e13b7d94b5f37d79cdf71ae2c31d0cacaaaf3 -f json \\\n",
    "| jq \".transaction.outputs\"\n"
   ]
  }
 ],
 "metadata": {
  "kernelspec": {
   "display_name": "Bash",
   "language": "bash",
   "name": "bash"
  },
  "language_info": {
   "codemirror_mode": "shell",
   "file_extension": ".sh",
   "mimetype": "text/x-sh",
   "name": "bash"
  }
 },
 "nbformat": 4,
 "nbformat_minor": 2
}
