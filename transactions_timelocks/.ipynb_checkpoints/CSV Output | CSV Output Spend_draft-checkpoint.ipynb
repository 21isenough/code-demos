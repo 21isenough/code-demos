{
 "cells": [
  {
   "cell_type": "markdown",
   "metadata": {},
   "source": [
    "<hr style=\"border: 0.5px dashed #000;\">\n",
    "\n",
    "## Create CSV Output"
   ]
  },
  {
   "cell_type": "markdown",
   "metadata": {},
   "source": [
    "### 1) Setup wallet and test funds<br>\n",
    "**1.1) Generate a new private key**<br>\n",
    "`bx seed ` creates 192 bytes of entropy. <br>\n",
    "`bx ec-new ` derives 256bit private key from entropy.\n",
    "\n"
   ]
  },
  {
   "cell_type": "code",
   "execution_count": 96,
   "metadata": {},
   "outputs": [
    {
     "name": "stdout",
     "output_type": "stream",
     "text": [
      "9273838e8af770d5a7ec54585e9846a03ecc9a3d11bda75c18fede3e0a6dacdc\n"
     ]
    }
   ],
   "source": [
    "%%bash\n",
    "\n",
    "bx seed | bx ec-new"
   ]
  },
  {
   "cell_type": "markdown",
   "metadata": {},
   "source": [
    "**1.2 Save your new private key here:**<br>\n",
    "Will be used later for signing.<br>\n",
    "`e60c1ee5fb938aa041c15594b0df6ffbedbfc33e4aaf231b7eb4dbf18c464d8e`"
   ]
  },
  {
   "cell_type": "markdown",
   "metadata": {},
   "source": [
    "**1.3 Derive public key**<br>\n",
    "`bx ec-to-public [32-byte private key]`<br>"
   ]
  },
  {
   "cell_type": "code",
   "execution_count": 97,
   "metadata": {},
   "outputs": [
    {
     "name": "stdout",
     "output_type": "stream",
     "text": [
      "02e1af2f9086e95728bc3c768ee3e83ab81dd1841b92e281caa9f92501fd9b2b31\n"
     ]
    }
   ],
   "source": [
    "%%bash\n",
    "\n",
    "bx ec-to-public e60c1ee5fb938aa041c15594b0df6ffbedbfc33e4aaf231b7eb4dbf18c464d8e"
   ]
  },
  {
   "cell_type": "markdown",
   "metadata": {
    "deletable": false,
    "editable": false
   },
   "source": [
    "**1.4 Derive public key hash**<br>\n",
    "`bx sha256 [33-byte public key] | bx ripemd160`"
   ]
  },
  {
   "cell_type": "code",
   "execution_count": 98,
   "metadata": {},
   "outputs": [
    {
     "name": "stdout",
     "output_type": "stream",
     "text": [
      "42a8bcd5f61fa17adbe800de6382f24bd1db0d7f\n"
     ]
    }
   ],
   "source": [
    "%%bash\n",
    "\n",
    "bx sha256 02e1af2f9086e95728bc3c768ee3e83ab81dd1841b92e281caa9f92501fd9b2b31 | bx ripemd160"
   ]
  },
  {
   "cell_type": "markdown",
   "metadata": {},
   "source": [
    "**1.5 Derive testnet address**<br>\n",
    "Add version prefix for mainnet/testnet<br>\n",
    "* `6f` in hex\n",
    "* `111` in decimal\n",
    "* `[6f][32-byte public key hash]`\n",
    "\n",
    "Wrap with version prefix & checksum: <br>\n",
    "* `[6f][32-byte public key hash][4-byte checksum]`\n",
    "* bx command: `bx wrap-encode -v [version(decimal)] [public key hash]`"
   ]
  },
  {
   "cell_type": "code",
   "execution_count": 1,
   "metadata": {},
   "outputs": [
    {
     "name": "stdout",
     "output_type": "stream",
     "text": [
      "6f42a8bcd5f61fa17adbe800de6382f24bd1db0d7fe486d55f\n"
     ]
    }
   ],
   "source": [
    "%%bash\n",
    "\n",
    "bx wrap-encode -v 111 42a8bcd5f61fa17adbe800de6382f24bd1db0d7f"
   ]
  },
  {
   "cell_type": "markdown",
   "metadata": {},
   "source": [
    "Encode in base58:<br>\n",
    "* `bx base58-code [address in base16]`\n",
    "* For testnet address, begins with `m` or `n` "
   ]
  },
  {
   "cell_type": "code",
   "execution_count": 2,
   "metadata": {},
   "outputs": [
    {
     "name": "stdout",
     "output_type": "stream",
     "text": [
      "mmbR2p2QQULJBKBHoEFYDByjdSV9WhKJ3Q\n"
     ]
    }
   ],
   "source": [
    "%%bash\n",
    "\n",
    "bx base58-encode 6f42a8bcd5f61fa17adbe800de6382f24bd1db0d7fe486d55f"
   ]
  },
  {
   "cell_type": "markdown",
   "metadata": {},
   "source": [
    "**1.5 Send test coins funds to your testnet address**<br>\n",
    "Note your spendable UXTO's below...<br>\n",
    "* UXTO 0: \n",
    "    * TXID: `423f3180d4a0f95c925553beef5e2fec7a4f19f9632c8294575ac450ff5b6b89`<br>\n",
    "    * Index: `0`\n",
    "    * Amount: `130000000`\n",
    "* UXTO 1: \n",
    "    * TXID: `f91f383904ec4a6fd4902ebbb3b8f2d049c2ed24aa441d70bd3dbf2a077dcbe6`<br>\n",
    "    * Index: `1`\n",
    "    * Amount: `65000000`\n",
    "* UXTO ...  \n",
    "    * TXID: `...`<br>\n",
    "    * Index: `...`"
   ]
  },
  {
   "cell_type": "markdown",
   "metadata": {},
   "source": [
    "<hr style=\"border: 0.5px dashed #000;\">\n",
    "\n",
    "### 2) Encode transaction with CSV encumbered output<br>"
   ]
  },
  {
   "cell_type": "markdown",
   "metadata": {},
   "source": [
    "**2.1) Encode relative locktime for output script**<br>\n",
    "<br>Example:\n",
    "* Decimal: `1384968`\n",
    "* 4-Byte Hex (Big Endian): `00152208`\n",
    "* 4-Byte Hex (Little Endian): `08221500`"
   ]
  },
  {
   "cell_type": "code",
   "execution_count": 120,
   "metadata": {},
   "outputs": [
    {
     "name": "stdout",
     "output_type": "stream",
     "text": [
      "152208\n"
     ]
    }
   ],
   "source": [
    "%%bash\n",
    "printf '%x\\n' 1384968"
   ]
  },
  {
   "cell_type": "markdown",
   "metadata": {},
   "source": [
    "**Note:** Don't forget to flip byte-order (4-Bytes) for output script."
   ]
  },
  {
   "cell_type": "markdown",
   "metadata": {},
   "source": [
    "**2.3) Encode CLTV-encumbered P2PKH output script**\n",
    "* **`[locktime]`**\n",
    "* **`CHECKLOCKTIMEVERIFY`**\n",
    "* `DROP`\n",
    "* `DUP`\n",
    "* `HASH160`\n",
    "* `[public key hash]`\n",
    "* `EQUALVERIFY`\n",
    "* `CHECKSIG`\n",
    "\n",
    "BX script-serialisation command:\n",
    "`bx script-encode [bitcoin script]`"
   ]
  },
  {
   "cell_type": "code",
   "execution_count": 121,
   "metadata": {},
   "outputs": [
    {
     "name": "stdout",
     "output_type": "stream",
     "text": [
      "0408221500b17576a91442a8bcd5f61fa17adbe800de6382f24bd1db0d7f88ac\n"
     ]
    }
   ],
   "source": [
    "%%bash\n",
    "bx script-encode \\\n",
    "\"[08221500] CHECKLOCKTIMEVERIFY DROP DUP HASH160 [42a8bcd5f61fa17adbe800de6382f24bd1db0d7f] EQUALVERIFY CHECKSIG\""
   ]
  },
  {
   "cell_type": "markdown",
   "metadata": {},
   "source": [
    "**2.4) Determine output satoshi amount**<br>\n",
    "* Assume `700 satoshi` transaction fee\n",
    "* Output amount = `[UXTO spendable amount]`-`700`"
   ]
  },
  {
   "cell_type": "code",
   "execution_count": 125,
   "metadata": {},
   "outputs": [
    {
     "name": "stdout",
     "output_type": "stream",
     "text": [
      "129999300\n"
     ]
    }
   ],
   "source": [
    "%%bash\n",
    "expr 130000000 - 700"
   ]
  },
  {
   "cell_type": "markdown",
   "metadata": {},
   "source": [
    "**2.5) Encode transaction without output script**<br>\n",
    "* `bx tx-encode -i [prevout txid:index:sequence] -o [output script:amount]`\n",
    "* Input sequence defaults to `ffffffff`/`4294967295`"
   ]
  },
  {
   "cell_type": "code",
   "execution_count": 127,
   "metadata": {},
   "outputs": [
    {
     "name": "stdout",
     "output_type": "stream",
     "text": [
      "010000000170e8fa3cef48133041d7a501763d01b7012b54a5106512ef355e0a73eaf5c4d60100000000ffffffff01c4a1bf07000000002004fa211500b17576a91442a8bcd5f61fa17adbe800de6382f24bd1db0d7f88ac00000000\n"
     ]
    }
   ],
   "source": [
    "%%bash\n",
    "\n",
    "bx tx-encode \\\n",
    "-i d6c4f5ea730a5e35ef126510a5542b01b7013d7601a5d741301348ef3cfae870:1:4294967295 \\\n",
    "-o 04fa211500b17576a91442a8bcd5f61fa17adbe800de6382f24bd1db0d7f88ac:129999300"
   ]
  },
  {
   "cell_type": "markdown",
   "metadata": {},
   "source": [
    "Note: The input script field is initialised with `[00]`"
   ]
  },
  {
   "cell_type": "markdown",
   "metadata": {},
   "source": [
    "Create Endorsement:\n",
    "bx input-sign [privKey][prevOutScript][tx]"
   ]
  },
  {
   "cell_type": "markdown",
   "metadata": {},
   "source": [
    "### 3) Endorsing the transaction\n",
    "\n",
    "**3.1) Signing the transaction with the private key**\n",
    "* Transaction is signed with `previous output script` set in the `input script field`\n",
    "* `bx input-sign` `[private key]` `[\"previous output script\"]` `[encoded transaction]`\n",
    "    * Outputs DER encoded signature"
   ]
  },
  {
   "cell_type": "code",
   "execution_count": 180,
   "metadata": {},
   "outputs": [
    {
     "name": "stdout",
     "output_type": "stream",
     "text": [
      "3045022100987522f31b627a5af943bba86be002fa980841a2b4796964c50fa6009cc44bd502202a0ccf99a93d33055dff5586898b3ca1733889f1ee322ec5f01363cb796491c501\n"
     ]
    }
   ],
   "source": [
    "%%bash\n",
    "# bx input-sign \\\n",
    "# [private key] \\\n",
    "# \"previous output script\" \\\n",
    "# encoded transaction (empty input script)\n",
    "\n",
    "bx input-sign \\\n",
    "e60c1ee5fb938aa041c15594b0df6ffbedbfc33e4aaf231b7eb4dbf18c464d8e \\\n",
    "\"dup hash160 [42a8bcd5f61fa17adbe800de6382f24bd1db0d7f] equalverify checksig\" \\\n",
    "010000000170e8fa3cef48133041d7a501763d01b7012b54a5106512ef355e0a73eaf5c4d60100000000ffffffff01c4a1bf07000000002004fa211500b17576a91442a8bcd5f61fa17adbe800de6382f24bd1db0d7f88ac00000000"
   ]
  },
  {
   "cell_type": "markdown",
   "metadata": {},
   "source": [
    "**3.2) Set the input script into the finalised transaction**\n",
    "* The input script for the previous p2pkh output script is `[endorsement]` `[public key]`\n",
    "* `bx input-set` `\"input script\"` `[encoded transaction]`"
   ]
  },
  {
   "cell_type": "code",
   "execution_count": 140,
   "metadata": {},
   "outputs": [
    {
     "name": "stdout",
     "output_type": "stream",
     "text": [
      "010000000170e8fa3cef48133041d7a501763d01b7012b54a5106512ef355e0a73eaf5c4d6010000006b483045022100987522f31b627a5af943bba86be002fa980841a2b4796964c50fa6009cc44bd502202a0ccf99a93d33055dff5586898b3ca1733889f1ee322ec5f01363cb796491c5012102e1af2f9086e95728bc3c768ee3e83ab81dd1841b92e281caa9f92501fd9b2b31ffffffff01c4a1bf07000000002004fa211500b17576a91442a8bcd5f61fa17adbe800de6382f24bd1db0d7f88ac00000000\n"
     ]
    }
   ],
   "source": [
    "%%bash\n",
    "# bx input-set \\\n",
    "# \"input script\" \\\n",
    "# [previous output script] \\\n",
    "\n",
    "bx input-set \\\n",
    "\"[3045022100987522f31b627a5af943bba86be002fa980841a2b4796964c50fa6009cc44bd502202a0ccf99a93d33055dff5586898b3ca1733889f1ee322ec5f01363cb796491c501] [02e1af2f9086e95728bc3c768ee3e83ab81dd1841b92e281caa9f92501fd9b2b31]\" \n",
    "010000000170e8fa3cef48133041d7a501763d01b7012b54a5106512ef355e0a73eaf5c4d60100000000ffffffff01c4a1bf07000000002004fa211500b17576a91442a8bcd5f61fa17adbe800de6382f24bd1db0d7f88ac00000000"
   ]
  },
  {
   "cell_type": "markdown",
   "metadata": {},
   "source": [
    "**3.3) Validate the finalised transaction**\n",
    "* `bx validate-tx` `[encoded transaction]`"
   ]
  },
  {
   "cell_type": "code",
   "execution_count": 139,
   "metadata": {},
   "outputs": [
    {
     "name": "stderr",
     "output_type": "stream",
     "text": [
      "matching transaction with unspent outputs\n"
     ]
    }
   ],
   "source": [
    "%%bash\n",
    "\n",
    "bx validate-tx \\\n",
    "010000000170e8fa3cef48133041d7a501763d01b7012b54a5106512ef355e0a73eaf5c4d6010000006b483045022100987522f31b627a5af943bba86be002fa980841a2b4796964c50fa6009cc44bd502202a0ccf99a93d33055dff5586898b3ca1733889f1ee322ec5f01363cb796491c5012102e1af2f9086e95728bc3c768ee3e83ab81dd1841b92e281caa9f92501fd9b2b31ffffffff01c4a1bf07000000002004fa211500b17576a91442a8bcd5f61fa17adbe800de6382f24bd1db0d7f88ac00000000"
   ]
  },
  {
   "cell_type": "code",
   "execution_count": 1,
   "metadata": {},
   "outputs": [
    {
     "name": "stdout",
     "output_type": "stream",
     "text": [
      "\"918c9e1acf52698ea328df65c134ba1c5fdd119aea476ca6b934bbd03a6e3596\"\n"
     ]
    }
   ],
   "source": [
    "%%bash\n",
    "bx tx-decode -f json \\\n",
    "010000000170e8fa3cef48133041d7a501763d01b7012b54a5106512ef355e0a73eaf5c4d6010000006b483045022100987522f31b627a5af943bba86be002fa980841a2b4796964c50fa6009cc44bd502202a0ccf99a93d33055dff5586898b3ca1733889f1ee322ec5f01363cb796491c5012102e1af2f9086e95728bc3c768ee3e83ab81dd1841b92e281caa9f92501fd9b2b31ffffffff01c4a1bf07000000002004fa211500b17576a91442a8bcd5f61fa17adbe800de6382f24bd1db0d7f88ac00000000 \\\n",
    "|jq \".transaction.hash\""
   ]
  },
  {
   "cell_type": "markdown",
   "metadata": {},
   "source": [
    "**3.4) Broadcast transaction with CLTV encumbered output**\n",
    "* `bx send-tx` `[encoded transaction]`"
   ]
  },
  {
   "cell_type": "code",
   "execution_count": 2,
   "metadata": {},
   "outputs": [
    {
     "name": "stderr",
     "output_type": "stream",
     "text": [
      "matching transaction with unspent outputs\n"
     ]
    }
   ],
   "source": [
    "%%bash\n",
    "\n",
    "bx send-tx \\\n",
    "010000000170e8fa3cef48133041d7a501763d01b7012b54a5106512ef355e0a73eaf5c4d6010000006b483045022100987522f31b627a5af943bba86be002fa980841a2b4796964c50fa6009cc44bd502202a0ccf99a93d33055dff5586898b3ca1733889f1ee322ec5f01363cb796491c5012102e1af2f9086e95728bc3c768ee3e83ab81dd1841b92e281caa9f92501fd9b2b31ffffffff01c4a1bf07000000002004fa211500b17576a91442a8bcd5f61fa17adbe800de6382f24bd1db0d7f88ac00000000"
   ]
  },
  {
   "cell_type": "markdown",
   "metadata": {},
   "source": [
    "<hr style=\"border: 0.5px dashed #000;\">\n",
    "\n",
    "## Spend CLTV encumbered UXTO"
   ]
  },
  {
   "cell_type": "markdown",
   "metadata": {},
   "source": [
    "### 4) Encode CLTV spending transaction\n",
    "**4.1) Encode p2pkh output script**"
   ]
  },
  {
   "cell_type": "code",
   "execution_count": 3,
   "metadata": {},
   "outputs": [
    {
     "name": "stdout",
     "output_type": "stream",
     "text": [
      "7576a91442a8bcd5f61fa17adbe800de6382f24bd1db0d7f88ac\r\n"
     ]
    }
   ],
   "source": [
    "!bx script-encode \"DROP DUP HASH160 [42a8bcd5f61fa17adbe800de6382f24bd1db0d7f] EQUALVERIFY CHECKSIG\""
   ]
  },
  {
   "cell_type": "markdown",
   "metadata": {},
   "source": [
    "**4.2) Encode transaction with locktime & set input sequence**<br>\n",
    "* Reference Previous Outpoint<br>\n",
    "* Transaction locktime field must be `>=` locktime in CLTV output being spent.\n",
    "* Input sequence msut be less than maximum, so `fffffffe`/`4294967294`"
   ]
  },
  {
   "cell_type": "code",
   "execution_count": 4,
   "metadata": {},
   "outputs": [
    {
     "name": "stdout",
     "output_type": "stream",
     "text": [
      "010000000196356e3ad0bb34b9a66c47ea9a11dd5f1cba34c165df28a38e6952cf1a9e8c910000000000feffffff01089fbf07000000001a7576a91442a8bcd5f61fa17adbe800de6382f24bd1db0d7f88ac08221500\n"
     ]
    }
   ],
   "source": [
    "%%bash\n",
    "bx tx-encode \\\n",
    "-l 1384968 \\\n",
    "-i 918c9e1acf52698ea328df65c134ba1c5fdd119aea476ca6b934bbd03a6e3596:0:4294967294 \\\n",
    "-o 7576a91442a8bcd5f61fa17adbe800de6382f24bd1db0d7f88ac:129998600\n"
   ]
  },
  {
   "cell_type": "markdown",
   "metadata": {},
   "source": [
    "### 5) Endorse CLTV spending transaction\n",
    "**5.1) Sign transaction (empty input script)**"
   ]
  },
  {
   "cell_type": "code",
   "execution_count": 5,
   "metadata": {},
   "outputs": [
    {
     "name": "stdout",
     "output_type": "stream",
     "text": [
      "3045022100c7a966f9eba206a6a59220defb4dc1801171bf5be00dff9fa5f5244e7678ed900220055a61e6e9b100eb57238fb6e7a214dbb53a1e459617c6ba48c71daacd6b0cc101\n"
     ]
    }
   ],
   "source": [
    "%%bash \n",
    "bx input-sign e60c1ee5fb938aa041c15594b0df6ffbedbfc33e4aaf231b7eb4dbf18c464d8e \\\n",
    "\"[fa211500] CHECKLOCKTIMEVERIFY DROP DUP HASH160 [42a8bcd5f61fa17adbe800de6382f24bd1db0d7f] EQUALVERIFY CHECKSIG\" \\\n",
    "010000000196356e3ad0bb34b9a66c47ea9a11dd5f1cba34c165df28a38e6952cf1a9e8c910000000000feffffff01089fbf07000000001a7576a91442a8bcd5f61fa17adbe800de6382f24bd1db0d7f88ac08221500"
   ]
  },
  {
   "cell_type": "markdown",
   "metadata": {},
   "source": [
    "**5.2) Set endorsement into final transaction**"
   ]
  },
  {
   "cell_type": "code",
   "execution_count": 6,
   "metadata": {},
   "outputs": [
    {
     "name": "stdout",
     "output_type": "stream",
     "text": [
      "010000000196356e3ad0bb34b9a66c47ea9a11dd5f1cba34c165df28a38e6952cf1a9e8c91000000006b483045022100c7a966f9eba206a6a59220defb4dc1801171bf5be00dff9fa5f5244e7678ed900220055a61e6e9b100eb57238fb6e7a214dbb53a1e459617c6ba48c71daacd6b0cc1012102e1af2f9086e95728bc3c768ee3e83ab81dd1841b92e281caa9f92501fd9b2b31feffffff01089fbf07000000001a7576a91442a8bcd5f61fa17adbe800de6382f24bd1db0d7f88ac08221500\n"
     ]
    }
   ],
   "source": [
    "%%bash\n",
    "bx input-set \"[3045022100c7a966f9eba206a6a59220defb4dc1801171bf5be00dff9fa5f5244e7678ed900220055a61e6e9b100eb57238fb6e7a214dbb53a1e459617c6ba48c71daacd6b0cc101] [02e1af2f9086e95728bc3c768ee3e83ab81dd1841b92e281caa9f92501fd9b2b31]\" \\\n",
    "010000000196356e3ad0bb34b9a66c47ea9a11dd5f1cba34c165df28a38e6952cf1a9e8c910000000000feffffff01089fbf07000000001a7576a91442a8bcd5f61fa17adbe800de6382f24bd1db0d7f88ac08221500\n"
   ]
  },
  {
   "cell_type": "markdown",
   "metadata": {},
   "source": [
    "**5.3) Validate the finalised transaction**"
   ]
  },
  {
   "cell_type": "code",
   "execution_count": 1,
   "metadata": {},
   "outputs": [
    {
     "name": "stdout",
     "output_type": "stream",
     "text": [
      "bash: fg: %%bash: no such job\n",
      "matching transaction with unspent outputs\n"
     ]
    },
    {
     "ename": "",
     "evalue": "255",
     "output_type": "error",
     "traceback": []
    }
   ],
   "source": [
    "%%bash\n",
    "bx validate-tx \\\n",
    "010000000196356e3ad0bb34b9a66c47ea9a11dd5f1cba34c165df28a38e6952cf1a9e8c91000000006b483045022100c7a966f9eba206a6a59220defb4dc1801171bf5be00dff9fa5f5244e7678ed900220055a61e6e9b100eb57238fb6e7a214dbb53a1e459617c6ba48c71daacd6b0cc1012102e1af2f9086e95728bc3c768ee3e83ab81dd1841b92e281caa9f92501fd9b2b31feffffff01089fbf07000000001a7576a91442a8bcd5f61fa17adbe800de6382f24bd1db0d7f88ac08221500"
   ]
  },
  {
   "cell_type": "code",
   "execution_count": null,
   "metadata": {},
   "outputs": [],
   "source": []
  }
 ],
 "metadata": {
  "kernelspec": {
   "display_name": "Bash",
   "language": "bash",
   "name": "bash"
  },
  "language_info": {
   "codemirror_mode": "shell",
   "file_extension": ".sh",
   "mimetype": "text/x-sh",
   "name": "bash"
  }
 },
 "nbformat": 4,
 "nbformat_minor": 2
}
