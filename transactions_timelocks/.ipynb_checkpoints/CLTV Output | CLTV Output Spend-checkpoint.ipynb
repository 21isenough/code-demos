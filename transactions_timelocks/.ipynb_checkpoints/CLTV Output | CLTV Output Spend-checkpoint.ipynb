{
 "cells": [
  {
   "cell_type": "markdown",
   "metadata": {},
   "source": [
    "# Libbitcoin BX: Transactions with absolute locktime.\n",
    "In this BX tutorial, we will send funds to a `checklocktimeverify` encumbered output, and spend this after the absolute locktime has expired.\n",
    "<img src=\"images/cltv_overview.jpg\" alt=\"drawing\" style=\"\" width=\"700px\"/>"
   ]
  },
  {
   "cell_type": "markdown",
   "metadata": {},
   "source": [
    "<hr style=\"border: 0.5px dashed #000;\">\n",
    "\n",
    "## 1) Setup wallet and test funds\n",
    "### 1.1) Generate private/public key pair\n",
    "#### 1.1.1) New private key"
   ]
  },
  {
   "cell_type": "code",
   "execution_count": 1,
   "metadata": {},
   "outputs": [
    {
     "name": "stdout",
     "output_type": "stream",
     "text": [
      "84677322ca7a52a103ec8f1cae4b9910564e645521cc4cff189dee5a8ec98029\n"
     ]
    }
   ],
   "source": [
    "bx seed | bx ec-new"
   ]
  },
  {
   "cell_type": "markdown",
   "metadata": {},
   "source": [
    "#### 1.1.2) Save your private key"
   ]
  },
  {
   "cell_type": "code",
   "execution_count": 2,
   "metadata": {},
   "outputs": [
    {
     "name": "stdout",
     "output_type": "stream",
     "text": [
      "e60c1ee5fb938aa041c15594b0df6ffbedbfc33e4aaf231b7eb4dbf18c464d8e\n"
     ]
    }
   ],
   "source": [
    "echo e60c1ee5fb938aa041c15594b0df6ffbedbfc33e4aaf231b7eb4dbf18c464d8e"
   ]
  },
  {
   "cell_type": "markdown",
   "metadata": {},
   "source": [
    "#### 1.1.3) Derive public key<br>"
   ]
  },
  {
   "cell_type": "code",
   "execution_count": 3,
   "metadata": {},
   "outputs": [
    {
     "name": "stdout",
     "output_type": "stream",
     "text": [
      "02e1af2f9086e95728bc3c768ee3e83ab81dd1841b92e281caa9f92501fd9b2b31\n"
     ]
    }
   ],
   "source": [
    "bx ec-to-public e60c1ee5fb938aa041c15594b0df6ffbedbfc33e4aaf231b7eb4dbf18c464d8e"
   ]
  },
  {
   "cell_type": "markdown",
   "metadata": {},
   "source": [
    "#### 1.1.4) Derive public key hash"
   ]
  },
  {
   "cell_type": "code",
   "execution_count": 4,
   "metadata": {},
   "outputs": [
    {
     "name": "stdout",
     "output_type": "stream",
     "text": [
      "42a8bcd5f61fa17adbe800de6382f24bd1db0d7f\n"
     ]
    }
   ],
   "source": [
    "bx sha256 02e1af2f9086e95728bc3c768ee3e83ab81dd1841b92e281caa9f92501fd9b2b31 | bx ripemd160"
   ]
  },
  {
   "cell_type": "markdown",
   "metadata": {},
   "source": [
    "### 1.2) Derive testnet address\n",
    "Add version prefix for mainnet/testnet<br>\n",
    "* `6f` in hex\n",
    "* `111` in decimal\n",
    "\n",
    "And base58 encode result"
   ]
  },
  {
   "cell_type": "code",
   "execution_count": 5,
   "metadata": {},
   "outputs": [
    {
     "name": "stdout",
     "output_type": "stream",
     "text": [
      "mmbR2p2QQULJBKBHoEFYDByjdSV9WhKJ3Q\n"
     ]
    }
   ],
   "source": [
    "bx wrap-encode -v 111 42a8bcd5f61fa17adbe800de6382f24bd1db0d7f \\\n",
    "| bx base58-encode\n"
   ]
  },
  {
   "cell_type": "markdown",
   "metadata": {},
   "source": [
    "### 1.3) Send test coins funds to your testnet address\n",
    "Note your spendable p2pkh UXTO's below..."
   ]
  },
  {
   "cell_type": "markdown",
   "metadata": {},
   "source": [
    "* UXTO 0: \n",
    "    * TXID: `d6c4f5ea730a5e35ef126510a5542b01b7013d7601a5d741301348ef3cfae870`<br>\n",
    "    * Index: `1`\n",
    "    * Amount: `130000000`\n",
    "* UXTO 1: \n",
    "    * TXID: `a9a02b38c5b2513226c9a22bd636d35b7fcff87ace084a9893c22838fe2e8d94`<br>\n",
    "    * Index: `1`\n",
    "    * Amount: ``"
   ]
  },
  {
   "cell_type": "markdown",
   "metadata": {},
   "source": [
    "<hr style=\"border: 0.5px dashed #000;\">\n",
    "\n",
    "## 2) Spending to a CLTV encumbered output<br>\n",
    "<img src=\"images/spend_to_cltv.jpg\" alt=\"drawing\" style=\"\" width=\"700px\"/>\n",
    "\n",
    "### 2.1) Build transaction with CLTV encumbered output for signing\n",
    "\n",
    "#### 2.1.1) Determine absolute locktime in blockheight\n",
    "* `$ bx fetch-height`\n",
    "* `$ expr [current blockheight] + [delay in blocks]`.\n",
    "* Encode locktime in hex (little endian)"
   ]
  },
  {
   "cell_type": "code",
   "execution_count": 6,
   "metadata": {},
   "outputs": [
    {
     "name": "stdout",
     "output_type": "stream",
     "text": [
      "1407354\n"
     ]
    }
   ],
   "source": [
    "bx fetch-height "
   ]
  },
  {
   "cell_type": "code",
   "execution_count": 7,
   "metadata": {},
   "outputs": [
    {
     "name": "stdout",
     "output_type": "stream",
     "text": [
      "1384968\n"
     ]
    }
   ],
   "source": [
    "expr 1384964 + 4"
   ]
  },
  {
   "cell_type": "code",
   "execution_count": 8,
   "metadata": {},
   "outputs": [
    {
     "name": "stdout",
     "output_type": "stream",
     "text": [
      "152208\n"
     ]
    }
   ],
   "source": [
    "printf '%x\\n' 1384968"
   ]
  },
  {
   "cell_type": "markdown",
   "metadata": {},
   "source": [
    "**Note:** Don't forget to flip byte-order (4-Bytes) above for output script below."
   ]
  },
  {
   "cell_type": "markdown",
   "metadata": {},
   "source": [
    "#### 2.1.2) Encode CLTV-encumbered P2PKH output script\n",
    "* **`[locktime]`**\n",
    "* **`CHECKLOCKTIMEVERIFY`**\n",
    "* `DROP`\n",
    "* `DUP`\n",
    "* `HASH160`\n",
    "* `[public key hash]`\n",
    "* `EQUALVERIFY`\n",
    "* `CHECKSIG`"
   ]
  },
  {
   "cell_type": "code",
   "execution_count": 1,
   "metadata": {},
   "outputs": [
    {
     "name": "stdout",
     "output_type": "stream",
     "text": [
      "0408221500b17576a91442a8bcd5f61fa17adbe800de6382f24bd1db0d7f88ac\n"
     ]
    }
   ],
   "source": [
    "bx script-encode \\\n",
    "\"[08221500] CHECKLOCKTIMEVERIFY DROP DUP HASH160 [42a8bcd5f61fa17adbe800de6382f24bd1db0d7f] EQUALVERIFY CHECKSIG\""
   ]
  },
  {
   "cell_type": "markdown",
   "metadata": {},
   "source": [
    "#### 2.1.3) Encode output amount\n",
    "* Assume `700 satoshi` transaction fee\n",
    "* Output amount = `[UXTO spendable amount]`-`700`"
   ]
  },
  {
   "cell_type": "code",
   "execution_count": 10,
   "metadata": {},
   "outputs": [
    {
     "name": "stdout",
     "output_type": "stream",
     "text": [
      "129999300\n"
     ]
    }
   ],
   "source": [
    "expr 130000000 - 700"
   ]
  },
  {
   "cell_type": "markdown",
   "metadata": {},
   "source": [
    "#### 2.1.4) Encode transaction for signing\n",
    "* `bx tx-encode -i [prevout txid:index:sequence] -o [output script:amount]`\n",
    "* Input sequence defaults to `ffffffff`/`4294967295`"
   ]
  },
  {
   "cell_type": "code",
   "execution_count": 11,
   "metadata": {},
   "outputs": [
    {
     "name": "stdout",
     "output_type": "stream",
     "text": [
      "010000000170e8fa3cef48133041d7a501763d01b7012b54a5106512ef355e0a73eaf5c4d60100000000ffffffff01c4a1bf07000000002004fa211500b17576a91442a8bcd5f61fa17adbe800de6382f24bd1db0d7f88ac00000000\n"
     ]
    }
   ],
   "source": [
    "bx tx-encode \\\n",
    "-i d6c4f5ea730a5e35ef126510a5542b01b7013d7601a5d741301348ef3cfae870:1:4294967295 \\\n",
    "-o 04fa211500b17576a91442a8bcd5f61fa17adbe800de6382f24bd1db0d7f88ac:129999300"
   ]
  },
  {
   "cell_type": "markdown",
   "metadata": {},
   "source": [
    "### 2.2) Building the input script\n",
    "\n",
    "#### 2.2.1) Signing the transaction with the private key\n",
    "* `bx fetch-tx` previous output script\n",
    "* `bx input-sign` `[private key]` `[\"previous output script\"]` `[encoded transaction]`\n",
    "    * Outputs DER encoded signature"
   ]
  },
  {
   "cell_type": "code",
   "execution_count": 12,
   "metadata": {},
   "outputs": [
    {
     "name": "stdout",
     "output_type": "stream",
     "text": [
      "\u001b[0;32m\"dup hash160 [42a8bcd5f61fa17adbe800de6382f24bd1db0d7f] equalverify checksig\"\u001b[0m\n"
     ]
    }
   ],
   "source": [
    "bx fetch-tx -f json d6c4f5ea730a5e35ef126510a5542b01b7013d7601a5d741301348ef3cfae870 \\\n",
    "| jq \".transaction.outputs[1].script\""
   ]
  },
  {
   "cell_type": "code",
   "execution_count": 13,
   "metadata": {},
   "outputs": [
    {
     "name": "stdout",
     "output_type": "stream",
     "text": [
      "3045022100987522f31b627a5af943bba86be002fa980841a2b4796964c50fa6009cc44bd502202a0ccf99a93d33055dff5586898b3ca1733889f1ee322ec5f01363cb796491c501\n"
     ]
    }
   ],
   "source": [
    "bx input-sign \\\n",
    "e60c1ee5fb938aa041c15594b0df6ffbedbfc33e4aaf231b7eb4dbf18c464d8e \\\n",
    "\"dup hash160 [42a8bcd5f61fa17adbe800de6382f24bd1db0d7f] equalverify checksig\" \\\n",
    "010000000170e8fa3cef48133041d7a501763d01b7012b54a5106512ef355e0a73eaf5c4d60100000000ffffffff01c4a1bf07000000002004fa211500b17576a91442a8bcd5f61fa17adbe800de6382f24bd1db0d7f88ac00000000"
   ]
  },
  {
   "cell_type": "markdown",
   "metadata": {},
   "source": [
    "#### 2.2.2) Set the input script into the finalised transaction\n",
    "* The input script to spend the previous p2pkh output script is `[endorsement]` `[public key]`\n",
    "* `bx input-set` `\"input script\"` `[encoded transaction]`"
   ]
  },
  {
   "cell_type": "code",
   "execution_count": 14,
   "metadata": {},
   "outputs": [
    {
     "name": "stdout",
     "output_type": "stream",
     "text": [
      "010000000170e8fa3cef48133041d7a501763d01b7012b54a5106512ef355e0a73eaf5c4d6010000006b483045022100987522f31b627a5af943bba86be002fa980841a2b4796964c50fa6009cc44bd502202a0ccf99a93d33055dff5586898b3ca1733889f1ee322ec5f01363cb796491c5012102e1af2f9086e95728bc3c768ee3e83ab81dd1841b92e281caa9f92501fd9b2b31ffffffff01c4a1bf07000000002004fa211500b17576a91442a8bcd5f61fa17adbe800de6382f24bd1db0d7f88ac00000000\n"
     ]
    }
   ],
   "source": [
    "bx input-set \\\n",
    "\"[3045022100987522f31b627a5af943bba86be002fa980841a2b4796964c50fa6009cc44bd502202a0ccf99a93d33055dff5586898b3ca1733889f1ee322ec5f01363cb796491c501] [02e1af2f9086e95728bc3c768ee3e83ab81dd1841b92e281caa9f92501fd9b2b31]\" \\\n",
    "010000000170e8fa3cef48133041d7a501763d01b7012b54a5106512ef355e0a73eaf5c4d60100000000ffffffff01c4a1bf07000000002004fa211500b17576a91442a8bcd5f61fa17adbe800de6382f24bd1db0d7f88ac00000000"
   ]
  },
  {
   "cell_type": "markdown",
   "metadata": {},
   "source": [
    "### 2.3) Validate & Broadcast the endorsed transaction\n",
    "* `bx validate-tx` `[encoded transaction]`\n",
    "* `bx tx-decode -f json` `[encoded transaction]` | `jq \".transaction.hash\"`"
   ]
  },
  {
   "cell_type": "code",
   "execution_count": 15,
   "metadata": {},
   "outputs": [
    {
     "name": "stdout",
     "output_type": "stream",
     "text": [
      "matching transaction with unspent outputs\n"
     ]
    },
    {
     "ename": "",
     "evalue": "255",
     "output_type": "error",
     "traceback": []
    }
   ],
   "source": [
    "bx validate-tx \\\n",
    "010000000170e8fa3cef48133041d7a501763d01b7012b54a5106512ef355e0a73eaf5c4d6010000006b483045022100987522f31b627a5af943bba86be002fa980841a2b4796964c50fa6009cc44bd502202a0ccf99a93d33055dff5586898b3ca1733889f1ee322ec5f01363cb796491c5012102e1af2f9086e95728bc3c768ee3e83ab81dd1841b92e281caa9f92501fd9b2b31ffffffff01c4a1bf07000000002004fa211500b17576a91442a8bcd5f61fa17adbe800de6382f24bd1db0d7f88ac00000000"
   ]
  },
  {
   "cell_type": "code",
   "execution_count": null,
   "metadata": {},
   "outputs": [],
   "source": [
    "bx tx-decode -f json \\\n",
    "010000000170e8fa3cef48133041d7a501763d01b7012b54a5106512ef355e0a73eaf5c4d6010000006b483045022100987522f31b627a5af943bba86be002fa980841a2b4796964c50fa6009cc44bd502202a0ccf99a93d33055dff5586898b3ca1733889f1ee322ec5f01363cb796491c5012102e1af2f9086e95728bc3c768ee3e83ab81dd1841b92e281caa9f92501fd9b2b31ffffffff01c4a1bf07000000002004fa211500b17576a91442a8bcd5f61fa17adbe800de6382f24bd1db0d7f88ac00000000 \\\n",
    "|jq \".transaction.hash\""
   ]
  },
  {
   "cell_type": "code",
   "execution_count": null,
   "metadata": {},
   "outputs": [],
   "source": [
    "bx send-tx 010000000170e8fa3cef48133041d7a501763d01b7012b54a5106512ef355e0a73eaf5c4d6010000006b483045022100987522f31b627a5af943bba86be002fa980841a2b4796964c50fa6009cc44bd502202a0ccf99a93d33055dff5586898b3ca1733889f1ee322ec5f01363cb796491c5012102e1af2f9086e95728bc3c768ee3e83ab81dd1841b92e281caa9f92501fd9b2b31ffffffff01c4a1bf07000000002004fa211500b17576a91442a8bcd5f61fa17adbe800de6382f24bd1db0d7f88ac00000000"
   ]
  },
  {
   "cell_type": "markdown",
   "metadata": {},
   "source": [
    "<hr style=\"border: 0.5px dashed #000;\">\n",
    "\n",
    "## 3) Spend the CLTV encumbered UXTO\n",
    "\n",
    "<img src=\"images/spend_from_cltv.jpg\" alt=\"drawing\" style=\"\" width=\"700px\"/>\n",
    "\n",
    "### 3.1) Build transaction with activated locktime for signing"
   ]
  },
  {
   "cell_type": "markdown",
   "metadata": {},
   "source": [
    "#### 3.1.1) Encode p2pkh output script"
   ]
  },
  {
   "cell_type": "code",
   "execution_count": 3,
   "metadata": {},
   "outputs": [
    {
     "name": "stdout",
     "output_type": "stream",
     "text": [
      "76a91442a8bcd5f61fa17adbe800de6382f24bd1db0d7f88ac\n"
     ]
    }
   ],
   "source": [
    "bx script-encode \"DUP HASH160 [42a8bcd5f61fa17adbe800de6382f24bd1db0d7f] EQUALVERIFY CHECKSIG\""
   ]
  },
  {
   "cell_type": "markdown",
   "metadata": {},
   "source": [
    "**3.1.2) Encode transaction with locktime & set input sequence**<br>\n",
    "* Reference Previous Outpoint<br>\n",
    "* Transaction locktime field must be `>=` locktime in CLTV output being spent.\n",
    "* Input sequence msut be less than maximum, so `fffffffe`/`4294967294`"
   ]
  },
  {
   "cell_type": "code",
   "execution_count": null,
   "metadata": {},
   "outputs": [],
   "source": [
    "bx tx-encode \\\n",
    "-l 1384968 \\\n",
    "-i 918c9e1acf52698ea328df65c134ba1c5fdd119aea476ca6b934bbd03a6e3596:0:4294967294 \\\n",
    "-o 7576a91442a8bcd5f61fa17adbe800de6382f24bd1db0d7f88ac:129998600\n"
   ]
  },
  {
   "cell_type": "markdown",
   "metadata": {},
   "source": [
    "### 3.2) Building the input script\n",
    "\n",
    "#### 3.2.1)  Signing the transaction with the private key\n",
    "* `bx fetch-tx` previous output script\n",
    "* `bx input-sign` `[private key]` `[\"previous output script\"]` `[encoded transaction]`\n",
    "    * Outputs DER encoded signature"
   ]
  },
  {
   "cell_type": "code",
   "execution_count": null,
   "metadata": {},
   "outputs": [],
   "source": [
    "bx fetch-tx -f json 918c9e1acf52698ea328df65c134ba1c5fdd119aea476ca6b934bbd03a6e3596 \\\n",
    "| jq \".transaction.outputs[0].script\""
   ]
  },
  {
   "cell_type": "code",
   "execution_count": null,
   "metadata": {},
   "outputs": [],
   "source": [
    "bx input-sign e60c1ee5fb938aa041c15594b0df6ffbedbfc33e4aaf231b7eb4dbf18c464d8e \\\n",
    "\"[fa211500] CHECKLOCKTIMEVERIFY DROP DUP HASH160 [42a8bcd5f61fa17adbe800de6382f24bd1db0d7f] EQUALVERIFY CHECKSIG\" \\\n",
    "010000000196356e3ad0bb34b9a66c47ea9a11dd5f1cba34c165df28a38e6952cf1a9e8c910000000000feffffff01089fbf07000000001a7576a91442a8bcd5f61fa17adbe800de6382f24bd1db0d7f88ac08221500\n"
   ]
  },
  {
   "cell_type": "markdown",
   "metadata": {},
   "source": [
    "#### 3.2.2) Set the input script into the finalised transaction"
   ]
  },
  {
   "cell_type": "code",
   "execution_count": null,
   "metadata": {},
   "outputs": [],
   "source": [
    "bx input-set \"[3045022100c7a966f9eba206a6a59220defb4dc1801171bf5be00dff9fa5f5244e7678ed900220055a61e6e9b100eb57238fb6e7a214dbb53a1e459617c6ba48c71daacd6b0cc101] [02e1af2f9086e95728bc3c768ee3e83ab81dd1841b92e281caa9f92501fd9b2b31]\" \\\n",
    "010000000196356e3ad0bb34b9a66c47ea9a11dd5f1cba34c165df28a38e6952cf1a9e8c910000000000feffffff01089fbf07000000001a7576a91442a8bcd5f61fa17adbe800de6382f24bd1db0d7f88ac08221500\n"
   ]
  },
  {
   "cell_type": "markdown",
   "metadata": {},
   "source": [
    "### 3.3) Validate & Broadcast the endorsed transaction\n",
    "* `bx validate-tx` `[encoded transaction]`\n",
    "* Get TXID: `bx tx-decode -f json` `[encoded transaction]` | `jq \".transaction.hash\"`\n",
    "* `bx send-tx` `[encoded transaction]`"
   ]
  },
  {
   "cell_type": "code",
   "execution_count": null,
   "metadata": {},
   "outputs": [],
   "source": [
    "bx validate-tx \\\n",
    "010000000196356e3ad0bb34b9a66c47ea9a11dd5f1cba34c165df28a38e6952cf1a9e8c91000000006b483045022100c7a966f9eba206a6a59220defb4dc1801171bf5be00dff9fa5f5244e7678ed900220055a61e6e9b100eb57238fb6e7a214dbb53a1e459617c6ba48c71daacd6b0cc1012102e1af2f9086e95728bc3c768ee3e83ab81dd1841b92e281caa9f92501fd9b2b31feffffff01089fbf07000000001a7576a91442a8bcd5f61fa17adbe800de6382f24bd1db0d7f88ac08221500\n"
   ]
  },
  {
   "cell_type": "code",
   "execution_count": null,
   "metadata": {},
   "outputs": [],
   "source": [
    "bx tx-decode -f json \\\n",
    "010000000196356e3ad0bb34b9a66c47ea9a11dd5f1cba34c165df28a38e6952cf1a9e8c91000000006b483045022100c7a966f9eba206a6a59220defb4dc1801171bf5be00dff9fa5f5244e7678ed900220055a61e6e9b100eb57238fb6e7a214dbb53a1e459617c6ba48c71daacd6b0cc1012102e1af2f9086e95728bc3c768ee3e83ab81dd1841b92e281caa9f92501fd9b2b31feffffff01089fbf07000000001a7576a91442a8bcd5f61fa17adbe800de6382f24bd1db0d7f88ac08221500 \\\n",
    "| `jq \".transaction.hash\"`\n"
   ]
  }
 ],
 "metadata": {
  "kernelspec": {
   "display_name": "Bash",
   "language": "bash",
   "name": "bash"
  },
  "language_info": {
   "codemirror_mode": "shell",
   "file_extension": ".sh",
   "mimetype": "text/x-sh",
   "name": "bash"
  }
 },
 "nbformat": 4,
 "nbformat_minor": 2
}
