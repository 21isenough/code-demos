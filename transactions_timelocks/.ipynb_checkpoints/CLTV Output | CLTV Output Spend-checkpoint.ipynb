{
 "cells": [
  {
   "cell_type": "markdown",
   "metadata": {},
   "source": [
    "# Libbitcoin BX: Transactions with absolute locktime.\n",
    "In this BX tutorial, we will send funds to a `checklocktimeverify` encumbered output, and spend this after the absolute locktime has expired.\n",
    "<img src=\"images/cltv_overview.jpg\" alt=\"drawing\" style=\"\" width=\"700px\"/>"
   ]
  },
  {
   "cell_type": "markdown",
   "metadata": {},
   "source": [
    "<hr style=\"border: 0.5px dashed #000;\">\n",
    "\n",
    "## 1) Setup wallet and test funds\n",
    "### 1.1) Generate private/public key pair\n",
    "#### 1.1.1) New private key"
   ]
  },
  {
   "cell_type": "code",
   "execution_count": 1,
   "metadata": {},
   "outputs": [
    {
     "name": "stdout",
     "output_type": "stream",
     "text": [
      "84677322ca7a52a103ec8f1cae4b9910564e645521cc4cff189dee5a8ec98029\n"
     ]
    }
   ],
   "source": [
    "bx seed | bx ec-new"
   ]
  },
  {
   "cell_type": "markdown",
   "metadata": {},
   "source": [
    "#### 1.1.2) Save your private key"
   ]
  },
  {
   "cell_type": "code",
   "execution_count": 41,
   "metadata": {},
   "outputs": [
    {
     "name": "stdout",
     "output_type": "stream",
     "text": [
      "e60c1ee5fb938aa041c15594b0df6ffbedbfc33e4aaf231b7eb4dbf18c464d8e\n"
     ]
    }
   ],
   "source": [
    "echo e60c1ee5fb938aa041c15594b0df6ffbedbfc33e4aaf231b7eb4dbf18c464d8e"
   ]
  },
  {
   "cell_type": "markdown",
   "metadata": {},
   "source": [
    "#### 1.1.3) Derive public key<br>"
   ]
  },
  {
   "cell_type": "code",
   "execution_count": 42,
   "metadata": {},
   "outputs": [
    {
     "name": "stdout",
     "output_type": "stream",
     "text": [
      "02e1af2f9086e95728bc3c768ee3e83ab81dd1841b92e281caa9f92501fd9b2b31\n"
     ]
    }
   ],
   "source": [
    "bx ec-to-public e60c1ee5fb938aa041c15594b0df6ffbedbfc33e4aaf231b7eb4dbf18c464d8e"
   ]
  },
  {
   "cell_type": "markdown",
   "metadata": {},
   "source": [
    "#### 1.1.4) Derive public key hash"
   ]
  },
  {
   "cell_type": "code",
   "execution_count": 43,
   "metadata": {},
   "outputs": [
    {
     "name": "stdout",
     "output_type": "stream",
     "text": [
      "42a8bcd5f61fa17adbe800de6382f24bd1db0d7f\n"
     ]
    }
   ],
   "source": [
    "bx sha256 02e1af2f9086e95728bc3c768ee3e83ab81dd1841b92e281caa9f92501fd9b2b31 | bx ripemd160"
   ]
  },
  {
   "cell_type": "markdown",
   "metadata": {},
   "source": [
    "### 1.2) Derive testnet address\n",
    "Add version prefix for mainnet/testnet<br>\n",
    "* `6f` in hex\n",
    "* `111` in decimal\n",
    "\n",
    "And base58 encode result"
   ]
  },
  {
   "cell_type": "code",
   "execution_count": 44,
   "metadata": {},
   "outputs": [
    {
     "name": "stdout",
     "output_type": "stream",
     "text": [
      "mmbR2p2QQULJBKBHoEFYDByjdSV9WhKJ3Q\n"
     ]
    }
   ],
   "source": [
    "bx wrap-encode -v 111 42a8bcd5f61fa17adbe800de6382f24bd1db0d7f \\\n",
    "| bx base58-encode\n"
   ]
  },
  {
   "cell_type": "markdown",
   "metadata": {},
   "source": [
    "### 1.3) Send test coins funds to your testnet address\n",
    "Note your spendable p2pkh UXTO's below..."
   ]
  },
  {
   "cell_type": "markdown",
   "metadata": {},
   "source": [
    "* UXTO 0: \n",
    "    * TXID: `f91f383904ec4a6fd4902ebbb3b8f2d049c2ed24aa441d70bd3dbf2a077dcbe6`<br>\n",
    "    * Index: `1`\n",
    "    * Amount: `65000000`"
   ]
  },
  {
   "cell_type": "markdown",
   "metadata": {},
   "source": [
    "<hr style=\"border: 0.5px dashed #000;\">\n",
    "\n",
    "## 2) Spending to a CLTV encumbered output<br>\n",
    "<img src=\"images/spend_to_cltv.jpg\" alt=\"drawing\" style=\"\" width=\"700px\"/>\n",
    "\n",
    "### 2.1) Build transaction with CLTV encumbered output for signing\n",
    "\n",
    "#### 2.1.1) Determine absolute locktime in blockheight\n",
    "* `$ bx fetch-height`\n",
    "* `$ expr [current blockheight] + [delay in blocks]`.\n",
    "* Encode locktime in hex (little endian)"
   ]
  },
  {
   "cell_type": "code",
   "execution_count": 45,
   "metadata": {},
   "outputs": [
    {
     "name": "stdout",
     "output_type": "stream",
     "text": [
      "1411978\n"
     ]
    }
   ],
   "source": [
    "bx fetch-height "
   ]
  },
  {
   "cell_type": "code",
   "execution_count": 46,
   "metadata": {},
   "outputs": [
    {
     "name": "stdout",
     "output_type": "stream",
     "text": [
      "1411982\n"
     ]
    }
   ],
   "source": [
    "expr 1411978 + 4"
   ]
  },
  {
   "cell_type": "code",
   "execution_count": 47,
   "metadata": {},
   "outputs": [
    {
     "name": "stdout",
     "output_type": "stream",
     "text": [
      "158b8e\n"
     ]
    }
   ],
   "source": [
    "printf '%x\\n' 1411982"
   ]
  },
  {
   "cell_type": "markdown",
   "metadata": {},
   "source": [
    "**Note:** Don't forget to flip byte-order (4-Bytes) above for output script below."
   ]
  },
  {
   "cell_type": "markdown",
   "metadata": {},
   "source": [
    "#### 2.1.2) Encode CLTV-encumbered P2PKH output script\n",
    "* **`[locktime]`**\n",
    "* **`CHECKLOCKTIMEVERIFY`**\n",
    "* `DROP`\n",
    "* `DUP`\n",
    "* `HASH160`\n",
    "* `[public key hash]`\n",
    "* `EQUALVERIFY`\n",
    "* `CHECKSIG`"
   ]
  },
  {
   "cell_type": "code",
   "execution_count": 49,
   "metadata": {},
   "outputs": [
    {
     "name": "stdout",
     "output_type": "stream",
     "text": [
      "048e8b1500b17576a91442a8bcd5f61fa17adbe800de6382f24bd1db0d7f88ac\n"
     ]
    }
   ],
   "source": [
    "bx script-encode \\\n",
    "\"[8e8b1500] CHECKLOCKTIMEVERIFY DROP DUP HASH160 [42a8bcd5f61fa17adbe800de6382f24bd1db0d7f] EQUALVERIFY CHECKSIG\"\n"
   ]
  },
  {
   "cell_type": "markdown",
   "metadata": {},
   "source": [
    "#### 2.1.3) Encode output amount\n",
    "* Assume `700 satoshi` transaction fee\n",
    "* Output amount = `[UXTO spendable amount]`-`700`"
   ]
  },
  {
   "cell_type": "code",
   "execution_count": 50,
   "metadata": {},
   "outputs": [
    {
     "name": "stdout",
     "output_type": "stream",
     "text": [
      "64999350\n"
     ]
    }
   ],
   "source": [
    "expr 65000000 - 400 - 250"
   ]
  },
  {
   "cell_type": "markdown",
   "metadata": {},
   "source": [
    "#### 2.1.4) Encode transaction for signing\n",
    "* `bx tx-encode -i [prevout txid:index:sequence] -o [output script:amount]`\n",
    "* Input sequence defaults to `ffffffff`/`4294967295`"
   ]
  },
  {
   "cell_type": "code",
   "execution_count": 63,
   "metadata": {},
   "outputs": [
    {
     "name": "stdout",
     "output_type": "stream",
     "text": [
      "0100000001e6cb7d072abf3dbd701d44aa24edc249d0f2b8b3bb2e90d46f4aec0439381ff90100000000ffffffff01b6cfdf030000000020048e8b1500b17576a91442a8bcd5f61fa17adbe800de6382f24bd1db0d7f88ac00000000\n"
     ]
    }
   ],
   "source": [
    "bx tx-encode \\\n",
    "--input f91f383904ec4a6fd4902ebbb3b8f2d049c2ed24aa441d70bd3dbf2a077dcbe6:0:4294967295 \\\n",
    "--output 048e8b1500b17576a91442a8bcd5f61fa17adbe800de6382f24bd1db0d7f88ac:64999350"
   ]
  },
  {
   "cell_type": "markdown",
   "metadata": {},
   "source": [
    "### 2.2) Building the input script\n",
    "\n",
    "#### 2.2.1) Signing the transaction with the private key\n",
    "* `bx fetch-tx` previous output script\n",
    "* `bx input-sign` `[private key]` `[\"previous output script\"]` `[encoded transaction]`\n",
    "    * Outputs DER encoded signature"
   ]
  },
  {
   "cell_type": "code",
   "execution_count": 65,
   "metadata": {},
   "outputs": [
    {
     "name": "stdout",
     "output_type": "stream",
     "text": [
      "\u001b[0;32m\"dup hash160 [42a8bcd5f61fa17adbe800de6382f24bd1db0d7f] equalverify checksig\"\u001b[0m\n"
     ]
    }
   ],
   "source": [
    "bx fetch-tx -f json f91f383904ec4a6fd4902ebbb3b8f2d049c2ed24aa441d70bd3dbf2a077dcbe6 \\\n",
    "| jq \".transaction.outputs[0].script\""
   ]
  },
  {
   "cell_type": "code",
   "execution_count": 66,
   "metadata": {},
   "outputs": [
    {
     "name": "stdout",
     "output_type": "stream",
     "text": [
      "30440220356a9034ca4ce12ee407bb6da3237a0db989d551751a190a9b53542aa7c63d2802204d6ecfed8adc87e272b62bba4d307a9b4876867a5c97a054bfe3c1e772a3664201\n"
     ]
    }
   ],
   "source": [
    "bx input-sign \\\n",
    "e60c1ee5fb938aa041c15594b0df6ffbedbfc33e4aaf231b7eb4dbf18c464d8e \\\n",
    "\"dup hash160 [42a8bcd5f61fa17adbe800de6382f24bd1db0d7f] equalverify checksig\" \\\n",
    "0100000001e6cb7d072abf3dbd701d44aa24edc249d0f2b8b3bb2e90d46f4aec0439381ff90100000000ffffffff01b6cfdf030000000020048e8b1500b17576a91442a8bcd5f61fa17adbe800de6382f24bd1db0d7f88ac00000000\n"
   ]
  },
  {
   "cell_type": "markdown",
   "metadata": {},
   "source": [
    "#### 2.2.2) Set the input script into the finalised transaction\n",
    "* The input script to spend the previous p2pkh output script is `[endorsement]` `[public key]`\n",
    "* `bx input-set` `\"input script\"` `[encoded transaction]`"
   ]
  },
  {
   "cell_type": "code",
   "execution_count": 67,
   "metadata": {},
   "outputs": [
    {
     "name": "stdout",
     "output_type": "stream",
     "text": [
      "0100000001e6cb7d072abf3dbd701d44aa24edc249d0f2b8b3bb2e90d46f4aec0439381ff9010000006a4730440220356a9034ca4ce12ee407bb6da3237a0db989d551751a190a9b53542aa7c63d2802204d6ecfed8adc87e272b62bba4d307a9b4876867a5c97a054bfe3c1e772a36642012102e1af2f9086e95728bc3c768ee3e83ab81dd1841b92e281caa9f92501fd9b2b31ffffffff01b6cfdf030000000020048e8b1500b17576a91442a8bcd5f61fa17adbe800de6382f24bd1db0d7f88ac00000000\n"
     ]
    }
   ],
   "source": [
    "bx input-set \\\n",
    "\"[30440220356a9034ca4ce12ee407bb6da3237a0db989d551751a190a9b53542aa7c63d2802204d6ecfed8adc87e272b62bba4d307a9b4876867a5c97a054bfe3c1e772a3664201] [02e1af2f9086e95728bc3c768ee3e83ab81dd1841b92e281caa9f92501fd9b2b31]\" \\\n",
    "0100000001e6cb7d072abf3dbd701d44aa24edc249d0f2b8b3bb2e90d46f4aec0439381ff90100000000ffffffff01b6cfdf030000000020048e8b1500b17576a91442a8bcd5f61fa17adbe800de6382f24bd1db0d7f88ac00000000\n"
   ]
  },
  {
   "cell_type": "markdown",
   "metadata": {},
   "source": [
    "### 2.3) Validate & Broadcast the endorsed transaction\n",
    "* `bx validate-tx` `[encoded transaction]`\n",
    "* `bx tx-decode -f json` `[encoded transaction]` | `jq \".transaction.hash\"`"
   ]
  },
  {
   "cell_type": "code",
   "execution_count": 68,
   "metadata": {},
   "outputs": [
    {
     "name": "stdout",
     "output_type": "stream",
     "text": [
      "The transaction is valid.\n"
     ]
    }
   ],
   "source": [
    "bx validate-tx \\\n",
    "0100000001e6cb7d072abf3dbd701d44aa24edc249d0f2b8b3bb2e90d46f4aec0439381ff9010000006a4730440220356a9034ca4ce12ee407bb6da3237a0db989d551751a190a9b53542aa7c63d2802204d6ecfed8adc87e272b62bba4d307a9b4876867a5c97a054bfe3c1e772a36642012102e1af2f9086e95728bc3c768ee3e83ab81dd1841b92e281caa9f92501fd9b2b31ffffffff01b6cfdf030000000020048e8b1500b17576a91442a8bcd5f61fa17adbe800de6382f24bd1db0d7f88ac00000000\n"
   ]
  },
  {
   "cell_type": "code",
   "execution_count": 34,
   "metadata": {},
   "outputs": [
    {
     "name": "stdout",
     "output_type": "stream",
     "text": [
      "\u001b[0;32m\"b41b72fd1ae16a99031a68584216f7997bb6483eac7f89b09a72b80d95f5c70b\"\u001b[0m\n"
     ]
    }
   ],
   "source": [
    "bx tx-decode -f json \\\n",
    "01000000011dc2e4cc6e5c49a999d47ba335461fc7e7f0b5f78664af37f9698229a2ecffd0000000006a473044022028bce722fe5cd69887fd3c98671c012260e27a5fe35e245ee82318001847609102202b50c122c85f8ca7d8c3f386e7b733d6972113934e5eb136d49b6f81e9fa4dbc012102e1af2f9086e95728bc3c768ee3e83ab81dd1841b92e281caa9f92501fd9b2b31ffffffff017e9cbf070000000020048c8b1500b17576a91442a8bcd5f61fa17adbe800de6382f24bd1db0d7f88ac00000000 \\\n",
    "|jq \".transaction.hash\""
   ]
  },
  {
   "cell_type": "code",
   "execution_count": 33,
   "metadata": {},
   "outputs": [
    {
     "name": "stdout",
     "output_type": "stream",
     "text": [
      "op_equal_verify2\n"
     ]
    },
    {
     "ename": "",
     "evalue": "255",
     "output_type": "error",
     "traceback": []
    }
   ],
   "source": [
    "bx send-tx 01000000011dc2e4cc6e5c49a999d47ba335461fc7e7f0b5f78664af37f9698229a2ecffd0000000006a473044022028bce722fe5cd69887fd3c98671c012260e27a5fe35e245ee82318001847609102202b50c122c85f8ca7d8c3f386e7b733d6972113934e5eb136d49b6f81e9fa4dbc012102e1af2f9086e95728bc3c768ee3e83ab81dd1841b92e281caa9f92501fd9b2b31ffffffff017e9cbf070000000020048c8b1500b17576a91442a8bcd5f61fa17adbe800de6382f24bd1db0d7f88ac00000000"
   ]
  },
  {
   "cell_type": "markdown",
   "metadata": {},
   "source": [
    "<hr style=\"border: 0.5px dashed #000;\">\n",
    "\n",
    "## 3) Spend the CLTV encumbered UXTO\n",
    "\n",
    "<img src=\"images/spend_from_cltv.jpg\" alt=\"drawing\" style=\"\" width=\"700px\"/>\n",
    "\n",
    "### 3.1) Build transaction with activated locktime for signing"
   ]
  },
  {
   "cell_type": "markdown",
   "metadata": {},
   "source": [
    "#### 3.1.1) Encode p2pkh output script"
   ]
  },
  {
   "cell_type": "code",
   "execution_count": 39,
   "metadata": {},
   "outputs": [
    {
     "name": "stdout",
     "output_type": "stream",
     "text": [
      "76a91442a8bcd5f61fa17adbe800de6382f24bd1db0d7f88ac\n"
     ]
    }
   ],
   "source": [
    "bx script-encode \"DUP HASH160 [42a8bcd5f61fa17adbe800de6382f24bd1db0d7f] EQUALVERIFY CHECKSIG\""
   ]
  },
  {
   "cell_type": "markdown",
   "metadata": {},
   "source": [
    "**3.1.2) Encode transaction with locktime & set input sequence**<br>\n",
    "* Reference Previous Outpoint<br>\n",
    "* Transaction locktime field must be `>=` locktime in CLTV output being spent.\n",
    "* Input sequence msut be less than maximum, so `fffffffe`/`4294967294`"
   ]
  },
  {
   "cell_type": "code",
   "execution_count": 40,
   "metadata": {},
   "outputs": [
    {
     "name": "stdout",
     "output_type": "stream",
     "text": [
      "010000000196356e3ad0bb34b9a66c47ea9a11dd5f1cba34c165df28a38e6952cf1a9e8c910000000000feffffff01089fbf07000000001976a91442a8bcd5f61fa17adbe800de6382f24bd1db0d7f88ac08221500\n"
     ]
    }
   ],
   "source": [
    "bx tx-encode \\\n",
    "-l 1384968 \\\n",
    "-i 918c9e1acf52698ea328df65c134ba1c5fdd119aea476ca6b934bbd03a6e3596:0:4294967294 \\\n",
    "-o 76a91442a8bcd5f61fa17adbe800de6382f24bd1db0d7f88ac:129998600\n"
   ]
  },
  {
   "cell_type": "markdown",
   "metadata": {},
   "source": [
    "### 3.2) Building the input script\n",
    "\n",
    "#### 3.2.1)  Signing the transaction with the private key\n",
    "* `bx fetch-tx` previous output script\n",
    "* `bx input-sign` `[private key]` `[\"previous output script\"]` `[encoded transaction]`\n",
    "    * Outputs DER encoded signature"
   ]
  },
  {
   "cell_type": "code",
   "execution_count": null,
   "metadata": {},
   "outputs": [],
   "source": [
    "bx fetch-tx -f json 918c9e1acf52698ea328df65c134ba1c5fdd119aea476ca6b934bbd03a6e3596 \\\n",
    "| jq \".transaction.outputs[0].script\""
   ]
  },
  {
   "cell_type": "code",
   "execution_count": null,
   "metadata": {},
   "outputs": [],
   "source": [
    "bx input-sign e60c1ee5fb938aa041c15594b0df6ffbedbfc33e4aaf231b7eb4dbf18c464d8e \\\n",
    "\"[fa211500] CHECKLOCKTIMEVERIFY DROP DUP HASH160 [42a8bcd5f61fa17adbe800de6382f24bd1db0d7f] EQUALVERIFY CHECKSIG\" \\\n",
    "010000000196356e3ad0bb34b9a66c47ea9a11dd5f1cba34c165df28a38e6952cf1a9e8c910000000000feffffff01089fbf07000000001a7576a91442a8bcd5f61fa17adbe800de6382f24bd1db0d7f88ac08221500\n"
   ]
  },
  {
   "cell_type": "markdown",
   "metadata": {},
   "source": [
    "#### 3.2.2) Set the input script into the finalised transaction"
   ]
  },
  {
   "cell_type": "code",
   "execution_count": null,
   "metadata": {},
   "outputs": [],
   "source": [
    "bx input-set \"[3045022100c7a966f9eba206a6a59220defb4dc1801171bf5be00dff9fa5f5244e7678ed900220055a61e6e9b100eb57238fb6e7a214dbb53a1e459617c6ba48c71daacd6b0cc101] [02e1af2f9086e95728bc3c768ee3e83ab81dd1841b92e281caa9f92501fd9b2b31]\" \\\n",
    "010000000196356e3ad0bb34b9a66c47ea9a11dd5f1cba34c165df28a38e6952cf1a9e8c910000000000feffffff01089fbf07000000001a7576a91442a8bcd5f61fa17adbe800de6382f24bd1db0d7f88ac08221500\n"
   ]
  },
  {
   "cell_type": "markdown",
   "metadata": {},
   "source": [
    "### 3.3) Validate & Broadcast the endorsed transaction\n",
    "* `bx validate-tx` `[encoded transaction]`\n",
    "* Get TXID: `bx tx-decode -f json` `[encoded transaction]` | `jq \".transaction.hash\"`\n",
    "* `bx send-tx` `[encoded transaction]`"
   ]
  },
  {
   "cell_type": "code",
   "execution_count": 37,
   "metadata": {},
   "outputs": [
    {
     "name": "stdout",
     "output_type": "stream",
     "text": [
      "matching transaction with unspent outputs\n"
     ]
    },
    {
     "ename": "",
     "evalue": "255",
     "output_type": "error",
     "traceback": []
    }
   ],
   "source": [
    "bx validate-tx \\\n",
    "010000000196356e3ad0bb34b9a66c47ea9a11dd5f1cba34c165df28a38e6952cf1a9e8c91000000006b483045022100c7a966f9eba206a6a59220defb4dc1801171bf5be00dff9fa5f5244e7678ed900220055a61e6e9b100eb57238fb6e7a214dbb53a1e459617c6ba48c71daacd6b0cc1012102e1af2f9086e95728bc3c768ee3e83ab81dd1841b92e281caa9f92501fd9b2b31feffffff01089fbf07000000001a7576a91442a8bcd5f61fa17adbe800de6382f24bd1db0d7f88ac08221500\n"
   ]
  },
  {
   "cell_type": "code",
   "execution_count": 38,
   "metadata": {},
   "outputs": [
    {
     "name": "stdout",
     "output_type": "stream",
     "text": [
      "\u001b[0;32m\"d0ffeca2298269f937af6486f7b5f0e7c71f4635a37bd499a9495c6ecce4c21d\"\u001b[0m\n"
     ]
    }
   ],
   "source": [
    "bx tx-decode -f json \\\n",
    "010000000196356e3ad0bb34b9a66c47ea9a11dd5f1cba34c165df28a38e6952cf1a9e8c91000000006b483045022100c7a966f9eba206a6a59220defb4dc1801171bf5be00dff9fa5f5244e7678ed900220055a61e6e9b100eb57238fb6e7a214dbb53a1e459617c6ba48c71daacd6b0cc1012102e1af2f9086e95728bc3c768ee3e83ab81dd1841b92e281caa9f92501fd9b2b31feffffff01089fbf07000000001a7576a91442a8bcd5f61fa17adbe800de6382f24bd1db0d7f88ac08221500 \\\n",
    "| jq \".transaction.hash\"\n"
   ]
  }
 ],
 "metadata": {
  "kernelspec": {
   "display_name": "Bash",
   "language": "bash",
   "name": "bash"
  },
  "language_info": {
   "codemirror_mode": "shell",
   "file_extension": ".sh",
   "mimetype": "text/x-sh",
   "name": "bash"
  }
 },
 "nbformat": 4,
 "nbformat_minor": 2
}
