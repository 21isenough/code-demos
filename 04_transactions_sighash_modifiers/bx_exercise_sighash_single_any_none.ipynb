{
 "cells": [
  {
   "cell_type": "markdown",
   "metadata": {},
   "source": [
    "# Sighash modifiers - BX Exercise\n",
    "In this exercise, we spend two p2pkh inputs, signing with sighash modifiers `single|anyonecanpay` and `none`"
   ]
  },
  {
   "cell_type": "markdown",
   "metadata": {},
   "source": [
    "<hr style=\"border: 0.5px dashed #000;\">\n",
    "\n",
    "## 1. Restore wallet and generate spending + receiving key pairs.\n",
    "\n"
   ]
  },
  {
   "cell_type": "code",
   "execution_count": null,
   "metadata": {},
   "outputs": [],
   "source": [
    "# my_mnemonic =\"word0 word1 word2 ...\"\n",
    "# hd_master_private=$( )\n",
    "# hd_master_public=$( )\n",
    "\n",
    "my_mnemonic=\"amount right cheese defy click eight slight strategy replace earn simple labor\"\n",
    "hd_master_private=$(bx mnemonic-to-seed $my_mnemonic | bx hd-new)\n",
    "hd_master_public=$(bx hd-to-public $hd_master_private)"
   ]
  },
  {
   "cell_type": "markdown",
   "metadata": {},
   "source": [
    "### Restore your spending keys.\n",
    "\n",
    "We will be spending the funds controlled by these keys from account 1. \n",
    "* `m/44'/1'/1'/0/1`\n",
    "* `m/44'/1'/1'/0/2`.\n"
   ]
  },
  {
   "cell_type": "code",
   "execution_count": null,
   "metadata": {},
   "outputs": [],
   "source": [
    "# hd_m_44h_1h_1h_0_1=\n",
    "\n",
    "# privatekey_44h_1h_1h_0_1=\n",
    "# publickey_44h_1h_1h_0_1=\n",
    "# publickeyhash_44h_1h_1h_0_1=\n",
    "# address_44h_1h_1h_0_1=\n",
    "\n",
    "hd_m_44h_1h_1h_0_1=$(bx hd-private --hard --index 44 $hd_master_private \\\n",
    "| bx hd-private --hard --index 1  \\\n",
    "| bx hd-private --hard --index 1  \\\n",
    "| bx hd-private --index 0 \\\n",
    "| bx hd-private --index 1)\n",
    "\n",
    "privatekey_44h_1h_1h_0_1=$(bx hd-to-ec $hd_m_44h_1h_1h_0_1)\n",
    "publickey_44h_1h_1h_0_1=$(bx hd-to-public $hd_m_44h_1h_1h_0_1 | bx hd-to-ec)\n",
    "publickeyhash_44h_1h_1h_0_1=$(bx sha256 $publickey_44h_1h_1h_0_1 | bx ripemd160)\n",
    "address_44h_1h_1h_0_1=$(bx hd-to-public $hd_m_44h_1h_1h_0_1 | bx hd-to-ec | bx ec-to-address --version 111)\n",
    "\n",
    "echo $address_44h_1h_1h_0_1\n",
    "echo $publickeyhash_44h_1h_1h_0_1"
   ]
  },
  {
   "cell_type": "code",
   "execution_count": null,
   "metadata": {},
   "outputs": [],
   "source": [
    "# hd_m_44h_1h_1h_0_2=\n",
    "\n",
    "# privatekey_44h_1h_1h_0_2=\n",
    "# publickey_44h_1h_1h_0_2=\n",
    "# publickeyhash_44h_1h_1h_0_2=\n",
    "# address_44h_1h_1h_0_2=\n",
    "\n",
    "hd_m_44h_1h_1h_0_2=$(bx hd-private --hard --index 44 $hd_master_private \\\n",
    "| bx hd-private --hard --index 1  \\\n",
    "| bx hd-private --hard --index 1  \\\n",
    "| bx hd-private --index 0 \\\n",
    "| bx hd-private --index 2)\n",
    "\n",
    "privatekey_44h_1h_1h_0_2=$(bx hd-to-ec $hd_m_44h_1h_1h_0_2)\n",
    "publickey_44h_1h_1h_0_2=$(bx hd-to-public $hd_m_44h_1h_1h_0_2 | bx hd-to-ec)\n",
    "publickeyhash_44h_1h_1h_0_2=$(bx sha256 $publickey_44h_1h_1h_0_2 | bx ripemd160)\n",
    "address_44h_1h_1h_0_2=$(bx hd-to-public $hd_m_44h_1h_1h_0_2 | bx hd-to-ec | bx ec-to-address --version 111)\n",
    "\n",
    "echo $address_44h_1h_1h_0_2\n",
    "echo $publickeyhash_44h_1h_1h_0_2"
   ]
  },
  {
   "cell_type": "markdown",
   "metadata": {},
   "source": [
    "### Fetch previous UTXO's you are spending."
   ]
  },
  {
   "cell_type": "code",
   "execution_count": null,
   "metadata": {},
   "outputs": [],
   "source": [
    "# bx fetch-tx [transaction_hash] -f json | jq \".transaction.outputs[output_index_0]\"\n",
    "# bx fetch-tx [transaction_hash] -f json | jq \".transaction.outputs[output_index_1]\"\n",
    "\n",
    "bx fetch-tx 86ad635645920497c233cc33556463fa6258ab8f9c5f7d12748a6638216e3363 -f json | jq \".transaction.outputs[1]\"\n",
    "bx fetch-tx 86ad635645920497c233cc33556463fa6258ab8f9c5f7d12748a6638216e3363 -f json | jq \".transaction.outputs[2]\""
   ]
  },
  {
   "cell_type": "code",
   "execution_count": null,
   "metadata": {},
   "outputs": [],
   "source": [
    "# previous_txid0=\n",
    "# previous_output_index0=\n",
    "# previous_output_amount0=\n",
    "\n",
    "# previous_txid1=\n",
    "# previous_output_index1=\n",
    "# previous_output_amount1=\n",
    "\n",
    "previous_txid0=86ad635645920497c233cc33556463fa6258ab8f9c5f7d12748a6638216e3363\n",
    "previous_output_index0=1\n",
    "previous_output_amount0=499543\n",
    "\n",
    "previous_txid1=86ad635645920497c233cc33556463fa6258ab8f9c5f7d12748a6638216e3363\n",
    "previous_output_index1=2\n",
    "previous_output_amount1=499543"
   ]
  },
  {
   "cell_type": "markdown",
   "metadata": {},
   "source": [
    "## 2. Sign first input and output with `single|anyonecanpay`"
   ]
  },
  {
   "cell_type": "markdown",
   "metadata": {},
   "source": [
    "### Create first  P2PKH output script.\n",
    "\n",
    "* Please send testnet coins to the following address: `n2MBcctgzBt1h8Nvfu3XAEPJLrmWET7emw`"
   ]
  },
  {
   "cell_type": "code",
   "execution_count": null,
   "metadata": {},
   "outputs": [],
   "source": [
    "# bx decode-address n2MBcctgzBt1h8Nvfu3XAEPJLrmWET7emw\n",
    "bx address-decode n2MBcctgzBt1h8Nvfu3XAEPJLrmWET7emw"
   ]
  },
  {
   "cell_type": "code",
   "execution_count": null,
   "metadata": {},
   "outputs": [],
   "source": [
    "# bx script-encode \"DUP HASH160 [public key hash] EQUALVERIFY CHECKSIG\"\n",
    "\n",
    "# output_script0=\n",
    "\n",
    "output_script0=$(bx script-encode \"DUP HASH160 [\"$e48199d47742b245464b1366d95ef26aa4c8bb2c\"] EQUALVERIFY CHECKSIG\")\n",
    "echo $output_script"
   ]
  },
  {
   "cell_type": "markdown",
   "metadata": {},
   "source": [
    "### Set output amount equal to UTXO value.\n",
    "* Fees will be later be deducted from output at index 1."
   ]
  },
  {
   "cell_type": "code",
   "execution_count": null,
   "metadata": {},
   "outputs": [],
   "source": [
    "# Output amount total.\n",
    "output_amount0=$previous_output_amount0\n",
    "echo $output_amount0\n"
   ]
  },
  {
   "cell_type": "markdown",
   "metadata": {},
   "source": [
    "### Construct transaction template for signing input and outputs at index 0.\n",
    "\n",
    "* `sequence: 0xffffffff(hex)/4294967295(dec)`"
   ]
  },
  {
   "cell_type": "code",
   "execution_count": null,
   "metadata": {},
   "outputs": [],
   "source": [
    "# bx tx-encode \\\n",
    "# --input [previous tx id]:[index]:[sequence] \\\n",
    "# --output [output script]:[output amount]\n",
    "\n",
    "my_tx=$(bx tx-encode \\\n",
    "--input $previous_txid0:$previous_output_index0:4294967295)"
   ]
  },
  {
   "cell_type": "code",
   "execution_count": null,
   "metadata": {},
   "outputs": [],
   "source": [
    "# bx fetch-tx --format json [previous tx id] \n",
    "previous_output_script=$(bx fetch-tx --format json $previous_txid0 \\\n",
    "| jq -r \".transaction.outputs[1].script\")\n",
    "\n",
    "echo $previous_output_script"
   ]
  }
 ],
 "metadata": {
  "kernelspec": {
   "display_name": "Bash",
   "language": "bash",
   "name": "bash"
  },
  "language_info": {
   "codemirror_mode": "shell",
   "file_extension": ".sh",
   "mimetype": "text/x-sh",
   "name": "bash"
  }
 },
 "nbformat": 4,
 "nbformat_minor": 2
}
