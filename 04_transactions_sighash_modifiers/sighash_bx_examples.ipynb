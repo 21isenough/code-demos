{
 "cells": [
  {
   "cell_type": "markdown",
   "metadata": {},
   "source": [
    "# Signing with Sighash Flags - Examples with Libbitcoin BX\n",
    "In this BX tutorial, we construct a transaction which spends one P2PKH output to another."
   ]
  },
  {
   "cell_type": "markdown",
   "metadata": {},
   "source": [
    "<hr style=\"border: 0.5px dashed #000;\">\n",
    "\n",
    "## 1. Setup wallet and test funds.\n",
    "\n",
    "### 1.1 Generate private/public key pair.\n",
    "\n",
    "**New private key**"
   ]
  },
  {
   "cell_type": "code",
   "execution_count": null,
   "metadata": {},
   "outputs": [],
   "source": [
    "bx seed | bx ec-new\n"
   ]
  },
  {
   "cell_type": "markdown",
   "metadata": {},
   "source": [
    "**Save your private key**"
   ]
  },
  {
   "cell_type": "code",
   "execution_count": null,
   "metadata": {},
   "outputs": [],
   "source": [
    "# echo [private key]\n",
    "echo 75796aa57a30d3743e8e1070663f72e0f5a5666b0b7b8f780682851799659f77\n"
   ]
  },
  {
   "cell_type": "markdown",
   "metadata": {},
   "source": [
    "**Derive public key**"
   ]
  },
  {
   "cell_type": "code",
   "execution_count": 22,
   "metadata": {},
   "outputs": [
    {
     "name": "stdout",
     "output_type": "stream",
     "text": [
      "03cdbe1ad1dc4873dd34a0c81a4ce955451da1a53ef0680a3ff30727faefc1ea2c\n"
     ]
    }
   ],
   "source": [
    "# bx ec-to-public [private key]\n",
    "bx ec-to-public 75796aa57a30d3743e8e1070663f72e0f5a5666b0b7b8f780682851799659f77\n"
   ]
  },
  {
   "cell_type": "markdown",
   "metadata": {},
   "source": [
    "**Derive public key hash**"
   ]
  },
  {
   "cell_type": "code",
   "execution_count": null,
   "metadata": {},
   "outputs": [],
   "source": [
    "# bx sha256 [public key] | bx ripemd160\n",
    "bx sha256 03cdbe1ad1dc4873dd34a0c81a4ce955451da1a53ef0680a3ff30727faefc1ea2c | bx ripemd160\n"
   ]
  },
  {
   "cell_type": "markdown",
   "metadata": {},
   "source": [
    "**Testnet Address**"
   ]
  },
  {
   "cell_type": "code",
   "execution_count": null,
   "metadata": {},
   "outputs": [],
   "source": [
    "# bx ec-to-address --version 111 [public key]\n",
    "bx ec-to-address --version 111 03cdbe1ad1dc4873dd34a0c81a4ce955451da1a53ef0680a3ff30727faefc1ea2c\n"
   ]
  },
  {
   "cell_type": "markdown",
   "metadata": {},
   "source": [
    "### 1.2 Send test coins funds to your testnet address.\n",
    "Note your spendable p2pkh UXTO's below..."
   ]
  },
  {
   "cell_type": "markdown",
   "metadata": {},
   "source": [
    "* UXTO 0: \n",
    "    * TXID: `[56ab5a0ad12e1e5877c61f273749ff00538de9e05c0e1bb7db3e366b01bff8e4]`<br>\n",
    "    * Index: `[0]`\n",
    "    * Amount: `[1642904]`\n",
    "\n",
    "* UXTO 1: \n",
    "    * TXID: `[56ab5a0ad12e1e5877c61f273749ff00538de9e05c0e1bb7db3e366b01bff8e4]`<br>\n",
    "    * Index: `[1]`\n",
    "    * Amount: `[1642904]`\n",
    "    \n",
    "* UXTO 2: \n",
    "    * TXID: `[56ab5a0ad12e1e5877c61f273749ff00538de9e05c0e1bb7db3e366b01bff8e4]`<br>\n",
    "    * Index: `[2]`\n",
    "    * Amount: `[1642904]`    \n",
    "    \n",
    "* UXTO 3: \n",
    "    * TXID: `[56ab5a0ad12e1e5877c61f273749ff00538de9e05c0e1bb7db3e366b01bff8e4]`<br>\n",
    "    * Index: `[3]`\n",
    "    * Amount: `[1642904]`  "
   ]
  },
  {
   "cell_type": "markdown",
   "metadata": {},
   "source": [
    "## 2. Spending a P2PKH output."
   ]
  },
  {
   "cell_type": "markdown",
   "metadata": {},
   "source": [
    "### 2.1 Create output script.\n",
    "\n",
    "* Send funds to address: `mqkgk3AiMKEFrJKLVJQexc9A8DTH6hayuU`"
   ]
  },
  {
   "cell_type": "markdown",
   "metadata": {},
   "source": [
    "**Extract public key hash from address**"
   ]
  },
  {
   "cell_type": "code",
   "execution_count": null,
   "metadata": {},
   "outputs": [],
   "source": [
    "# bx address-decode [address]\n",
    "bx address-decode mqkgk3AiMKEFrJKLVJQexc9A8DTH6hayuU\n"
   ]
  },
  {
   "cell_type": "markdown",
   "metadata": {},
   "source": [
    "**Compose P2PKH(destination public key hash) output script.**"
   ]
  },
  {
   "cell_type": "code",
   "execution_count": null,
   "metadata": {},
   "outputs": [],
   "source": [
    "# bx script-encode \"DUP HASH160 [public key hash] EQUALVERIFY CHECKSIG\"\n",
    "bx script-encode \\\n",
    "\"DUP HASH160 [704a1961dab16d12dd19e38d77e8026fa8f7c73c] EQUALVERIFY CHECKSIG\"\n"
   ]
  },
  {
   "cell_type": "markdown",
   "metadata": {},
   "source": [
    "### 2.2 Compute output amount.\n",
    "\n",
    "* **Transaction length in bytes:**\n",
    "    * version: `4`\n",
    "    * input count: `1 `\n",
    "        * per input:\n",
    "            * prevous tx hash: `32`\n",
    "            * previous output index: `4`\n",
    "            * p2pkh spending input script: \n",
    "                * `110 = 1(script length) + 1(sig length) + 74(signature) + 1(public key length) + 33(public key)`\n",
    "            * input sequence: `4`\n",
    "    * output count: `1`\n",
    "        * per output:\n",
    "            * output amount: `8`\n",
    "            * p2pkh output script: `33`\n",
    "    * locktime: `4`        "
   ]
  },
  {
   "cell_type": "markdown",
   "metadata": {},
   "source": [
    "**Compute per-output amount for `10` p2pkh outputs**"
   ]
  },
  {
   "cell_type": "code",
   "execution_count": 30,
   "metadata": {},
   "outputs": [
    {
     "name": "stdout",
     "output_type": "stream",
     "text": [
      "392\n",
      "3284616\n"
     ]
    }
   ],
   "source": [
    "# input amount -  sigops * 4 * sat/sigop - bytes * sat/byte\n",
    "# tx bytes: 4 + 1 + 2*(32+4+110+4) + 1 + 2*(8+33) + 4 = 392 bytes (Actual 373)\n",
    "\n",
    "expr 4 + 1 + 2 \\* 150 + 1 + 2 \\* 41 + 4 \\\n",
    "&& expr 1642904 + 1642904 - 2 \\* 400 - 392\n"
   ]
  },
  {
   "cell_type": "code",
   "execution_count": 31,
   "metadata": {},
   "outputs": [
    {
     "name": "stdout",
     "output_type": "stream",
     "text": [
      "1642308\n"
     ]
    }
   ],
   "source": [
    "# spent amount evenly across outputs.\n",
    "expr 3284616 / 2"
   ]
  },
  {
   "cell_type": "markdown",
   "metadata": {},
   "source": [
    "### 2.3 Construct transaction template for signing.\n",
    "\n",
    "* `sequence: 0xffffffff(hex)/4294967295(dec)`"
   ]
  },
  {
   "cell_type": "code",
   "execution_count": 32,
   "metadata": {},
   "outputs": [],
   "source": [
    "# TX_A (index 1)\n",
    "\n",
    "tx_a=$(bx tx-encode \\\n",
    "--input 0000000000000000000000000000000000000000000000000000000000000000:0:4294967295 \\\n",
    "--input 56ab5a0ad12e1e5877c61f273749ff00538de9e05c0e1bb7db3e366b01bff8e4:1:4294967295 \\\n",
    "--output 00000000000000000000000000000000000000000000000000:0000000 \\\n",
    "--output 76a914704a1961dab16d12dd19e38d77e8026fa8f7c73c88ac:1642308) \n"
   ]
  },
  {
   "cell_type": "code",
   "execution_count": 33,
   "metadata": {},
   "outputs": [
    {
     "name": "stdout",
     "output_type": "stream",
     "text": [
      "304402206e0a59498b428a2d3b115662db9ad811a7ff84146880805a53fad440f132068a02204bc9e872cbb0595c39a70907c1efea0fcd5a85e2810829dc66d41cb6e3d8002583\n"
     ]
    }
   ],
   "source": [
    "bx input-sign --index 1 --anyone --sign_type single \\\n",
    "75796aa57a30d3743e8e1070663f72e0f5a5666b0b7b8f780682851799659f77 \\\n",
    "\"dup hash160 [704a1961dab16d12dd19e38d77e8026fa8f7c73c] equalverify checksig\" \\\n",
    "$tx_a\n"
   ]
  },
  {
   "cell_type": "code",
   "execution_count": 35,
   "metadata": {},
   "outputs": [],
   "source": [
    "tx_a=$(bx input-set --index 1 \\\n",
    "\"[304402206e0a59498b428a2d3b115662db9ad811a7ff84146880805a53fad440f132068a02204bc9e872cbb0595c39a70907c1efea0fcd5a85e2810829dc66d41cb6e3d8002583] [03cdbe1ad1dc4873dd34a0c81a4ce955451da1a53ef0680a3ff30727faefc1ea2c]\" \\\n",
    "$tx_a)\n"
   ]
  },
  {
   "cell_type": "code",
   "execution_count": 36,
   "metadata": {},
   "outputs": [],
   "source": [
    "# TX_B (index 0)\n",
    "\n",
    "tx_b=$(bx tx-encode \\\n",
    "--input 56ab5a0ad12e1e5877c61f273749ff00538de9e05c0e1bb7db3e366b01bff8e4:0:4294967295 \\\n",
    "--output 76a914704a1961dab16d12dd19e38d77e8026fa8f7c73c88ac:1642308)\n"
   ]
  },
  {
   "cell_type": "code",
   "execution_count": 37,
   "metadata": {},
   "outputs": [
    {
     "name": "stdout",
     "output_type": "stream",
     "text": [
      "30440220720261e7d940b3756eb71066cbe3791367fcc98d3ed3da3136674b6a3f67b26c02206bf7b69c3927218d8d9aeb8d22a672bcba727b736e21ca522f5145eaa869064a83\n"
     ]
    }
   ],
   "source": [
    "bx input-sign --index 0 --anyone --sign_type single \\\n",
    "75796aa57a30d3743e8e1070663f72e0f5a5666b0b7b8f780682851799659f77 \\\n",
    "\"dup hash160 [704a1961dab16d12dd19e38d77e8026fa8f7c73c] equalverify checksig\" \\\n",
    "$tx_b\n"
   ]
  },
  {
   "cell_type": "code",
   "execution_count": 38,
   "metadata": {},
   "outputs": [],
   "source": [
    "tx_b=$(bx input-set --index 0 \\\n",
    "\"[30440220720261e7d940b3756eb71066cbe3791367fcc98d3ed3da3136674b6a3f67b26c02206bf7b69c3927218d8d9aeb8d22a672bcba727b736e21ca522f5145eaa869064a83] [03cdbe1ad1dc4873dd34a0c81a4ce955451da1a53ef0680a3ff30727faefc1ea2c]\" \\\n",
    "$tx_b)\n"
   ]
  },
  {
   "cell_type": "code",
   "execution_count": 39,
   "metadata": {
    "scrolled": true
   },
   "outputs": [],
   "source": [
    "tx_a=$(bx tx-decode --format json $tx_a)\n",
    "\n",
    "tx_a_version=$(echo $tx_a | jq -r \".transaction.version\")\n",
    "tx_a_inputs=$(echo $tx_a | jq \".transaction.inputs\")\n",
    "tx_a_input1=$(echo $tx_a_inputs | jq \".[1]\")\n",
    "tx_a_input1_prev_hash=$(echo $tx_a_input1 | jq -r \".previous_output.hash\")\n",
    "tx_a_input1_prev_index=$(echo $tx_a_input1 | jq -r \".previous_output.index\")\n",
    "tx_a_input1_script=$(echo $tx_a_input1 | jq -r \".script\")\n",
    "tx_a_input1_sequence=$(echo $tx_a_input1 | jq -r \".sequence\")\n",
    "tx_a_outputs=$(echo $tx_a | jq \".transaction.outputs\")\n",
    "tx_a_output1=$(echo $tx_a_outputs | jq -r \".[1]\")\n",
    "tx_a_output1_script=$(echo $tx_a_output1 | jq -r \".script\" | bx script-encode)\n",
    "tx_a_output1_value=$(echo $tx_a_output1 | jq -r \".value\")\n",
    "tx_a_locktime=$(echo $tx_a | jq -r \".transaction.lock_time\")\n"
   ]
  },
  {
   "cell_type": "code",
   "execution_count": 40,
   "metadata": {},
   "outputs": [],
   "source": [
    "tx_b=$(bx tx-decode --format json $tx_b)\n",
    "\n",
    "tx_b_version=$(echo $tx_b | jq -r \".transaction.version\")\n",
    "tx_b_inputs=$(echo $tx_b | jq \".transaction.inputs\")\n",
    "tx_b_input0=$(echo $tx_b_inputs | jq \".[0]\")\n",
    "tx_b_input0_prev_hash=$(echo $tx_b_input0 | jq -r \".previous_output.hash\")\n",
    "tx_b_input0_prev_index=$(echo $tx_b_input0 | jq -r \".previous_output.index\")\n",
    "tx_b_input0_script=$(echo $tx_b_input0 | jq -r \".script\")\n",
    "tx_b_input0_sequence=$(echo $tx_b_input0 | jq -r \".sequence\")\n",
    "tx_b_outputs=$(echo $tx_b | jq \".transaction.outputs\")\n",
    "tx_b_output0=$(echo $tx_b_outputs | jq -r \".[0]\")\n",
    "tx_b_output0_script=$(echo $tx_b_output0 | jq -r \".script\" | bx script-encode)\n",
    "tx_b_output0_value=$(echo $tx_b_output0 | jq -r \".value\")\n",
    "tx_b_locktime=$(echo $tx_b | jq -r \".transaction.lock_time\")\n"
   ]
  },
  {
   "cell_type": "code",
   "execution_count": 41,
   "metadata": {},
   "outputs": [],
   "source": [
    "# Assume \n",
    "# tx_a.version = tx_b.version\n",
    "# tx_a.locktime = tx_b.locktime\n",
    "\n",
    "tx_a_b=$(bx tx-encode \\\n",
    "--version $tx_a_version \\\n",
    "--input $tx_b_input0_prev_hash:$tx_b_input0_prev_index:$tx_b_input0_sequence \\\n",
    "--input $tx_a_input1_prev_hash:$tx_a_input1_prev_index:$tx_a_input1_sequence \\\n",
    "--output $tx_b_output0_script:$tx_b_output0_value \\\n",
    "--output $tx_a_output1_script:$tx_a_output1_value \\\n",
    "--lock_time $tx_a_locktime)\n"
   ]
  },
  {
   "cell_type": "code",
   "execution_count": 42,
   "metadata": {},
   "outputs": [
    {
     "name": "stdout",
     "output_type": "stream",
     "text": [
      "0100000002e4f8bf016b363edbb71b0e5ce0e98d5300ff4937271fc677581e2ed10a5aab56000000006a4730440220720261e7d940b3756eb71066cbe3791367fcc98d3ed3da3136674b6a3f67b26c02206bf7b69c3927218d8d9aeb8d22a672bcba727b736e21ca522f5145eaa869064a832103cdbe1ad1dc4873dd34a0c81a4ce955451da1a53ef0680a3ff30727faefc1ea2cffffffffe4f8bf016b363edbb71b0e5ce0e98d5300ff4937271fc677581e2ed10a5aab56010000006a47304402206e0a59498b428a2d3b115662db9ad811a7ff84146880805a53fad440f132068a02204bc9e872cbb0595c39a70907c1efea0fcd5a85e2810829dc66d41cb6e3d80025832103cdbe1ad1dc4873dd34a0c81a4ce955451da1a53ef0680a3ff30727faefc1ea2cffffffff02440f1900000000001976a914704a1961dab16d12dd19e38d77e8026fa8f7c73c88ac440f1900000000001976a914704a1961dab16d12dd19e38d77e8026fa8f7c73c88ac00000000\n"
     ]
    }
   ],
   "source": [
    "# Set first transaction\n",
    "tx_a_b=$(bx input-set \"$tx_b_input0_script\" $tx_a_b)\n",
    "tx_a_b=$(bx input-set --index 1 \"$tx_a_input1_script\" $tx_a_b)\n",
    "echo $tx_a_b\n"
   ]
  },
  {
   "cell_type": "code",
   "execution_count": 43,
   "metadata": {},
   "outputs": [
    {
     "name": "stdout",
     "output_type": "stream",
     "text": [
      "The transaction is valid.\n"
     ]
    }
   ],
   "source": [
    "bx validate-tx $tx_a_b\n"
   ]
  }
 ],
 "metadata": {
  "kernelspec": {
   "display_name": "Bash",
   "language": "bash",
   "name": "bash"
  },
  "language_info": {
   "codemirror_mode": "shell",
   "file_extension": ".sh",
   "mimetype": "text/x-sh",
   "name": "bash"
  }
 },
 "nbformat": 4,
 "nbformat_minor": 2
}
