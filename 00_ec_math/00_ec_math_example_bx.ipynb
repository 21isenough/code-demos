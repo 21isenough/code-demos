{
 "cells": [
  {
   "cell_type": "markdown",
   "metadata": {},
   "source": [
    "# Elliptic Curve Math - Examples with Libbitcoin BX\n",
    "In this example, we demonstrate the properties of scalar and elliptic curve operations over finite fields.\n",
    "<br>\n",
    "<img src=\"images/ec_math_operations.jpg\" alt=\"drawing\" style=\"\" width=\"700px\"/>"
   ]
  },
  {
   "cell_type": "markdown",
   "metadata": {},
   "source": [
    "<hr style=\"border: 0.5px dashed #000;\">\n",
    "\n",
    "\n",
    "# 1. Scalar Operations\n"
   ]
  },
  {
   "cell_type": "markdown",
   "metadata": {},
   "source": [
    "## 1.1 Generate a valid `secp256k1` scalar"
   ]
  },
  {
   "cell_type": "code",
   "execution_count": null,
   "metadata": {},
   "outputs": [],
   "source": [
    "bx seed --bit_length 128 \n"
   ]
  },
  {
   "cell_type": "code",
   "execution_count": null,
   "metadata": {},
   "outputs": [],
   "source": [
    "bx ec-new 394e6ed80d23574456f4641f552a9eb7\n"
   ]
  },
  {
   "cell_type": "markdown",
   "metadata": {},
   "source": [
    "## 1.2 Demonstrate Associativity\n",
    "\n",
    "**`(a + b) * c = a * c + b * c`**\n",
    "<br>\n",
    "\n",
    "* `a = 86101c23edfcdf19bf47836b7fe4b86bd3023983d477e0324adc81230b22851b`\n",
    "* `b = b6ab20f3d9311eb7ebcad6bb2933008eb350418c3f499fb764204ee08f4171f2`\n",
    "* `c = 6dbcfab245c6e278659dc26ec9d989c14c223f23cd17941ab45bb04c91290cdf`"
   ]
  },
  {
   "cell_type": "markdown",
   "metadata": {},
   "source": [
    "**`a + b`**"
   ]
  },
  {
   "cell_type": "code",
   "execution_count": null,
   "metadata": {},
   "outputs": [],
   "source": [
    "bx ec-add-secrets 86101c23edfcdf19bf47836b7fe4b86bd3023983d477e0324adc81230b22851b b6ab20f3d9311eb7ebcad6bb2933008eb350418c3f499fb764204ee08f4171f2\n"
   ]
  },
  {
   "cell_type": "markdown",
   "metadata": {},
   "source": [
    "**`Left side: (a + b) * c`**"
   ]
  },
  {
   "cell_type": "code",
   "execution_count": null,
   "metadata": {},
   "outputs": [],
   "source": [
    "bx ec-multiply-secrets 3cbb3d17c72dfdd1ab125a26a917b8fbcba39e296478dfadef2a7176ca2db5cc 6dbcfab245c6e278659dc26ec9d989c14c223f23cd17941ab45bb04c91290cdf\n",
    "    "
   ]
  },
  {
   "cell_type": "markdown",
   "metadata": {},
   "source": [
    "**`a * c`**\n"
   ]
  },
  {
   "cell_type": "code",
   "execution_count": null,
   "metadata": {},
   "outputs": [],
   "source": [
    "bx ec-multiply-secrets 86101c23edfcdf19bf47836b7fe4b86bd3023983d477e0324adc81230b22851b 6dbcfab245c6e278659dc26ec9d989c14c223f23cd17941ab45bb04c91290cdf\n"
   ]
  },
  {
   "cell_type": "markdown",
   "metadata": {},
   "source": [
    "**`b * c`**"
   ]
  },
  {
   "cell_type": "code",
   "execution_count": null,
   "metadata": {},
   "outputs": [],
   "source": [
    "bx ec-multiply-secrets b6ab20f3d9311eb7ebcad6bb2933008eb350418c3f499fb764204ee08f4171f2 6dbcfab245c6e278659dc26ec9d989c14c223f23cd17941ab45bb04c91290cdf\n"
   ]
  },
  {
   "cell_type": "markdown",
   "metadata": {},
   "source": [
    "**`Right side: a * c + b * c`**"
   ]
  },
  {
   "cell_type": "code",
   "execution_count": null,
   "metadata": {},
   "outputs": [],
   "source": [
    "bx ec-add-secrets 94cbd69b1e8cdf4a69a1052ad783500231ee73f8c8c3f884f9f7f1cdcb8c1800 bb86d240513123db4882163833c6fec0b45cf6fb61858de324abc35b8a8c9c80\n"
   ]
  },
  {
   "cell_type": "markdown",
   "metadata": {},
   "source": [
    "<hr style=\"border: 0.5px dashed #000;\">\n",
    "\n",
    "# 2. Elliptic Curve Operations:\n",
    "\n"
   ]
  },
  {
   "cell_type": "markdown",
   "metadata": {},
   "source": [
    "## 2.1 Generate a valid `secp256k1` point"
   ]
  },
  {
   "cell_type": "code",
   "execution_count": null,
   "metadata": {},
   "outputs": [],
   "source": [
    "bx seed -b 128 | bx ec-new | bx ec-to-public\n"
   ]
  },
  {
   "cell_type": "markdown",
   "metadata": {},
   "source": [
    "## 2.2 Demonstrate Associativity for Elliptic Curve Operations\n",
    "\n",
    "**`(a + b) * G = A + B`**\n",
    "\n",
    "* `a = 86101c23edfcdf19bf47836b7fe4b86bd3023983d477e0324adc81230b22851b`\n",
    "* `b = b6ab20f3d9311eb7ebcad6bb2933008eb350418c3f499fb764204ee08f4171f2`"
   ]
  },
  {
   "cell_type": "markdown",
   "metadata": {},
   "source": [
    "**`a + b`**\n"
   ]
  },
  {
   "cell_type": "code",
   "execution_count": null,
   "metadata": {},
   "outputs": [],
   "source": [
    "bx ec-add-secrets 86101c23edfcdf19bf47836b7fe4b86bd3023983d477e0324adc81230b22851b b6ab20f3d9311eb7ebcad6bb2933008eb350418c3f499fb764204ee08f4171f2\n"
   ]
  },
  {
   "cell_type": "markdown",
   "metadata": {},
   "source": [
    "**`Left side: (a + b) * G`**"
   ]
  },
  {
   "cell_type": "code",
   "execution_count": null,
   "metadata": {},
   "outputs": [],
   "source": [
    "bx ec-to-public 3cbb3d17c72dfdd1ab125a26a917b8fbcba39e296478dfadef2a7176ca2db5cc\n",
    "    "
   ]
  },
  {
   "cell_type": "markdown",
   "metadata": {},
   "source": [
    "**`A = a * G`**"
   ]
  },
  {
   "cell_type": "code",
   "execution_count": null,
   "metadata": {},
   "outputs": [],
   "source": [
    "bx ec-to-public 86101c23edfcdf19bf47836b7fe4b86bd3023983d477e0324adc81230b22851b\n"
   ]
  },
  {
   "cell_type": "markdown",
   "metadata": {},
   "source": [
    "**`Right side: A + B`**\n",
    "\n",
    "* `ec-add POINT secret = POINT + (secret * G)`"
   ]
  },
  {
   "cell_type": "code",
   "execution_count": null,
   "metadata": {},
   "outputs": [],
   "source": [
    "bx ec-add 032e053dc83eb3f4d52490ec2745d8796f1a3f5762166a0447a4e4640db5ca56d9 b6ab20f3d9311eb7ebcad6bb2933008eb350418c3f499fb764204ee08f4171f2\n"
   ]
  }
 ],
 "metadata": {
  "kernelspec": {
   "display_name": "Bash",
   "language": "bash",
   "name": "bash"
  },
  "language_info": {
   "codemirror_mode": "shell",
   "file_extension": ".sh",
   "mimetype": "text/x-sh",
   "name": "bash"
  }
 },
 "nbformat": 4,
 "nbformat_minor": 2
}
