{
 "cells": [
  {
   "cell_type": "markdown",
   "metadata": {},
   "source": [
    "# Elliptic Curve Math - Exercises with Libbitcoin BX"
   ]
  },
  {
   "cell_type": "markdown",
   "metadata": {},
   "source": [
    "### 1. Basic EC operations"
   ]
  },
  {
   "cell_type": "markdown",
   "metadata": {},
   "source": [
    "#### Derive a new valid secret  (secp256k1) from 512-bit entropy:"
   ]
  },
  {
   "cell_type": "code",
   "execution_count": null,
   "metadata": {},
   "outputs": [],
   "source": [
    "# bx [command]\n"
   ]
  },
  {
   "cell_type": "markdown",
   "metadata": {},
   "source": [
    "#### Derive a new (uncompressed) EC point from the generated secret:"
   ]
  },
  {
   "cell_type": "code",
   "execution_count": null,
   "metadata": {},
   "outputs": [],
   "source": [
    "# bx [command]\n"
   ]
  },
  {
   "cell_type": "markdown",
   "metadata": {},
   "source": [
    "#### Demonstrate  associativity: "
   ]
  },
  {
   "cell_type": "markdown",
   "metadata": {},
   "source": [
    "Scalar operations: `(a + b) * c = a * c + b * c`\n",
    "* `a = 86101c23edfcdf19bf47836b7fe4b86bd3023983d477e0324adc81230b22851b`\n",
    "* `b = b6ab20f3d9311eb7ebcad6bb2933008eb350418c3f499fb764204ee08f4171f2`\n",
    "* `c = 6dbcfab245c6e278659dc26ec9d989c14c223f23cd17941ab45bb04c91290cdf`"
   ]
  },
  {
   "cell_type": "code",
   "execution_count": null,
   "metadata": {},
   "outputs": [],
   "source": [
    "# bx [command]\n"
   ]
  },
  {
   "cell_type": "markdown",
   "metadata": {},
   "source": [
    "Scalar & EC point operations: `(a + b) * G = A + B`"
   ]
  },
  {
   "cell_type": "code",
   "execution_count": null,
   "metadata": {},
   "outputs": [],
   "source": [
    "# bx [command]\n",
    "\n"
   ]
  },
  {
   "cell_type": "markdown",
   "metadata": {},
   "source": [
    "### 2. Joint public key point"
   ]
  },
  {
   "cell_type": "markdown",
   "metadata": {},
   "source": [
    "`Alice` and `Bob` would like to create a `joint public key`. However, it is important that neither party alone has the corresponding private key of this joint public key point. How can this be achieved?\n",
    "\n",
    "The joint public key generation scheme could follow the following sequence of events.\n",
    "\n",
    "* `Alice` performs something.\n",
    "* `Bob` performs something.\n",
    "* `Alice` and `Bob` interact.\n",
    "* `Alice` and `Bob` individually derive the `joint public key`"
   ]
  },
  {
   "cell_type": "markdown",
   "metadata": {},
   "source": [
    "**`Alice` performs the following:**"
   ]
  },
  {
   "cell_type": "code",
   "execution_count": null,
   "metadata": {},
   "outputs": [],
   "source": [
    "# bx [command]\n"
   ]
  },
  {
   "cell_type": "markdown",
   "metadata": {},
   "source": [
    " **`Bob` performs the following:**"
   ]
  },
  {
   "cell_type": "code",
   "execution_count": null,
   "metadata": {},
   "outputs": [],
   "source": [
    "# bx [command]\n"
   ]
  },
  {
   "cell_type": "markdown",
   "metadata": {},
   "source": [
    "#### `Alice` and `Bob` exchange the following data:"
   ]
  },
  {
   "cell_type": "code",
   "execution_count": null,
   "metadata": {},
   "outputs": [],
   "source": [
    "echo  \"data from alice to bob: \"\n",
    "# echo [data] \n",
    "echo  \"data from bob to alice: \"\n",
    "# echo [data] \n"
   ]
  },
  {
   "cell_type": "markdown",
   "metadata": {},
   "source": [
    "#### `Alice` computes the following from data received from `Bob`"
   ]
  },
  {
   "cell_type": "code",
   "execution_count": null,
   "metadata": {},
   "outputs": [],
   "source": [
    "# bx [command]\n"
   ]
  },
  {
   "cell_type": "markdown",
   "metadata": {},
   "source": [
    "#### `Bob` computes the following from data received from `Alice`"
   ]
  },
  {
   "cell_type": "code",
   "execution_count": null,
   "metadata": {},
   "outputs": [],
   "source": [
    "# bx [command] \n"
   ]
  },
  {
   "cell_type": "markdown",
   "metadata": {},
   "source": [
    "### 2b. Spending from the joint public key \n",
    "How can `Alice` and `Bob` allow the other party to spend from this `joint public key`?"
   ]
  },
  {
   "cell_type": "code",
   "execution_count": null,
   "metadata": {},
   "outputs": [],
   "source": [
    "# bx [command] \n"
   ]
  },
  {
   "cell_type": "markdown",
   "metadata": {},
   "source": [
    "### 3. Commitment Schemes"
   ]
  },
  {
   "cell_type": "markdown",
   "metadata": {},
   "source": [
    "`Alice` would like to commit to a secret number without revealing this number to `Bob`. This `commitment` must be binding, meaning `Alice` must be able to prove she hasn't changed it after the secret is revealed.\n",
    "\n",
    "* `Alice` generates a commitment from a secret.\n",
    "* `Bob` receives the commitment.\n",
    "* `Alice` reveals the secret, proving it was the number originally commited to."
   ]
  },
  {
   "cell_type": "markdown",
   "metadata": {},
   "source": [
    "#### `Alice` generates a commitment from a secret number."
   ]
  },
  {
   "cell_type": "code",
   "execution_count": null,
   "metadata": {},
   "outputs": [],
   "source": [
    "# bx [command] \n",
    "\n",
    "# With elliptic curve operations:\n",
    "# -------------------------------\n",
    "\n",
    "\n",
    "# With hashing operations:\n",
    "# -------------------------------\n",
    "\n"
   ]
  },
  {
   "cell_type": "markdown",
   "metadata": {},
   "source": [
    "### 3b. How does `Bob` later verify Alice's commitment?"
   ]
  },
  {
   "cell_type": "code",
   "execution_count": null,
   "metadata": {},
   "outputs": [],
   "source": [
    "# bx [command] \n",
    "\n",
    "# With elliptic curve operations:\n",
    "# -------------------------------\n",
    "\n",
    "\n",
    "# With hashing operations:\n",
    "# -------------------------------\n",
    "\n"
   ]
  },
  {
   "cell_type": "markdown",
   "metadata": {},
   "source": [
    "### 4) Blinding commitment Schemes"
   ]
  },
  {
   "cell_type": "markdown",
   "metadata": {},
   "source": [
    "`Alice` creates multiple commitments for `Bob`, but would like prevent `Bob` from noticing if she uses the same secret multiple times. This is call a `blinding commitment` as it blinds the receiver of the commitment from gaining any information about the secret.\n",
    "\n",
    "How can `Alice` achieve this?\n",
    "\n",
    "* `Alice` generates a blinding commitment from a secret.\n",
    "* `Bob` receives the commitment.\n",
    "* `Alice` reveals the secret (and supporting data), proving it was the number originally commited to.\n",
    "\n",
    "Alice's secret:\n",
    "* `a = 86101c23edfcdf19bf47836b7fe4b86bd3023983d477e0324adc81230b22851b`\n",
    "\n",
    "**Hint:** `Alice` can generate a random number to blind the commitment."
   ]
  },
  {
   "cell_type": "markdown",
   "metadata": {},
   "source": [
    "#### `Alice` generates a blinded commitment from a secret number."
   ]
  },
  {
   "cell_type": "code",
   "execution_count": null,
   "metadata": {},
   "outputs": [],
   "source": [
    "# bx [command] \n",
    "\n"
   ]
  },
  {
   "cell_type": "markdown",
   "metadata": {},
   "source": [
    "#### `Bob` verifies that the secret matches her initial commitment."
   ]
  },
  {
   "cell_type": "code",
   "execution_count": null,
   "metadata": {},
   "outputs": [],
   "source": [
    "# bx [command] \n",
    "\n"
   ]
  }
 ],
 "metadata": {
  "kernelspec": {
   "display_name": "Bash",
   "language": "bash",
   "name": "bash"
  },
  "language_info": {
   "codemirror_mode": "shell",
   "file_extension": ".sh",
   "mimetype": "text/x-sh",
   "name": "bash"
  }
 },
 "nbformat": 4,
 "nbformat_minor": 2
}
