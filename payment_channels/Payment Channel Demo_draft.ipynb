{
 "cells": [
  {
   "cell_type": "markdown",
   "metadata": {},
   "source": [
    "# Libbitcoin BX: Payment Channel\n",
    "\n",
    "In this BX tutorial, we will demonstrate a simple payment channel between two participants, Alice and Bob.\n",
    "\n",
    "* 0) Wallet Setup for Alice & Bob\n",
    "* 1) Opening a payment channel\n",
    "* 2) Updating a payment channel\n",
    "* 3) Broadcasting an old channel state & subsequent penalty transaction"
   ]
  },
  {
   "cell_type": "code",
   "execution_count": 281,
   "metadata": {},
   "outputs": [
    {
     "name": "stdout",
     "output_type": "stream",
     "text": [
      "7e52a59dc67f96a912001450b5f1b1309fdb95f9f4a58ee4fea43595fd6dbd83\n"
     ]
    }
   ],
   "source": [
    "bx seed | bx ec-new"
   ]
  },
  {
   "cell_type": "code",
   "execution_count": 282,
   "metadata": {},
   "outputs": [
    {
     "name": "stdout",
     "output_type": "stream",
     "text": [
      "02b3b4a1b2bd5555cbe37cc8cd58d143ee93cdde65ac987c5d2fbcdfd6fe79ccc5\n",
      "027546622c89d92aa58ad5cc0127dd67bac986c2fb52abfa4ed493ca9fa73e2f2a\n"
     ]
    }
   ],
   "source": [
    "bx ec-to-public dbafbb58c0e58a0609898e831d387e7ed63275e21c5755f1b4600b36cb314cbb &&\n",
    "bx ec-to-public 2d80969c3c10a85ce8a887686f9faad63d0b8bd05f6b5f4e22e425073c263129"
   ]
  },
  {
   "cell_type": "code",
   "execution_count": 283,
   "metadata": {},
   "outputs": [
    {
     "name": "stdout",
     "output_type": "stream",
     "text": [
      "eb8e87d55a0a313628d70603ab342dd7c380993e\n",
      "8d950d086cf089d0bc29a0184faa7a448fd8c841\n"
     ]
    }
   ],
   "source": [
    "bx sha256 02b3b4a1b2bd5555cbe37cc8cd58d143ee93cdde65ac987c5d2fbcdfd6fe79ccc5 | bx ripemd160 &&\n",
    "bx sha256 027546622c89d92aa58ad5cc0127dd67bac986c2fb52abfa4ed493ca9fa73e2f2a | bx ripemd160"
   ]
  },
  {
   "cell_type": "code",
   "execution_count": 284,
   "metadata": {},
   "outputs": [
    {
     "name": "stdout",
     "output_type": "stream",
     "text": [
      "n2zTqLKDrSF79wA7dni9mRbGQAP8ifMTbh\n",
      "mtRa8Liyeygehg3b4JgEowjSCH9DqbR3pX\n"
     ]
    }
   ],
   "source": [
    "bx ec-to-address -v 111 02b3b4a1b2bd5555cbe37cc8cd58d143ee93cdde65ac987c5d2fbcdfd6fe79ccc5 &&\n",
    "bx ec-to-address -v 111 027546622c89d92aa58ad5cc0127dd67bac986c2fb52abfa4ed493ca9fa73e2f2a\n"
   ]
  },
  {
   "cell_type": "markdown",
   "metadata": {},
   "source": [
    "Spendable UXTOs:\n",
    "```\n",
    "TXID: e25dc4172478e5de9b90742f535a15c82ae086b957f47107ffc1ddd9f914a6e6\n",
    "Index: 0\n",
    "Amount: 130000000\n",
    "\n",
    "TXID: fd5e45759b80ca83665149b90bd77e3dcb087601758dfd58f20532c80a93679c\n",
    "Index: 0\n",
    "Amount: 72267635\n",
    "\n",
    "```"
   ]
  },
  {
   "cell_type": "markdown",
   "metadata": {},
   "source": [
    "<hr style=\"border: 0.5px dashed #000;\">\n",
    "\n",
    "## 1) Opening the payment channel\n",
    "<br>\n",
    "<img src=\"payment_channel_funding.jpg\" alt=\"drawing\" style=\"\" width=\"700px\"/>"
   ]
  },
  {
   "cell_type": "markdown",
   "metadata": {},
   "source": [
    "## 1.1) Alice creates the funding transaction"
   ]
  },
  {
   "cell_type": "markdown",
   "metadata": {},
   "source": [
    "### 1.1.1) A + B multisig output script\n",
    "* `2`\n",
    "* `public key A`\n",
    "* `public key B`\n",
    "* `2`\n",
    "* `checkmultisig`\n"
   ]
  },
  {
   "cell_type": "code",
   "execution_count": 293,
   "metadata": {},
   "outputs": [
    {
     "name": "stdout",
     "output_type": "stream",
     "text": [
      "524104b3b4a1b2bd5555cbe37cc8cd58d143ee93cdde65ac987c5d2fbcdfd6fe79ccc564bec969580738901a21e5b5dbd687ed9897a5a01a9e99a8dda825e14beee4bc41047546622c89d92aa58ad5cc0127dd67bac986c2fb52abfa4ed493ca9fa73e2f2a071bfd964f6ea4d9a0514db400a5df56a6fd5a058b4ea7444b7df8d834637fb252ae\n"
     ]
    }
   ],
   "source": [
    "bx script-encode \\\n",
    "\"2 [04b3b4a1b2bd5555cbe37cc8cd58d143ee93cdde65ac987c5d2fbcdfd6fe79ccc564bec969580738901a21e5b5dbd687ed9897a5a01a9e99a8dda825e14beee4bc] [047546622c89d92aa58ad5cc0127dd67bac986c2fb52abfa4ed493ca9fa73e2f2a071bfd964f6ea4d9a0514db400a5df56a6fd5a058b4ea7444b7df8d834637fb2] 2 CHECKMULTISIG\"\n"
   ]
  },
  {
   "cell_type": "markdown",
   "metadata": {},
   "source": [
    "### 1.1.2) Minimum fee calculation\n",
    "* `100 Satoshi/sigops + 1 Satoshi/Byte` \n",
    "* Multisig counts as `4 * 20 sigops`"
   ]
  },
  {
   "cell_type": "code",
   "execution_count": 295,
   "metadata": {},
   "outputs": [
    {
     "name": "stdout",
     "output_type": "stream",
     "text": [
      "72259295\n"
     ]
    }
   ],
   "source": [
    "expr 72267635 - 20 \\* 4 \\* 100 - 340"
   ]
  },
  {
   "cell_type": "markdown",
   "metadata": {},
   "source": [
    "### 1.1.3) Encode funding transaction for signing."
   ]
  },
  {
   "cell_type": "code",
   "execution_count": 23,
   "metadata": {},
   "outputs": [
    {
     "name": "stdout",
     "output_type": "stream",
     "text": [
      "01000000019c67930ac83205f258fd8d75017608cb3d7ed70bb949516683ca809b75455efd0000000000ffffffff01df964e040000000087524104b3b4a1b2bd5555cbe37cc8cd58d143ee93cdde65ac987c5d2fbcdfd6fe79ccc564bec969580738901a21e5b5dbd687ed9897a5a01a9e99a8dda825e14beee4bc41047546622c89d92aa58ad5cc0127dd67bac986c2fb52abfa4ed493ca9fa73e2f2a071bfd964f6ea4d9a0514db400a5df56a6fd5a058b4ea7444b7df8d834637fb252ae00000000\n"
     ]
    }
   ],
   "source": [
    "bx tx-encode \\\n",
    "-i fd5e45759b80ca83665149b90bd77e3dcb087601758dfd58f20532c80a93679c:0 \\\n",
    "-o 524104b3b4a1b2bd5555cbe37cc8cd58d143ee93cdde65ac987c5d2fbcdfd6fe79ccc564bec969580738901a21e5b5dbd687ed9897a5a01a9e99a8dda825e14beee4bc41047546622c89d92aa58ad5cc0127dd67bac986c2fb52abfa4ed493ca9fa73e2f2a071bfd964f6ea4d9a0514db400a5df56a6fd5a058b4ea7444b7df8d834637fb252ae:72259295"
   ]
  },
  {
   "cell_type": "markdown",
   "metadata": {},
   "source": [
    "### 1.1.4) Alice signs funding transaction."
   ]
  },
  {
   "cell_type": "code",
   "execution_count": 24,
   "metadata": {},
   "outputs": [
    {
     "name": "stdout",
     "output_type": "stream",
     "text": [
      "\u001b[0;32m\"dup hash160 [eb8e87d55a0a313628d70603ab342dd7c380993e] equalverify checksig\"\u001b[0m\n"
     ]
    }
   ],
   "source": [
    "bx fetch-tx -f json e25dc4172478e5de9b90742f535a15c82ae086b957f47107ffc1ddd9f914a6e6 \\\n",
    "| jq \".transaction.outputs[0].script\""
   ]
  },
  {
   "cell_type": "code",
   "execution_count": 25,
   "metadata": {},
   "outputs": [
    {
     "name": "stdout",
     "output_type": "stream",
     "text": [
      "3045022100d56c7408d1e89d5229fdc5fbe795d5b4c4f053f53a3f5c91b87814aed95b576d02207b1c9b16290cc6c7d3e68934908cef1e008ac8e2cfb5728c05273c38378f5d3201\n"
     ]
    }
   ],
   "source": [
    "bx input-sign \\\n",
    "dbafbb58c0e58a0609898e831d387e7ed63275e21c5755f1b4600b36cb314cbb \\\n",
    "\"dup hash160 [eb8e87d55a0a313628d70603ab342dd7c380993e] equalverify checksig\" \\\n",
    "01000000019c67930ac83205f258fd8d75017608cb3d7ed70bb949516683ca809b75455efd0000000000ffffffff01df964e040000000087524104b3b4a1b2bd5555cbe37cc8cd58d143ee93cdde65ac987c5d2fbcdfd6fe79ccc564bec969580738901a21e5b5dbd687ed9897a5a01a9e99a8dda825e14beee4bc41047546622c89d92aa58ad5cc0127dd67bac986c2fb52abfa4ed493ca9fa73e2f2a071bfd964f6ea4d9a0514db400a5df56a6fd5a058b4ea7444b7df8d834637fb252ae00000000\n"
   ]
  },
  {
   "cell_type": "code",
   "execution_count": 26,
   "metadata": {},
   "outputs": [
    {
     "name": "stdout",
     "output_type": "stream",
     "text": [
      "01000000019c67930ac83205f258fd8d75017608cb3d7ed70bb949516683ca809b75455efd000000006b483045022100d56c7408d1e89d5229fdc5fbe795d5b4c4f053f53a3f5c91b87814aed95b576d02207b1c9b16290cc6c7d3e68934908cef1e008ac8e2cfb5728c05273c38378f5d32012102b3b4a1b2bd5555cbe37cc8cd58d143ee93cdde65ac987c5d2fbcdfd6fe79ccc5ffffffff01df964e040000000087524104b3b4a1b2bd5555cbe37cc8cd58d143ee93cdde65ac987c5d2fbcdfd6fe79ccc564bec969580738901a21e5b5dbd687ed9897a5a01a9e99a8dda825e14beee4bc41047546622c89d92aa58ad5cc0127dd67bac986c2fb52abfa4ed493ca9fa73e2f2a071bfd964f6ea4d9a0514db400a5df56a6fd5a058b4ea7444b7df8d834637fb252ae00000000\n"
     ]
    }
   ],
   "source": [
    "bx input-set \\\n",
    "\"[3045022100d56c7408d1e89d5229fdc5fbe795d5b4c4f053f53a3f5c91b87814aed95b576d02207b1c9b16290cc6c7d3e68934908cef1e008ac8e2cfb5728c05273c38378f5d3201] [02b3b4a1b2bd5555cbe37cc8cd58d143ee93cdde65ac987c5d2fbcdfd6fe79ccc5]\" \\\n",
    "01000000019c67930ac83205f258fd8d75017608cb3d7ed70bb949516683ca809b75455efd0000000000ffffffff01df964e040000000087524104b3b4a1b2bd5555cbe37cc8cd58d143ee93cdde65ac987c5d2fbcdfd6fe79ccc564bec969580738901a21e5b5dbd687ed9897a5a01a9e99a8dda825e14beee4bc41047546622c89d92aa58ad5cc0127dd67bac986c2fb52abfa4ed493ca9fa73e2f2a071bfd964f6ea4d9a0514db400a5df56a6fd5a058b4ea7444b7df8d834637fb252ae00000000\n"
   ]
  },
  {
   "cell_type": "code",
   "execution_count": 27,
   "metadata": {},
   "outputs": [
    {
     "name": "stdout",
     "output_type": "stream",
     "text": [
      "previous output not found\n"
     ]
    },
    {
     "ename": "",
     "evalue": "255",
     "output_type": "error",
     "traceback": []
    }
   ],
   "source": [
    "bx validate-tx \\\n",
    "01000000019c67930ac83205f258fd8d75017608cb3d7ed70bb949516683ca809b75455efd000000006b483045022100d56c7408d1e89d5229fdc5fbe795d5b4c4f053f53a3f5c91b87814aed95b576d02207b1c9b16290cc6c7d3e68934908cef1e008ac8e2cfb5728c05273c38378f5d32012102b3b4a1b2bd5555cbe37cc8cd58d143ee93cdde65ac987c5d2fbcdfd6fe79ccc5ffffffff01df964e040000000087524104b3b4a1b2bd5555cbe37cc8cd58d143ee93cdde65ac987c5d2fbcdfd6fe79ccc564bec969580738901a21e5b5dbd687ed9897a5a01a9e99a8dda825e14beee4bc41047546622c89d92aa58ad5cc0127dd67bac986c2fb52abfa4ed493ca9fa73e2f2a071bfd964f6ea4d9a0514db400a5df56a6fd5a058b4ea7444b7df8d834637fb252ae00000000\n"
   ]
  },
  {
   "cell_type": "code",
   "execution_count": null,
   "metadata": {},
   "outputs": [],
   "source": [
    "bx tx-decode -f json \\\n",
    "01000000019c67930ac83205f258fd8d75017608cb3d7ed70bb949516683ca809b75455efd000000006b483045022100d56c7408d1e89d5229fdc5fbe795d5b4c4f053f53a3f5c91b87814aed95b576d02207b1c9b16290cc6c7d3e68934908cef1e008ac8e2cfb5728c05273c38378f5d32012102b3b4a1b2bd5555cbe37cc8cd58d143ee93cdde65ac987c5d2fbcdfd6fe79ccc5ffffffff01df964e040000000087524104b3b4a1b2bd5555cbe37cc8cd58d143ee93cdde65ac987c5d2fbcdfd6fe79ccc564bec969580738901a21e5b5dbd687ed9897a5a01a9e99a8dda825e14beee4bc41047546622c89d92aa58ad5cc0127dd67bac986c2fb52abfa4ed493ca9fa73e2f2a071bfd964f6ea4d9a0514db400a5df56a6fd5a058b4ea7444b7df8d834637fb252ae00000000 \\\n",
    "|jq \".transaction.hash\"\n"
   ]
  },
  {
   "cell_type": "markdown",
   "metadata": {},
   "source": [
    "**Important:** Alice can only broadcast the funding transaction once commitment 0 has been signed by both parties, as in the following section. Otherwise, her funds could become unspendable without Bob's cooperation. "
   ]
  },
  {
   "cell_type": "markdown",
   "metadata": {},
   "source": [
    "## 1.2) Commitment transactions `0a/0b`\n"
   ]
  },
  {
   "cell_type": "markdown",
   "metadata": {},
   "source": [
    "### 1.2.1) Commitment transaction `0a`"
   ]
  },
  {
   "cell_type": "markdown",
   "metadata": {},
   "source": [
    "**Output Scripts**\n",
    "* RSMC A\n",
    "* PKPKH B"
   ]
  },
  {
   "cell_type": "markdown",
   "metadata": {},
   "source": [
    "**RSMC A**\n",
    "* `IF`\n",
    "    * `[public key R]`\n",
    "* `ELSE`\n",
    "    * `[3-byte delay]`\n",
    "    * `checksequenceverify`\n",
    "    * `drop`\n",
    "    * `[public key A]`\n",
    "* `ENDIF`\n",
    "* `CHECKSIG`"
   ]
  },
  {
   "cell_type": "markdown",
   "metadata": {},
   "source": [
    "**`Secret r = r_A + r_B`**\n",
    "* Both Alice and Bob independently generate secrets `r_A` and `r_B`\n",
    "* Alice and Bob only exchange public keys `R_A` AND `R_B`\n",
    "* `public key R = R_A + R_B = r_A * G + r_B * G`"
   ]
  },
  {
   "cell_type": "code",
   "execution_count": null,
   "metadata": {},
   "outputs": [],
   "source": [
    "bx ec-to-public fde351a976918c9b03ffca81788792e441b4383fbd08c7b0938232f74eabbdb5 &&\n",
    "bx ec-to-public a7f98d6d45a96f94f314034535b2e5d86c659adde3e05d3b91b8c1a84b597ffd"
   ]
  },
  {
   "cell_type": "code",
   "execution_count": null,
   "metadata": {},
   "outputs": [],
   "source": [
    "# Public key R\n",
    "bx ec-add 031111a478bb24bd57e67ee3bacb920f2b38d6730ef9cd98f0386b4eea6eafee7a fde351a976918c9b03ffca81788792e441b4383fbd08c7b0938232f74eabbdb5"
   ]
  },
  {
   "cell_type": "markdown",
   "metadata": {},
   "source": [
    "**Encoding Output Scripts for Commitment `0a`**"
   ]
  },
  {
   "cell_type": "code",
   "execution_count": null,
   "metadata": {},
   "outputs": [],
   "source": [
    "#RSMC A\n",
    "bx script-encode \\\n",
    "\"IF [0358efa6bb04acb2c86342fa3dd84c2b360b1e8597b908a142ecca7517ed044058] ELSE [050000] CHECKSEQUENCEVERIFY DROP [02b3b4a1b2bd5555cbe37cc8cd58d143ee93cdde65ac987c5d2fbcdfd6fe79ccc5] ENDIF CHECKSIG\"\n"
   ]
  },
  {
   "cell_type": "code",
   "execution_count": null,
   "metadata": {},
   "outputs": [],
   "source": [
    "#P2PKH B\n",
    "bx script-encode \\\n",
    "\"DROP DUP HASH160 [8d950d086cf089d0bc29a0184faa7a448fd8c841] EQUALVERIFY CHECKSIG\"\n"
   ]
  },
  {
   "cell_type": "markdown",
   "metadata": {},
   "source": [
    "**Minimum Fee Calculation**"
   ]
  },
  {
   "cell_type": "code",
   "execution_count": null,
   "metadata": {},
   "outputs": [],
   "source": [
    "expr 72267635 - 20 \\* 4 \\* 100 - 340"
   ]
  },
  {
   "cell_type": "markdown",
   "metadata": {},
   "source": [
    "**Encode Commitment `0a` for signing**"
   ]
  },
  {
   "cell_type": "code",
   "execution_count": null,
   "metadata": {},
   "outputs": [],
   "source": [
    "bx tx-encode \\\n",
    "-i b995a01a12d34e8bc4792946fb84c38ce5c656a6ea57c70747434281302dc5a1:0 \\\n",
    "-o 63210358efa6bb04acb2c86342fa3dd84c2b360b1e8597b908a142ecca7517ed0440586703050000b2752102b3b4a1b2bd5555cbe37cc8cd58d143ee93cdde65ac987c5d2fbcdfd6fe79ccc568ac:72258610 \\\n",
    "7576a9148d950d086cf089d0bc29a0184faa7a448fd8c84188ac: 200000\n"
   ]
  },
  {
   "cell_type": "markdown",
   "metadata": {},
   "source": [
    "**Signing by Alice & Bob**"
   ]
  },
  {
   "cell_type": "code",
   "execution_count": 30,
   "metadata": {},
   "outputs": [
    {
     "name": "stdout",
     "output_type": "stream",
     "text": [
      "304402206d6c21404b467246d2ce6177140fa6ce530c8e18db93acece9577e6bc2b6cfc1022016b610ced9bfab67709bfab3ac5ea24034dbd4a842c76e446d6bf5de77b3876e01\n",
      "3045022100fae26bce880ee44ebfbed8dc9c6455a01bacc025cbef3787b9a4d438a10d74cf022045d12fd6cf15601dcc246da119a9f1991d2a853306c25ec72168f90659c9324a01\n"
     ]
    }
   ],
   "source": [
    "bx input-sign dbafbb58c0e58a0609898e831d387e7ed63275e21c5755f1b4600b36cb314cbb \\\n",
    "\"2 [04b3b4a1b2bd5555cbe37cc8cd58d143ee93cdde65ac987c5d2fbcdfd6fe79ccc564bec969580738901a21e5b5dbd687ed9897a5a01a9e99a8dda825e14beee4bc] [047546622c89d92aa58ad5cc0127dd67bac986c2fb52abfa4ed493ca9fa73e2f2a071bfd964f6ea4d9a0514db400a5df56a6fd5a058b4ea7444b7df8d834637fb2] 2 checkmultisig\" \\\n",
    "0100000001a1c52d308142434707c757eaa656c6e58cc384fb462979c48b4ed3121aa095b90000000000ffffffff0164944e04000000001a7576a914eb8e87d55a0a313628d70603ab342dd7c380993e88ac00000000 \\\n",
    "&&\n",
    "bx input-sign 2d80969c3c10a85ce8a887686f9faad63d0b8bd05f6b5f4e22e425073c263129 \\\n",
    "\"2 [04b3b4a1b2bd5555cbe37cc8cd58d143ee93cdde65ac987c5d2fbcdfd6fe79ccc564bec969580738901a21e5b5dbd687ed9897a5a01a9e99a8dda825e14beee4bc] [047546622c89d92aa58ad5cc0127dd67bac986c2fb52abfa4ed493ca9fa73e2f2a071bfd964f6ea4d9a0514db400a5df56a6fd5a058b4ea7444b7df8d834637fb2] 2 checkmultisig\" \\\n",
    "0100000001a1c52d308142434707c757eaa656c6e58cc384fb462979c48b4ed3121aa095b90000000000ffffffff0164944e04000000001a7576a914eb8e87d55a0a313628d70603ab342dd7c380993e88ac00000000\n"
   ]
  },
  {
   "cell_type": "code",
   "execution_count": 31,
   "metadata": {},
   "outputs": [
    {
     "name": "stdout",
     "output_type": "stream",
     "text": [
      "0100000001a1c52d308142434707c757eaa656c6e58cc384fb462979c48b4ed3121aa095b900000000920047304402206d6c21404b467246d2ce6177140fa6ce530c8e18db93acece9577e6bc2b6cfc1022016b610ced9bfab67709bfab3ac5ea24034dbd4a842c76e446d6bf5de77b3876e01483045022100fae26bce880ee44ebfbed8dc9c6455a01bacc025cbef3787b9a4d438a10d74cf022045d12fd6cf15601dcc246da119a9f1991d2a853306c25ec72168f90659c9324a01ffffffff0164944e04000000001a7576a914eb8e87d55a0a313628d70603ab342dd7c380993e88ac00000000\n"
     ]
    }
   ],
   "source": [
    "bx input-set \\\n",
    "\"zero [304402206d6c21404b467246d2ce6177140fa6ce530c8e18db93acece9577e6bc2b6cfc1022016b610ced9bfab67709bfab3ac5ea24034dbd4a842c76e446d6bf5de77b3876e01] [3045022100fae26bce880ee44ebfbed8dc9c6455a01bacc025cbef3787b9a4d438a10d74cf022045d12fd6cf15601dcc246da119a9f1991d2a853306c25ec72168f90659c9324a01]\" \\\n",
    "0100000001a1c52d308142434707c757eaa656c6e58cc384fb462979c48b4ed3121aa095b90000000000ffffffff0164944e04000000001a7576a914eb8e87d55a0a313628d70603ab342dd7c380993e88ac00000000\n"
   ]
  },
  {
   "cell_type": "markdown",
   "metadata": {},
   "source": [
    "**With commitment `0a` now complete, Alice is now ready to broadcast the funding transaction**"
   ]
  },
  {
   "cell_type": "code",
   "execution_count": 32,
   "metadata": {},
   "outputs": [
    {
     "name": "stdout",
     "output_type": "stream",
     "text": [
      "previous output not found\n"
     ]
    },
    {
     "ename": "",
     "evalue": "255",
     "output_type": "error",
     "traceback": []
    }
   ],
   "source": [
    "bx send-tx \\\n",
    "01000000019c67930ac83205f258fd8d75017608cb3d7ed70bb949516683ca809b75455efd000000006b483045022100d56c7408d1e89d5229fdc5fbe795d5b4c4f053f53a3f5c91b87814aed95b576d02207b1c9b16290cc6c7d3e68934908cef1e008ac8e2cfb5728c05273c38378f5d32012102b3b4a1b2bd5555cbe37cc8cd58d143ee93cdde65ac987c5d2fbcdfd6fe79ccc5ffffffff01df964e040000000087524104b3b4a1b2bd5555cbe37cc8cd58d143ee93cdde65ac987c5d2fbcdfd6fe79ccc564bec969580738901a21e5b5dbd687ed9897a5a01a9e99a8dda825e14beee4bc41047546622c89d92aa58ad5cc0127dd67bac986c2fb52abfa4ed493ca9fa73e2f2a071bfd964f6ea4d9a0514db400a5df56a6fd5a058b4ea7444b7df8d834637fb252ae00000000\n"
   ]
  },
  {
   "cell_type": "markdown",
   "metadata": {},
   "source": [
    "### 1.2.2) Commitment transaction `0b`\n",
    "* Not shown\n",
    "* Follows section 1.2.1"
   ]
  },
  {
   "cell_type": "markdown",
   "metadata": {},
   "source": [
    "<hr style=\"border: 0.5px dashed #000;\">\n",
    "\n",
    "\n",
    "## 2) Updating the channel\n",
    "<br>\n",
    "<img src=\"payment_channel_update.jpg\" alt=\"drawing\" style=\"\" width=\"700px\"/>"
   ]
  },
  {
   "cell_type": "markdown",
   "metadata": {},
   "source": [
    "### 2.1) New commitment transaction `1a`/`1b` are created\n",
    "* Not shown \n",
    "* Follows section 1.2\n"
   ]
  },
  {
   "cell_type": "markdown",
   "metadata": {},
   "source": [
    "### 2.2) Alice reveals `r_A` to Bob\n",
    "* Since Alice is paying Bob, she must revoke her past commitment TX output. \n",
    "* Bob can now compute `r` = `r_A + r_B`"
   ]
  },
  {
   "cell_type": "code",
   "execution_count": 6,
   "metadata": {},
   "outputs": [
    {
     "name": "stdout",
     "output_type": "stream",
     "text": [
      "a5dcdf16bc3afc2ff713cdc6ae3a78bdf36af636f1a084b065689612c9cefc71\n"
     ]
    }
   ],
   "source": [
    "bx ec-add-secrets \\\n",
    "fde351a976918c9b03ffca81788792e441b4383fbd08c7b0938232f74eabbdb5 \\\n",
    "a7f98d6d45a96f94f314034535b2e5d86c659adde3e05d3b91b8c1a84b597ffd\n"
   ]
  },
  {
   "cell_type": "markdown",
   "metadata": {},
   "source": [
    "<hr style=\"border: 0.5px dashed #000;\">\n",
    "\n",
    "## 3) Alice broadcasts old state. Bob sweeps the channel.\n",
    "<br>\n",
    "<img src=\"payment_channel_penalty.jpg\" alt=\"drawing\" style=\"\" width=\"700px\"/>"
   ]
  },
  {
   "cell_type": "markdown",
   "metadata": {},
   "source": [
    "### 3.1) Alice broadcasts commitment tx `0a`"
   ]
  },
  {
   "cell_type": "code",
   "execution_count": null,
   "metadata": {},
   "outputs": [],
   "source": [
    "bx send-tx \n"
   ]
  },
  {
   "cell_type": "markdown",
   "metadata": {},
   "source": [
    "### 3.2) Bob sweeps funds from commitment tx `0a`"
   ]
  },
  {
   "cell_type": "markdown",
   "metadata": {},
   "source": [
    "#### 3.2.1) Encode penalty transaction for signing"
   ]
  },
  {
   "cell_type": "code",
   "execution_count": null,
   "metadata": {},
   "outputs": [],
   "source": [
    "# Encode output spendable by Bob\n",
    "bx script-encode \\\n",
    "\"DROP DUP HASH160 [8d950d086cf089d0bc29a0184faa7a448fd8c841] EQUALVERIFY CHECKSIG\"\n"
   ]
  },
  {
   "cell_type": "code",
   "execution_count": null,
   "metadata": {},
   "outputs": [],
   "source": [
    "bx tx-encode \\\n",
    "-i b995a01a12d34e8bc4792946fb84c38ce5c656a6ea57c70747434281302dc5a1:0 \\\n",
    "b995a01a12d34e8bc4792946fb84c38ce5c656a6ea57c70747434281302dc5a1:1\n",
    "-o 7576a914eb8e87d55a0a313628d70603ab342dd7c380993e88ac:72258660\n"
   ]
  },
  {
   "cell_type": "markdown",
   "metadata": {},
   "source": [
    "#### 3.2.2) Input script spending RSMC A"
   ]
  },
  {
   "cell_type": "code",
   "execution_count": null,
   "metadata": {},
   "outputs": [],
   "source": []
  },
  {
   "cell_type": "markdown",
   "metadata": {},
   "source": [
    "#### 3.2.3) Input script spending P2PKH B"
   ]
  },
  {
   "cell_type": "code",
   "execution_count": null,
   "metadata": {},
   "outputs": [],
   "source": []
  },
  {
   "cell_type": "code",
   "execution_count": null,
   "metadata": {},
   "outputs": [],
   "source": []
  },
  {
   "cell_type": "code",
   "execution_count": null,
   "metadata": {},
   "outputs": [],
   "source": []
  },
  {
   "cell_type": "code",
   "execution_count": null,
   "metadata": {},
   "outputs": [],
   "source": [
    "bx script-encode \\\n",
    "\"DROP DUP HASH160 [eb8e87d55a0a313628d70603ab342dd7c380993e] EQUALVERIFY CHECKSIG\""
   ]
  },
  {
   "cell_type": "code",
   "execution_count": null,
   "metadata": {},
   "outputs": [],
   "source": [
    "expr 72259295 - 1 \\* 4 \\* 100 - 235"
   ]
  },
  {
   "cell_type": "code",
   "execution_count": 207,
   "metadata": {},
   "outputs": [
    {
     "name": "stdout",
     "output_type": "stream",
     "text": [
      "0100000001a1c52d308142434707c757eaa656c6e58cc384fb462979c48b4ed3121aa095b90000000000ffffffff0164944e04000000001a7576a914eb8e87d55a0a313628d70603ab342dd7c380993e88ac00000000\n"
     ]
    }
   ],
   "source": [
    "bx tx-encode \\\n",
    "-i b995a01a12d34e8bc4792946fb84c38ce5c656a6ea57c70747434281302dc5a1:0 \\\n",
    "-o 7576a914eb8e87d55a0a313628d70603ab342dd7c380993e88ac:72258660"
   ]
  },
  {
   "cell_type": "code",
   "execution_count": 208,
   "metadata": {},
   "outputs": [
    {
     "name": "stdout",
     "output_type": "stream",
     "text": [
      "\u001b[0;32m\"2 [04b3b4a1b2bd5555cbe37cc8cd58d143ee93cdde65ac987c5d2fbcdfd6fe79ccc564bec969580738901a21e5b5dbd687ed9897a5a01a9e99a8dda825e14beee4bc] [047546622c89d92aa58ad5cc0127dd67bac986c2fb52abfa4ed493ca9fa73e2f2a071bfd964f6ea4d9a0514db400a5df56a6fd5a058b4ea7444b7df8d834637fb2] 2 checkmultisig\"\u001b[0m\n"
     ]
    }
   ],
   "source": [
    "bx fetch-tx -f json b995a01a12d34e8bc4792946fb84c38ce5c656a6ea57c70747434281302dc5a1 \\\n",
    "| jq \".transaction.outputs[0].script\""
   ]
  },
  {
   "cell_type": "markdown",
   "metadata": {},
   "source": [
    "TODO: Sighash none for B signature."
   ]
  },
  {
   "cell_type": "code",
   "execution_count": 296,
   "metadata": {},
   "outputs": [
    {
     "name": "stdout",
     "output_type": "stream",
     "text": [
      "304402206d6c21404b467246d2ce6177140fa6ce530c8e18db93acece9577e6bc2b6cfc1022016b610ced9bfab67709bfab3ac5ea24034dbd4a842c76e446d6bf5de77b3876e01\n",
      "3045022100fae26bce880ee44ebfbed8dc9c6455a01bacc025cbef3787b9a4d438a10d74cf022045d12fd6cf15601dcc246da119a9f1991d2a853306c25ec72168f90659c9324a01\n"
     ]
    }
   ],
   "source": [
    "bx input-sign dbafbb58c0e58a0609898e831d387e7ed63275e21c5755f1b4600b36cb314cbb \\\n",
    "\"2 [04b3b4a1b2bd5555cbe37cc8cd58d143ee93cdde65ac987c5d2fbcdfd6fe79ccc564bec969580738901a21e5b5dbd687ed9897a5a01a9e99a8dda825e14beee4bc] [047546622c89d92aa58ad5cc0127dd67bac986c2fb52abfa4ed493ca9fa73e2f2a071bfd964f6ea4d9a0514db400a5df56a6fd5a058b4ea7444b7df8d834637fb2] 2 checkmultisig\" \\\n",
    "0100000001a1c52d308142434707c757eaa656c6e58cc384fb462979c48b4ed3121aa095b90000000000ffffffff0164944e04000000001a7576a914eb8e87d55a0a313628d70603ab342dd7c380993e88ac00000000 \\\n",
    "&&\n",
    "bx input-sign 2d80969c3c10a85ce8a887686f9faad63d0b8bd05f6b5f4e22e425073c263129 \\\n",
    "\"2 [04b3b4a1b2bd5555cbe37cc8cd58d143ee93cdde65ac987c5d2fbcdfd6fe79ccc564bec969580738901a21e5b5dbd687ed9897a5a01a9e99a8dda825e14beee4bc] [047546622c89d92aa58ad5cc0127dd67bac986c2fb52abfa4ed493ca9fa73e2f2a071bfd964f6ea4d9a0514db400a5df56a6fd5a058b4ea7444b7df8d834637fb2] 2 checkmultisig\" \\\n",
    "0100000001a1c52d308142434707c757eaa656c6e58cc384fb462979c48b4ed3121aa095b90000000000ffffffff0164944e04000000001a7576a914eb8e87d55a0a313628d70603ab342dd7c380993e88ac00000000\n"
   ]
  },
  {
   "cell_type": "code",
   "execution_count": 297,
   "metadata": {},
   "outputs": [
    {
     "name": "stdout",
     "output_type": "stream",
     "text": [
      "0100000001a1c52d308142434707c757eaa656c6e58cc384fb462979c48b4ed3121aa095b900000000920047304402206d6c21404b467246d2ce6177140fa6ce530c8e18db93acece9577e6bc2b6cfc1022016b610ced9bfab67709bfab3ac5ea24034dbd4a842c76e446d6bf5de77b3876e01483045022100fae26bce880ee44ebfbed8dc9c6455a01bacc025cbef3787b9a4d438a10d74cf022045d12fd6cf15601dcc246da119a9f1991d2a853306c25ec72168f90659c9324a01ffffffff0164944e04000000001a7576a914eb8e87d55a0a313628d70603ab342dd7c380993e88ac00000000\n"
     ]
    }
   ],
   "source": [
    "bx input-set \\\n",
    "\"zero [304402206d6c21404b467246d2ce6177140fa6ce530c8e18db93acece9577e6bc2b6cfc1022016b610ced9bfab67709bfab3ac5ea24034dbd4a842c76e446d6bf5de77b3876e01] [3045022100fae26bce880ee44ebfbed8dc9c6455a01bacc025cbef3787b9a4d438a10d74cf022045d12fd6cf15601dcc246da119a9f1991d2a853306c25ec72168f90659c9324a01]\" \\\n",
    "0100000001a1c52d308142434707c757eaa656c6e58cc384fb462979c48b4ed3121aa095b90000000000ffffffff0164944e04000000001a7576a914eb8e87d55a0a313628d70603ab342dd7c380993e88ac00000000\n"
   ]
  },
  {
   "cell_type": "code",
   "execution_count": 298,
   "metadata": {},
   "outputs": [
    {
     "name": "stdout",
     "output_type": "stream",
     "text": [
      "previous output not found\n"
     ]
    },
    {
     "ename": "",
     "evalue": "255",
     "output_type": "error",
     "traceback": []
    }
   ],
   "source": [
    "bx validate-tx 0100000001a1c52d308142434707c757eaa656c6e58cc384fb462979c48b4ed3121aa095b900000000920047304402206d6c21404b467246d2ce6177140fa6ce530c8e18db93acece9577e6bc2b6cfc1022016b610ced9bfab67709bfab3ac5ea24034dbd4a842c76e446d6bf5de77b3876e01483045022100fae26bce880ee44ebfbed8dc9c6455a01bacc025cbef3787b9a4d438a10d74cf022045d12fd6cf15601dcc246da119a9f1991d2a853306c25ec72168f90659c9324a01ffffffff0164944e04000000001a7576a914eb8e87d55a0a313628d70603ab342dd7c380993e88ac00000000"
   ]
  },
  {
   "cell_type": "code",
   "execution_count": 299,
   "metadata": {},
   "outputs": [
    {
     "name": "stdout",
     "output_type": "stream",
     "text": [
      "\u001b[0;32m\"605083d0800f16112f1627f96af928cbff373fc108a37801fea9e913f738d39d\"\u001b[0m\n"
     ]
    }
   ],
   "source": [
    "bx tx-decode -f json \\\n",
    "0100000001a1c52d308142434707c757eaa656c6e58cc384fb462979c48b4ed3121aa095b900000000920047304402206d6c21404b467246d2ce6177140fa6ce530c8e18db93acece9577e6bc2b6cfc1022016b610ced9bfab67709bfab3ac5ea24034dbd4a842c76e446d6bf5de77b3876e01483045022100fae26bce880ee44ebfbed8dc9c6455a01bacc025cbef3787b9a4d438a10d74cf022045d12fd6cf15601dcc246da119a9f1991d2a853306c25ec72168f90659c9324a01ffffffff0164944e04000000001a7576a914eb8e87d55a0a313628d70603ab342dd7c380993e88ac00000000 \\\n",
    "|jq \".transaction.hash\""
   ]
  },
  {
   "cell_type": "code",
   "execution_count": null,
   "metadata": {},
   "outputs": [],
   "source": []
  },
  {
   "cell_type": "markdown",
   "metadata": {},
   "source": [
    "<hr style=\"border: 0.5px dashed #000;\">"
   ]
  },
  {
   "cell_type": "markdown",
   "metadata": {},
   "source": [
    "Generate new R Keys:"
   ]
  },
  {
   "cell_type": "code",
   "execution_count": 300,
   "metadata": {},
   "outputs": [
    {
     "name": "stdout",
     "output_type": "stream",
     "text": [
      "032377c6bb0ab686e3f01aa30c8dc6e5711814cde5bd2d3b9a609f39a4528da783\n",
      "031111a478bb24bd57e67ee3bacb920f2b38d6730ef9cd98f0386b4eea6eafee7a\n"
     ]
    }
   ],
   "source": [
    "bx ec-to-public fde351a976918c9b03ffca81788792e441b4383fbd08c7b0938232f74eabbdb5 &&\n",
    "bx ec-to-public a7f98d6d45a96f94f314034535b2e5d86c659adde3e05d3b91b8c1a84b597ffd"
   ]
  },
  {
   "cell_type": "code",
   "execution_count": 301,
   "metadata": {},
   "outputs": [
    {
     "name": "stdout",
     "output_type": "stream",
     "text": [
      "0358efa6bb04acb2c86342fa3dd84c2b360b1e8597b908a142ecca7517ed044058\n"
     ]
    }
   ],
   "source": [
    "bx ec-add 031111a478bb24bd57e67ee3bacb920f2b38d6730ef9cd98f0386b4eea6eafee7a fde351a976918c9b03ffca81788792e441b4383fbd08c7b0938232f74eabbdb5"
   ]
  },
  {
   "cell_type": "code",
   "execution_count": 302,
   "metadata": {},
   "outputs": [
    {
     "name": "stdout",
     "output_type": "stream",
     "text": [
      "0358efa6bb04acb2c86342fa3dd84c2b360b1e8597b908a142ecca7517ed044058\n"
     ]
    }
   ],
   "source": [
    "bx ec-add-secrets fde351a976918c9b03ffca81788792e441b4383fbd08c7b0938232f74eabbdb5 a7f98d6d45a96f94f314034535b2e5d86c659adde3e05d3b91b8c1a84b597ffd \\\n",
    "| bx ec-to-public"
   ]
  },
  {
   "cell_type": "markdown",
   "metadata": {},
   "source": [
    "Create RSMC A or B:\n",
    "* IF\n",
    "    * [public key R]\n",
    "* ELSE\n",
    "    * [3-byte delay]\n",
    "    * checksequenceverify\n",
    "    * drop\n",
    "    * [public key A or B]\n",
    "* ENDIF\n",
    "* CHECKSIG\n",
    "    "
   ]
  },
  {
   "cell_type": "code",
   "execution_count": 303,
   "metadata": {},
   "outputs": [
    {
     "name": "stdout",
     "output_type": "stream",
     "text": [
      "63210358efa6bb04acb2c86342fa3dd84c2b360b1e8597b908a142ecca7517ed0440586703050000b2752102b3b4a1b2bd5555cbe37cc8cd58d143ee93cdde65ac987c5d2fbcdfd6fe79ccc568ac\n"
     ]
    }
   ],
   "source": [
    "bx script-encode \\\n",
    "\"IF [0358efa6bb04acb2c86342fa3dd84c2b360b1e8597b908a142ecca7517ed044058] ELSE [050000] CHECKSEQUENCEVERIFY DROP [02b3b4a1b2bd5555cbe37cc8cd58d143ee93cdde65ac987c5d2fbcdfd6fe79ccc5] ENDIF CHECKSIG\"\n"
   ]
  },
  {
   "cell_type": "code",
   "execution_count": 304,
   "metadata": {},
   "outputs": [
    {
     "name": "stdout",
     "output_type": "stream",
     "text": [
      "63210358efa6bb04acb2c86342fa3dd84c2b360b1e8597b908a142ecca7517ed0440586703050000b27521027546622c89d92aa58ad5cc0127dd67bac986c2fb52abfa4ed493ca9fa73e2f2a68ac\n"
     ]
    }
   ],
   "source": [
    "bx script-encode \\\n",
    "\"IF [0358efa6bb04acb2c86342fa3dd84c2b360b1e8597b908a142ecca7517ed044058] ELSE [050000] CHECKSEQUENCEVERIFY DROP [027546622c89d92aa58ad5cc0127dd67bac986c2fb52abfa4ed493ca9fa73e2f2a] ENDIF CHECKSIG\"\n"
   ]
  },
  {
   "cell_type": "code",
   "execution_count": 221,
   "metadata": {},
   "outputs": [
    {
     "name": "stdout",
     "output_type": "stream",
     "text": [
      "\u001b[0;32m\"2 [04b3b4a1b2bd5555cbe37cc8cd58d143ee93cdde65ac987c5d2fbcdfd6fe79ccc564bec969580738901a21e5b5dbd687ed9897a5a01a9e99a8dda825e14beee4bc] [047546622c89d92aa58ad5cc0127dd67bac986c2fb52abfa4ed493ca9fa73e2f2a071bfd964f6ea4d9a0514db400a5df56a6fd5a058b4ea7444b7df8d834637fb2] 2 checkmultisig\"\u001b[0m\n"
     ]
    }
   ],
   "source": [
    "bx fetch-tx -f json b995a01a12d34e8bc4792946fb84c38ce5c656a6ea57c70747434281302dc5a1 \\\n",
    "| jq \".transaction.outputs[0].script\""
   ]
  },
  {
   "cell_type": "code",
   "execution_count": 239,
   "metadata": {},
   "outputs": [
    {
     "name": "stdout",
     "output_type": "stream",
     "text": [
      "72258610\n"
     ]
    }
   ],
   "source": [
    "expr 72259295 - 1 \\* 4 \\* 100 - 285"
   ]
  },
  {
   "cell_type": "code",
   "execution_count": 240,
   "metadata": {},
   "outputs": [
    {
     "name": "stdout",
     "output_type": "stream",
     "text": [
      "0100000001a1c52d308142434707c757eaa656c6e58cc384fb462979c48b4ed3121aa095b90000000000ffffffff0132944e04000000004e63210358efa6bb04acb2c86342fa3dd84c2b360b1e8597b908a142ecca7517ed0440586703050000b2752102b3b4a1b2bd5555cbe37cc8cd58d143ee93cdde65ac987c5d2fbcdfd6fe79ccc568ac00000000\n"
     ]
    }
   ],
   "source": [
    "bx tx-encode \\\n",
    "-i b995a01a12d34e8bc4792946fb84c38ce5c656a6ea57c70747434281302dc5a1:0 \\\n",
    "-o 63210358efa6bb04acb2c86342fa3dd84c2b360b1e8597b908a142ecca7517ed0440586703050000b2752102b3b4a1b2bd5555cbe37cc8cd58d143ee93cdde65ac987c5d2fbcdfd6fe79ccc568ac:72258610\n"
   ]
  },
  {
   "cell_type": "code",
   "execution_count": 241,
   "metadata": {},
   "outputs": [
    {
     "name": "stdout",
     "output_type": "stream",
     "text": [
      "3045022100f466fa55a0bf09a76a9cd5dfcecd70eb60da5f1171a05e0e877ca04c474a644c02200c83421d4b0827da1c5e4cfd7d2857ce84c1616d9abca39f5d68a0a117d55a9d01\n",
      "3045022100c9526668d57cfe41fba009e70da756c5152b4a1b6ab7307ff7b68cea19a6082f0220354be51a646bd95b529b497d48188ba5cdf68439a10ac11072fff192a7921c0a01\n"
     ]
    }
   ],
   "source": [
    "bx input-sign dbafbb58c0e58a0609898e831d387e7ed63275e21c5755f1b4600b36cb314cbb \\\n",
    "\"2 [04b3b4a1b2bd5555cbe37cc8cd58d143ee93cdde65ac987c5d2fbcdfd6fe79ccc564bec969580738901a21e5b5dbd687ed9897a5a01a9e99a8dda825e14beee4bc] [047546622c89d92aa58ad5cc0127dd67bac986c2fb52abfa4ed493ca9fa73e2f2a071bfd964f6ea4d9a0514db400a5df56a6fd5a058b4ea7444b7df8d834637fb2] 2 checkmultisig\" \\\n",
    "0100000001a1c52d308142434707c757eaa656c6e58cc384fb462979c48b4ed3121aa095b90000000000ffffffff0132944e04000000004e63210358efa6bb04acb2c86342fa3dd84c2b360b1e8597b908a142ecca7517ed0440586703050000b2752102b3b4a1b2bd5555cbe37cc8cd58d143ee93cdde65ac987c5d2fbcdfd6fe79ccc568ac00000000 \\\n",
    "&&\n",
    "bx input-sign 2d80969c3c10a85ce8a887686f9faad63d0b8bd05f6b5f4e22e425073c263129 \\\n",
    "\"2 [04b3b4a1b2bd5555cbe37cc8cd58d143ee93cdde65ac987c5d2fbcdfd6fe79ccc564bec969580738901a21e5b5dbd687ed9897a5a01a9e99a8dda825e14beee4bc] [047546622c89d92aa58ad5cc0127dd67bac986c2fb52abfa4ed493ca9fa73e2f2a071bfd964f6ea4d9a0514db400a5df56a6fd5a058b4ea7444b7df8d834637fb2] 2 checkmultisig\" \\\n",
    "0100000001a1c52d308142434707c757eaa656c6e58cc384fb462979c48b4ed3121aa095b90000000000ffffffff0132944e04000000004e63210358efa6bb04acb2c86342fa3dd84c2b360b1e8597b908a142ecca7517ed0440586703050000b2752102b3b4a1b2bd5555cbe37cc8cd58d143ee93cdde65ac987c5d2fbcdfd6fe79ccc568ac00000000\n"
   ]
  },
  {
   "cell_type": "code",
   "execution_count": 242,
   "metadata": {},
   "outputs": [
    {
     "name": "stdout",
     "output_type": "stream",
     "text": [
      "0100000001a1c52d308142434707c757eaa656c6e58cc384fb462979c48b4ed3121aa095b9000000009300483045022100f466fa55a0bf09a76a9cd5dfcecd70eb60da5f1171a05e0e877ca04c474a644c02200c83421d4b0827da1c5e4cfd7d2857ce84c1616d9abca39f5d68a0a117d55a9d01483045022100c9526668d57cfe41fba009e70da756c5152b4a1b6ab7307ff7b68cea19a6082f0220354be51a646bd95b529b497d48188ba5cdf68439a10ac11072fff192a7921c0a01ffffffff0132944e04000000004e63210358efa6bb04acb2c86342fa3dd84c2b360b1e8597b908a142ecca7517ed0440586703050000b2752102b3b4a1b2bd5555cbe37cc8cd58d143ee93cdde65ac987c5d2fbcdfd6fe79ccc568ac00000000\n"
     ]
    }
   ],
   "source": [
    "bx input-set \\\n",
    "\"zero [3045022100f466fa55a0bf09a76a9cd5dfcecd70eb60da5f1171a05e0e877ca04c474a644c02200c83421d4b0827da1c5e4cfd7d2857ce84c1616d9abca39f5d68a0a117d55a9d01] [3045022100c9526668d57cfe41fba009e70da756c5152b4a1b6ab7307ff7b68cea19a6082f0220354be51a646bd95b529b497d48188ba5cdf68439a10ac11072fff192a7921c0a01]\" \\\n",
    "0100000001a1c52d308142434707c757eaa656c6e58cc384fb462979c48b4ed3121aa095b90000000000ffffffff0132944e04000000004e63210358efa6bb04acb2c86342fa3dd84c2b360b1e8597b908a142ecca7517ed0440586703050000b2752102b3b4a1b2bd5555cbe37cc8cd58d143ee93cdde65ac987c5d2fbcdfd6fe79ccc568ac00000000\n"
   ]
  },
  {
   "cell_type": "code",
   "execution_count": 305,
   "metadata": {},
   "outputs": [
    {
     "name": "stdout",
     "output_type": "stream",
     "text": [
      "matching transaction with unspent outputs\n"
     ]
    },
    {
     "ename": "",
     "evalue": "255",
     "output_type": "error",
     "traceback": []
    }
   ],
   "source": [
    "bx validate-tx \\\n",
    "0100000001a1c52d308142434707c757eaa656c6e58cc384fb462979c48b4ed3121aa095b9000000009300483045022100f466fa55a0bf09a76a9cd5dfcecd70eb60da5f1171a05e0e877ca04c474a644c02200c83421d4b0827da1c5e4cfd7d2857ce84c1616d9abca39f5d68a0a117d55a9d01483045022100c9526668d57cfe41fba009e70da756c5152b4a1b6ab7307ff7b68cea19a6082f0220354be51a646bd95b529b497d48188ba5cdf68439a10ac11072fff192a7921c0a01ffffffff0132944e04000000004e63210358efa6bb04acb2c86342fa3dd84c2b360b1e8597b908a142ecca7517ed0440586703050000b2752102b3b4a1b2bd5555cbe37cc8cd58d143ee93cdde65ac987c5d2fbcdfd6fe79ccc568ac00000000\n"
   ]
  },
  {
   "cell_type": "code",
   "execution_count": null,
   "metadata": {},
   "outputs": [],
   "source": [
    "bx send-tx \\\n",
    "0100000001a1c52d308142434707c757eaa656c6e58cc384fb462979c48b4ed3121aa095b9000000009300483045022100f466fa55a0bf09a76a9cd5dfcecd70eb60da5f1171a05e0e877ca04c474a644c02200c83421d4b0827da1c5e4cfd7d2857ce84c1616d9abca39f5d68a0a117d55a9d01483045022100c9526668d57cfe41fba009e70da756c5152b4a1b6ab7307ff7b68cea19a6082f0220354be51a646bd95b529b497d48188ba5cdf68439a10ac11072fff192a7921c0a01ffffffff0132944e04000000004e63210358efa6bb04acb2c86342fa3dd84c2b360b1e8597b908a142ecca7517ed0440586703050000b2752102b3b4a1b2bd5555cbe37cc8cd58d143ee93cdde65ac987c5d2fbcdfd6fe79ccc568ac00000000"
   ]
  },
  {
   "cell_type": "code",
   "execution_count": 306,
   "metadata": {},
   "outputs": [
    {
     "name": "stdout",
     "output_type": "stream",
     "text": [
      "\u001b[0;32m\"6c3f13be372fe3337e2ca2ae1bf19f14a8b7e214e085725553bdc6d8cbe922cb\"\u001b[0m\n"
     ]
    }
   ],
   "source": [
    "bx tx-decode -f json \\\n",
    "0100000001a1c52d308142434707c757eaa656c6e58cc384fb462979c48b4ed3121aa095b9000000009300483045022100f466fa55a0bf09a76a9cd5dfcecd70eb60da5f1171a05e0e877ca04c474a644c02200c83421d4b0827da1c5e4cfd7d2857ce84c1616d9abca39f5d68a0a117d55a9d01483045022100c9526668d57cfe41fba009e70da756c5152b4a1b6ab7307ff7b68cea19a6082f0220354be51a646bd95b529b497d48188ba5cdf68439a10ac11072fff192a7921c0a01ffffffff0132944e04000000004e63210358efa6bb04acb2c86342fa3dd84c2b360b1e8597b908a142ecca7517ed0440586703050000b2752102b3b4a1b2bd5555cbe37cc8cd58d143ee93cdde65ac987c5d2fbcdfd6fe79ccc568ac00000000 \\\n",
    "|jq \".transaction.hash\""
   ]
  },
  {
   "cell_type": "markdown",
   "metadata": {},
   "source": [
    "<hr style=\"border: 0.5px dashed #000;\">"
   ]
  },
  {
   "cell_type": "markdown",
   "metadata": {},
   "source": [
    "Spend RSMC A:\n",
    "* After timeout:\n",
    "    * `[Sig A]`\n",
    "    * `0`\n",
    "* Penalty spend if revoked:\n",
    "    * `[Sig R]`\n",
    "    * `1`"
   ]
  },
  {
   "cell_type": "code",
   "execution_count": 307,
   "metadata": {},
   "outputs": [
    {
     "name": "stdout",
     "output_type": "stream",
     "text": [
      "a5dcdf16bc3afc2ff713cdc6ae3a78bdf36af636f1a084b065689612c9cefc71\n"
     ]
    }
   ],
   "source": [
    "bx ec-add-secrets fde351a976918c9b03ffca81788792e441b4383fbd08c7b0938232f74eabbdb5 a7f98d6d45a96f94f314034535b2e5d86c659adde3e05d3b91b8c1a84b597ffd"
   ]
  },
  {
   "cell_type": "code",
   "execution_count": 4,
   "metadata": {},
   "outputs": [
    {
     "name": "stdout",
     "output_type": "stream",
     "text": [
      "0358efa6bb04acb2c86342fa3dd84c2b360b1e8597b908a142ecca7517ed044058\n"
     ]
    }
   ],
   "source": [
    "bx ec-to-public a5dcdf16bc3afc2ff713cdc6ae3a78bdf36af636f1a084b065689612c9cefc71"
   ]
  },
  {
   "cell_type": "code",
   "execution_count": 308,
   "metadata": {},
   "outputs": [
    {
     "name": "stdout",
     "output_type": "stream",
     "text": [
      "7576a9148d950d086cf089d0bc29a0184faa7a448fd8c84188ac\n"
     ]
    }
   ],
   "source": [
    "# Sends funds to B public key hash.\n",
    "bx script-encode \\\n",
    "\"DROP DUP HASH160 [8d950d086cf089d0bc29a0184faa7a448fd8c841] EQUALVERIFY CHECKSIG\""
   ]
  },
  {
   "cell_type": "code",
   "execution_count": 309,
   "metadata": {},
   "outputs": [
    {
     "name": "stdout",
     "output_type": "stream",
     "text": [
      "72257925\n"
     ]
    }
   ],
   "source": [
    "expr 72258610 - 1 \\* 4 \\* 100 - 285"
   ]
  },
  {
   "cell_type": "code",
   "execution_count": 310,
   "metadata": {},
   "outputs": [
    {
     "name": "stdout",
     "output_type": "stream",
     "text": [
      "0100000001cb22e9cbd8c6bd53557285e014e2b7a8149ff11baea22c7e33e32f37be133f6c0000000000ffffffff0185914e04000000001a7576a9148d950d086cf089d0bc29a0184faa7a448fd8c84188ac00000000\n"
     ]
    }
   ],
   "source": [
    "bx tx-encode \\\n",
    "-i 6c3f13be372fe3337e2ca2ae1bf19f14a8b7e214e085725553bdc6d8cbe922cb:0 \\\n",
    "-o 7576a9148d950d086cf089d0bc29a0184faa7a448fd8c84188ac:72257925\n"
   ]
  },
  {
   "cell_type": "code",
   "execution_count": 274,
   "metadata": {},
   "outputs": [
    {
     "name": "stdout",
     "output_type": "stream",
     "text": [
      "\u001b[0;32m\"if [0358efa6bb04acb2c86342fa3dd84c2b360b1e8597b908a142ecca7517ed044058] else [050000] checksequenceverify drop [02b3b4a1b2bd5555cbe37cc8cd58d143ee93cdde65ac987c5d2fbcdfd6fe79ccc5] endif checksig\"\u001b[0m\n"
     ]
    }
   ],
   "source": [
    "bx fetch-tx -f json 6c3f13be372fe3337e2ca2ae1bf19f14a8b7e214e085725553bdc6d8cbe922cb \\\n",
    "| jq \".transaction.outputs[0].script\""
   ]
  },
  {
   "cell_type": "code",
   "execution_count": 275,
   "metadata": {},
   "outputs": [
    {
     "name": "stdout",
     "output_type": "stream",
     "text": [
      "3045022100aef0f728c921e318424e2b135b245a4a1e273abf6303a50f160305050b3ed6e0022022908996fe0e1ecfb324a9de52da1f94baba551ccfc372d431a416fa82583db601\n"
     ]
    }
   ],
   "source": [
    "bx input-sign a5dcdf16bc3afc2ff713cdc6ae3a78bdf36af636f1a084b065689612c9cefc71 \\\n",
    "\"if [0358efa6bb04acb2c86342fa3dd84c2b360b1e8597b908a142ecca7517ed044058] else [050000] checksequenceverify drop [02b3b4a1b2bd5555cbe37cc8cd58d143ee93cdde65ac987c5d2fbcdfd6fe79ccc5] endif checksig\" \\\n",
    "0100000001cb22e9cbd8c6bd53557285e014e2b7a8149ff11baea22c7e33e32f37be133f6c0000000000ffffffff0185914e04000000001a7576a9148d950d086cf089d0bc29a0184faa7a448fd8c84188ac00000000\n"
   ]
  },
  {
   "cell_type": "code",
   "execution_count": 2,
   "metadata": {},
   "outputs": [
    {
     "name": "stdout",
     "output_type": "stream",
     "text": [
      "0100000001cb22e9cbd8c6bd53557285e014e2b7a8149ff11baea22c7e33e32f37be133f6c000000004a483045022100aef0f728c921e318424e2b135b245a4a1e273abf6303a50f160305050b3ed6e0022022908996fe0e1ecfb324a9de52da1f94baba551ccfc372d431a416fa82583db60151ffffffff0185914e04000000001a7576a9148d950d086cf089d0bc29a0184faa7a448fd8c84188ac00000000\n"
     ]
    }
   ],
   "source": [
    "bx input-set \\\n",
    "\"[3045022100aef0f728c921e318424e2b135b245a4a1e273abf6303a50f160305050b3ed6e0022022908996fe0e1ecfb324a9de52da1f94baba551ccfc372d431a416fa82583db601] 1\" \\\n",
    "0100000001cb22e9cbd8c6bd53557285e014e2b7a8149ff11baea22c7e33e32f37be133f6c0000000000ffffffff0185914e04000000001a7576a9148d950d086cf089d0bc29a0184faa7a448fd8c84188ac00000000\n"
   ]
  },
  {
   "cell_type": "code",
   "execution_count": 5,
   "metadata": {},
   "outputs": [
    {
     "name": "stdout",
     "output_type": "stream",
     "text": [
      "The transaction is valid.\n"
     ]
    }
   ],
   "source": [
    "bx validate-tx \\\n",
    "0100000001cb22e9cbd8c6bd53557285e014e2b7a8149ff11baea22c7e33e32f37be133f6c000000004a483045022100aef0f728c921e318424e2b135b245a4a1e273abf6303a50f160305050b3ed6e0022022908996fe0e1ecfb324a9de52da1f94baba551ccfc372d431a416fa82583db60151ffffffff0185914e04000000001a7576a9148d950d086cf089d0bc29a0184faa7a448fd8c84188ac00000000\n"
   ]
  }
 ],
 "metadata": {
  "kernelspec": {
   "display_name": "Bash",
   "language": "bash",
   "name": "bash"
  },
  "language_info": {
   "codemirror_mode": "shell",
   "file_extension": ".sh",
   "mimetype": "text/x-sh",
   "name": "bash"
  }
 },
 "nbformat": 4,
 "nbformat_minor": 2
}
