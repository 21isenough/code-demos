{
 "cells": [
  {
   "cell_type": "markdown",
   "metadata": {},
   "source": [
    "# Script Machine Debugging Tool (Libbitcoin c++)\n",
    "\n",
    "<hr style=\"border: 0.5px dashed #000;\">"
   ]
  },
  {
   "cell_type": "code",
   "execution_count": null,
   "metadata": {},
   "outputs": [],
   "source": [
    "// Compiler & linker information for c++ interpreter.\n",
    "#pragma cling add_include_path(\"/usr/local/include\")\n",
    "#pragma cling add_library_path(\"/usr/local/lib\")\n",
    "#pragma cling load(\"bitcoin\",\"secp256k1\",\"pthread\",\"boost_chrono-mt\",\"boost_date_time-mt\",\"boost_filesystem\",\"boost_iostreams-mt\",\"boost_locale-mt\",\"boost_log-mt\",\"boost_program_options-mt\",\"boost_regex-mt\",\"boost_system\",\"boost_thread-mt\")\n",
    "\n",
    "// Libbitcoin-System.\n",
    "#include <bitcoin/bitcoin.hpp> \n",
    "\n",
    "// Libbitcoin-Script Machine Script.\n",
    "#include \"supporting_scripts/script_machine.cpp\""
   ]
  },
  {
   "cell_type": "markdown",
   "metadata": {},
   "source": [
    "### 1. Previous transaction output (UTXO)."
   ]
  },
  {
   "cell_type": "markdown",
   "metadata": {},
   "source": [
    "**Previous output script** (fetch by `txid` & `index`)"
   ]
  },
  {
   "cell_type": "code",
   "execution_count": null,
   "metadata": {},
   "outputs": [],
   "source": [
    "!bx fetch-tx 8231a9027eca6f2bd7bdf712cd2368f0b6e8dd6005b6b348078938042178ffed -f json | jq -r  \".transaction.outputs[0].script\" | bx script-encode\n"
   ]
  },
  {
   "cell_type": "code",
   "execution_count": null,
   "metadata": {},
   "outputs": [],
   "source": [
    "auto previous_output_script_data = bc::to_chunk(\n",
    "  bc::base16_literal(\"a914dcdc2f89b96c420751e3750da7d5073a81b1694687\"));\n",
    "bc::chain::script previous_output_script;\n",
    "previous_output_script.from_data(previous_output_script_data, false);\n"
   ]
  },
  {
   "cell_type": "markdown",
   "metadata": {},
   "source": [
    "**Previous output amount** (fetch by `txid` & `index`)"
   ]
  },
  {
   "cell_type": "code",
   "execution_count": null,
   "metadata": {
    "scrolled": true
   },
   "outputs": [],
   "source": [
    "!bx fetch-tx 8231a9027eca6f2bd7bdf712cd2368f0b6e8dd6005b6b348078938042178ffed -f json | jq -r  \".transaction.outputs[0].value\"\n"
   ]
  },
  {
   "cell_type": "code",
   "execution_count": null,
   "metadata": {},
   "outputs": [],
   "source": [
    "uint64_t previous_output_amount = 129800000;\n"
   ]
  },
  {
   "cell_type": "markdown",
   "metadata": {},
   "source": [
    "### 2. Spending transaction."
   ]
  },
  {
   "cell_type": "code",
   "execution_count": null,
   "metadata": {},
   "outputs": [],
   "source": [
    "// Paste your raw transaction data.\n",
    "auto spending_transaction_data = bc::to_chunk(\n",
    "  bc::base16_literal(\"01000000000101edff78210438890748b3b60560dde8b6f06823cd12f7bdd72b6fca7e02a9318200000000171600149a19a31c2fda7d0c30215ec954a20a542aa84ad3ffffffff016003b807000000001976a914bbef244bcad13cffb68b5cef3017c7423675552288ac0247304402207ecbb796a2bc706d90e2ed7efb58f59822bdc4c253b91f6eecd26ca5df1a6bb60220700b737f3c49b2f21bb228fadeab786e2ac78fd87890ede3f5d299e81880d9630121026ccfb8061f235cc110697c0bfb3afb99d82c886672f6b9b5393b25a434c0cbf300000000\"));\n",
    "bc::chain::transaction spending_transaction;\n",
    "auto tx_set = spending_transaction.from_data(spending_transaction_data, true, true); // wire=true, witness=true\n"
   ]
  },
  {
   "cell_type": "markdown",
   "metadata": {},
   "source": [
    "**Index of spending input.**"
   ]
  },
  {
   "cell_type": "code",
   "execution_count": null,
   "metadata": {},
   "outputs": [],
   "source": [
    "uint32_t input_index = 0;"
   ]
  },
  {
   "cell_type": "markdown",
   "metadata": {},
   "source": [
    "### 3. Evaluate input, output, p2sh and witness script runs."
   ]
  },
  {
   "cell_type": "markdown",
   "metadata": {},
   "source": [
    "Run following cell to evaluate the `previous output` | `input` script(s)."
   ]
  },
  {
   "cell_type": "code",
   "execution_count": null,
   "metadata": {},
   "outputs": [],
   "source": [
    "bc::code ec = evaluate_in_out_p2sh_witness_runs(previous_output_script, previous_output_amount,\n",
    "  spending_transaction, input_index, bc::machine::rule_fork::all_rules);\n",
    "std::cout << ec.message() << std::endl;\n"
   ]
  }
 ],
 "metadata": {
  "kernelspec": {
   "display_name": "C++11",
   "language": "C++11",
   "name": "xeus-cling-cpp11"
  },
  "language_info": {
   "codemirror_mode": "text/x-c++src",
   "file_extension": ".cpp",
   "mimetype": "text/x-c++src",
   "name": "c++",
   "version": "-std=c++11"
  }
 },
 "nbformat": 4,
 "nbformat_minor": 2
}
