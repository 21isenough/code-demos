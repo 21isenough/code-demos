{
 "cells": [
  {
   "cell_type": "markdown",
   "metadata": {},
   "source": [
    "# Script Machine Debugging Tool (Libbitcoin c++)\n",
    "\n",
    "<hr style=\"border: 0.5px dashed #000;\">"
   ]
  },
  {
   "cell_type": "code",
   "execution_count": 1,
   "metadata": {},
   "outputs": [],
   "source": [
    "// Compiler & linker information for c++ interpreter.\n",
    "#pragma cling add_include_path(\"/usr/local/include\")\n",
    "#pragma cling add_library_path(\"/usr/local/lib\")\n",
    "#pragma cling load(\"bitcoin\",\"secp256k1\",\"pthread\",\"boost_chrono-mt\",\"boost_date_time-mt\",\"boost_filesystem\",\"boost_iostreams-mt\",\"boost_locale-mt\",\"boost_log-mt\",\"boost_program_options-mt\",\"boost_regex-mt\",\"boost_system\",\"boost_thread-mt\")\n",
    "\n",
    "// Libbitcoin-System.\n",
    "#include <bitcoin/bitcoin.hpp> \n",
    "\n",
    "// Libbitcoin-Script Machine Script.\n",
    "#include \"supporting_scripts/script_machine.cpp\""
   ]
  },
  {
   "cell_type": "markdown",
   "metadata": {},
   "source": [
    "### 1. Previous transaction output (UTXO)."
   ]
  },
  {
   "cell_type": "markdown",
   "metadata": {},
   "source": [
    "**Previous output script** (fetch by `txid` & `index`)"
   ]
  },
  {
   "cell_type": "code",
   "execution_count": 2,
   "metadata": {},
   "outputs": [
    {
     "name": "stdout",
     "output_type": "stream",
     "text": [
      "76a914b2b64b8f1c90e704d5893a08d7ee0471607c899788ac\n"
     ]
    }
   ],
   "source": [
    "!bx fetch-tx d4e68f7e163de4c31c6d4d75a38daa015a968371c1a94e2a182e29002235a168 -f json | jq -r  \".transaction.outputs[0].script\" | bx script-encode\n"
   ]
  },
  {
   "cell_type": "code",
   "execution_count": 3,
   "metadata": {},
   "outputs": [],
   "source": [
    "auto previous_output_script_data = bc::to_chunk(\n",
    "  bc::base16_literal(\"76a914b2b64b8f1c90e704d5893a08d7ee0471607c899788ac\"));\n",
    "bc::chain::script previous_output_script;\n",
    "previous_output_script.from_data(previous_output_script_data, false);\n"
   ]
  },
  {
   "cell_type": "markdown",
   "metadata": {},
   "source": [
    "**Previous output amount** (fetch by `txid` & `index`)"
   ]
  },
  {
   "cell_type": "code",
   "execution_count": 4,
   "metadata": {},
   "outputs": [
    {
     "name": "stdout",
     "output_type": "stream",
     "text": [
      "1964541\n"
     ]
    }
   ],
   "source": [
    "!bx fetch-tx d4e68f7e163de4c31c6d4d75a38daa015a968371c1a94e2a182e29002235a168 -f json | jq -r  \".transaction.outputs[0].value\"\n"
   ]
  },
  {
   "cell_type": "code",
   "execution_count": 5,
   "metadata": {},
   "outputs": [],
   "source": [
    "uint64_t previous_output_amount = 1964541;\n"
   ]
  },
  {
   "cell_type": "markdown",
   "metadata": {},
   "source": [
    "### 2. Spending transaction."
   ]
  },
  {
   "cell_type": "code",
   "execution_count": 6,
   "metadata": {},
   "outputs": [],
   "source": [
    "// Paste your raw transaction data.\n",
    "auto spending_transaction_data = bc::to_chunk(\n",
    "  bc::base16_literal(\"010000000268a1352200292e182a4ea9c17183965a01aa8da3754d6d1cc3e43d167e8fe6d4000000006b483045022100ab52c6985a2a36eff74dca68f53cc5a7953ba5c3af901fe50dc3419c38f83da602204ccea2c8feca80a9eb17ed656f3e9431a4db177b2ce35540cc7a6c3802d917b583210396fc66cd2ce2254e6ff7466c64cb461c4896b5fc12b5f800ec682a8ac09514a0ffffffff68a1352200292e182a4ea9c17183965a01aa8da3754d6d1cc3e43d167e8fe6d4010000006a473044022005e7eca2047609576ce0d1993ea2bead42f87d8c85ffdf8cc6841c5e8834eea80220659711e8a4095648c1c3527c7f884ac1ed7c0c9837b10f4f18e70d815e383357832102db969196e81611b69ef3bd15a86588dc24e5c381a1e4c9f614d08b6dfbcd6293ffffffff0289f41d00000000001976a914736b4005d4999db71c7184f7c716c43d6f89685488ac89f41d00000000001976a91493ecb4f92c41105d8a2e0937c3dac5860e751eca88ac00000000\"));\n",
    "bc::chain::transaction spending_transaction;\n",
    "auto tx_set = spending_transaction.from_data(spending_transaction_data, true, false); // wire=true, witness=false\n"
   ]
  },
  {
   "cell_type": "markdown",
   "metadata": {},
   "source": [
    "**Index of spending input.**"
   ]
  },
  {
   "cell_type": "code",
   "execution_count": 7,
   "metadata": {},
   "outputs": [],
   "source": [
    "uint32_t input_index = 0;"
   ]
  },
  {
   "cell_type": "markdown",
   "metadata": {},
   "source": [
    "### 3. Evaluate input, output, p2sh and witness script runs."
   ]
  },
  {
   "cell_type": "markdown",
   "metadata": {},
   "source": [
    "Run following cell to evaluate the `previous output` | `input` script(s)."
   ]
  },
  {
   "cell_type": "code",
   "execution_count": 8,
   "metadata": {},
   "outputs": [
    {
     "name": "stdout",
     "output_type": "stream",
     "text": [
      "=========== Input script evaluation ===========\n",
      "\n",
      "> Operation: 0\n",
      "[3045022100ab52c6985a2a36eff74dca68f53cc5a7953ba5c3af901fe50dc3419c38f83da602204ccea2c8feca80a9eb17ed656f3e9431a4db177b2ce35540cc7a6c3802d917b583]\n",
      "\n",
      "> Stack after operation: 0\n",
      "[3045022100ab52c6985a2a36eff74dca68f53cc5a7953ba5c3af901fe50dc3419c38f83da602204ccea2c8feca80a9eb17ed656f3e9431a4db177b2ce35540cc7a6c3802d917b583]\n",
      "\n",
      ">> Operation: 1\n",
      "[0396fc66cd2ce2254e6ff7466c64cb461c4896b5fc12b5f800ec682a8ac09514a0]\n",
      "\n",
      ">> Stack after operation: 1\n",
      "[0396fc66cd2ce2254e6ff7466c64cb461c4896b5fc12b5f800ec682a8ac09514a0]\n",
      "[3045022100ab52c6985a2a36eff74dca68f53cc5a7953ba5c3af901fe50dc3419c38f83da602204ccea2c8feca80a9eb17ed656f3e9431a4db177b2ce35540cc7a6c3802d917b583]\n",
      "\n",
      "=========== Output script evaluation ==========\n",
      "\n",
      "> Operation: 0\n",
      "dup\n",
      "\n",
      "> Stack after operation: 0\n",
      "[0396fc66cd2ce2254e6ff7466c64cb461c4896b5fc12b5f800ec682a8ac09514a0]\n",
      "[0396fc66cd2ce2254e6ff7466c64cb461c4896b5fc12b5f800ec682a8ac09514a0]\n",
      "[3045022100ab52c6985a2a36eff74dca68f53cc5a7953ba5c3af901fe50dc3419c38f83da602204ccea2c8feca80a9eb17ed656f3e9431a4db177b2ce35540cc7a6c3802d917b583]\n",
      "\n",
      ">> Operation: 1\n",
      "hash160\n",
      "\n",
      ">> Stack after operation: 1\n",
      "[b2b64b8f1c90e704d5893a08d7ee0471607c8997]\n",
      "[0396fc66cd2ce2254e6ff7466c64cb461c4896b5fc12b5f800ec682a8ac09514a0]\n",
      "[3045022100ab52c6985a2a36eff74dca68f53cc5a7953ba5c3af901fe50dc3419c38f83da602204ccea2c8feca80a9eb17ed656f3e9431a4db177b2ce35540cc7a6c3802d917b583]\n",
      "\n",
      ">>> Operation: 2\n",
      "[b2b64b8f1c90e704d5893a08d7ee0471607c8997]\n",
      "\n",
      ">>> Stack after operation: 2\n",
      "[b2b64b8f1c90e704d5893a08d7ee0471607c8997]\n",
      "[b2b64b8f1c90e704d5893a08d7ee0471607c8997]\n",
      "[0396fc66cd2ce2254e6ff7466c64cb461c4896b5fc12b5f800ec682a8ac09514a0]\n",
      "[3045022100ab52c6985a2a36eff74dca68f53cc5a7953ba5c3af901fe50dc3419c38f83da602204ccea2c8feca80a9eb17ed656f3e9431a4db177b2ce35540cc7a6c3802d917b583]\n",
      "\n",
      ">>>> Operation: 3\n",
      "equalverify\n",
      "\n",
      ">>>> Stack after operation: 3\n",
      "[0396fc66cd2ce2254e6ff7466c64cb461c4896b5fc12b5f800ec682a8ac09514a0]\n",
      "[3045022100ab52c6985a2a36eff74dca68f53cc5a7953ba5c3af901fe50dc3419c38f83da602204ccea2c8feca80a9eb17ed656f3e9431a4db177b2ce35540cc7a6c3802d917b583]\n",
      "\n",
      ">>>>> Operation: 4\n",
      "checksig\n",
      "\n",
      ">>>>> Stack after operation: 4\n",
      "[01]\n",
      "\n",
      "--------- Script evaluation complete ----------\n",
      "success\n"
     ]
    }
   ],
   "source": [
    "bc::code ec = evaluate_in_out_p2sh_witness_runs(previous_output_script, previous_output_amount,\n",
    "  spending_transaction, input_index, bc::machine::rule_fork::all_rules);\n",
    "std::cout << ec.message() << std::endl;\n"
   ]
  }
 ],
 "metadata": {
  "kernelspec": {
   "display_name": "C++11",
   "language": "C++11",
   "name": "xeus-cling-cpp11"
  },
  "language_info": {
   "codemirror_mode": "text/x-c++src",
   "file_extension": ".cpp",
   "mimetype": "text/x-c++src",
   "name": "c++",
   "version": "-std=c++11"
  }
 },
 "nbformat": 4,
 "nbformat_minor": 2
}
