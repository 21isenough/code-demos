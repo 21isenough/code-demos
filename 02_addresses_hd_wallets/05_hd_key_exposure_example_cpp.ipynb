{
 "cells": [
  {
   "cell_type": "markdown",
   "metadata": {},
   "source": [
    "# HD Parent Key Exposure: Example (c++)\n",
    "\n",
    "<br>\n",
    "<img src=\"images/hd_parent_exposure.jpg\" alt=\"drawing\" style=\"\" width=\"700px\"/>\n",
    "\n"
   ]
  },
  {
   "cell_type": "markdown",
   "metadata": {},
   "source": [
    "### Libbitcoin-System and secp256k1 setup"
   ]
  },
  {
   "cell_type": "code",
   "execution_count": 2,
   "metadata": {},
   "outputs": [],
   "source": [
    "// Compiler & linker information for c++ interpreter.\n",
    "#pragma cling add_include_path(\"/usr/local/include\")\n",
    "#pragma cling add_library_path(\"/usr/local/lib\")\n",
    "#pragma cling load(\"bitcoin\",\"secp256k1\",\"pthread\",\"boost_chrono-mt\",\"boost_date_time-mt\",\"boost_filesystem\",\"boost_iostreams-mt\",\"boost_locale-mt\",\"boost_log-mt\",\"boost_program_options-mt\",\"boost_regex-mt\",\"boost_system\",\"boost_thread-mt\")\n",
    "\n",
    "// Libbitcoin-System.\n",
    "#include <bitcoin/bitcoin.hpp> \n",
    "\n",
    "// secp256k1 supporting files.\n",
    "#include \"supporting_scripts/secp256k1_initializer.hpp\""
   ]
  },
  {
   "cell_type": "markdown",
   "metadata": {},
   "source": [
    "### Derive new parent key pair and child private key."
   ]
  },
  {
   "cell_type": "code",
   "execution_count": 3,
   "metadata": {},
   "outputs": [
    {
     "name": "stdout",
     "output_type": "stream",
     "text": [
      "Parent Private Key: \n",
      "4c6ad5efc056af4ee2ea529d78bf7502c1ed7dfcc5906af7b0be85893ec37ed8\n",
      "\n",
      "Parent Public Key:\n",
      "02512a0fb2c76871513ff5b4f479b6bd327b3b31d5755fcae1ec6c134bf06d2d7a\n",
      "\n",
      "Parent Chaincode:\n",
      "363c5cdeb93f5d4339b564db991795ad9dc56434872cbdec0463724214905fc0\n",
      "\n",
      "Child Private Key:\n",
      "a5277ef99d48f2bd1a4098449494cfb20440901deae74c64c7fd4578b9a5ab7c\n"
     ]
    }
   ],
   "source": [
    "// Generate m/44'/0'/0'/0 parent key from entropy.\n",
    "// ---------------------------------------------------------------------------\n",
    "{\n",
    "    bc::data_chunk my_entropy_128(16);\n",
    "    bc::pseudo_random_fill(my_entropy_128);\n",
    "\n",
    "    // m/44'/0'/0'/0\n",
    "    bc::wallet::hd_private m(my_entropy_128, bc::wallet::hd_private::mainnet);\n",
    "    auto m_44h_0h_0h_0 = m.derive_private(44 + bc::wallet::hd_first_hardened_key)\n",
    "        .derive_private(0 + bc::wallet::hd_first_hardened_key)\n",
    "        .derive_private(0 + bc::wallet::hd_first_hardened_key)\n",
    "        .derive_private(0);\n",
    "\n",
    "    uint32_t child_index(1);\n",
    "\n",
    "    std::cout << \"Parent Private Key: \" << std::endl \n",
    "              << bc::encode_base16(bc::to_chunk(m_44h_0h_0h_0.secret()))\n",
    "              << std::endl << std::endl \n",
    "              << \"Parent Public Key:\" << std::endl \n",
    "              << bc::encode_base16(bc::to_chunk(m_44h_0h_0h_0.to_public().point()))\n",
    "              << std::endl << std::endl \n",
    "              << \"Parent Chaincode:\" << std::endl \n",
    "              << bc::encode_base16(bc::to_chunk(m_44h_0h_0h_0.to_public().chain_code()))\n",
    "              << std::endl << std::endl \n",
    "              << \"Child Private Key:\" << std::endl \n",
    "              << bc::encode_base16(bc::to_chunk(m_44h_0h_0h_0.derive_private(child_index).secret()))\n",
    "              << std::endl;\n",
    "}"
   ]
  },
  {
   "cell_type": "markdown",
   "metadata": {},
   "source": [
    "### Derive \"parent private key\" from \"parent pubkey + chaincode\" and \"child private key\"."
   ]
  },
  {
   "cell_type": "code",
   "execution_count": 4,
   "metadata": {},
   "outputs": [
    {
     "name": "stdout",
     "output_type": "stream",
     "text": [
      "Computed Private Parent Key: \n",
      "4c6ad5efc056af4ee2ea529d78bf7502c1ed7dfcc5906af7b0be85893ec37ed8\n"
     ]
    }
   ],
   "source": [
    "{\n",
    "\n",
    "    // 1) Parent public key, chaincode and child private key are exposed.\n",
    "    // ---------------------------------------------------------------------------\n",
    "    \n",
    "    auto M_44h_0h_0h_0_point = bc::base16_literal(\n",
    "        \"02512a0fb2c76871513ff5b4f479b6bd327b3b31d5755fcae1ec6c134bf06d2d7a\");\n",
    "    auto M_44h_0h_0h_0_chaincode = bc::base16_literal(\n",
    "        \"363c5cdeb93f5d4339b564db991795ad9dc56434872cbdec0463724214905fc0\");\n",
    "    auto m_44h_0h_0h_0_1_secret = bc::base16_literal(\n",
    "        \"a5277ef99d48f2bd1a4098449494cfb20440901deae74c64c7fd4578b9a5ab7c\");\n",
    "    uint32_t child_index(1);\n",
    "    \n",
    "    // 2) Derive L256 from hmac_sha512_hash(parent public key||index, chaincode).\n",
    "    // ---------------------------------------------------------------------------\n",
    "    auto data = bc::splice(M_44h_0h_0h_0_point, bc::to_big_endian(child_index));\n",
    "    auto my_byte_array_parts = bc::split(bc::hmac_sha512_hash(data, M_44h_0h_0h_0_chaincode));\n",
    "    auto left_256 = my_byte_array_parts.left;\n",
    "\n",
    "    // 3) Parent Private(m_44h_0h_0h_0) = child private(m_44h_0h_0h_0_1) - L256.\n",
    "    // ---------------------------------------------------------------------------\n",
    "    \n",
    "    const auto context = bc::verification.context();\n",
    "    if (secp256k1_ec_privkey_negate(context,left_256.data()) != 1)\n",
    "        return 1;\n",
    "    bc::ec_add(left_256, m_44h_0h_0h_0_1_secret);\n",
    "\n",
    "    // Print out computed parent private key.\n",
    "    // ---------------------------------------------------------------------------\n",
    "    std::cout << \"Computed Private Parent Key: \" << std::endl\n",
    "              << bc::encode_base16(bc::to_chunk(left_256)) << std::endl;\n",
    "}"
   ]
  },
  {
   "cell_type": "code",
   "execution_count": null,
   "metadata": {},
   "outputs": [],
   "source": []
  }
 ],
 "metadata": {
  "kernelspec": {
   "display_name": "C++11",
   "language": "C++11",
   "name": "xeus-cling-cpp11"
  },
  "language_info": {
   "codemirror_mode": "text/x-c++src",
   "file_extension": ".cpp",
   "mimetype": "text/x-c++src",
   "name": "c++",
   "version": "-std=c++11"
  }
 },
 "nbformat": 4,
 "nbformat_minor": 2
}
