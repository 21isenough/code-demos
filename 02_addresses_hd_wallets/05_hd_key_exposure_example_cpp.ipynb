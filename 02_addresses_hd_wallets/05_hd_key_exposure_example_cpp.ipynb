{
 "cells": [
  {
   "cell_type": "markdown",
   "metadata": {},
   "source": [
    "# HD Parent Key Exposure: Example (c++)\n",
    "\n",
    "<br>\n",
    "<img src=\"images/hd_parent_exposure.jpg\" alt=\"drawing\" style=\"\" width=\"700px\"/>\n",
    "\n"
   ]
  },
  {
   "cell_type": "markdown",
   "metadata": {},
   "source": [
    "### Libbitcoin-System and secp256k1 setup"
   ]
  },
  {
   "cell_type": "code",
   "execution_count": 1,
   "metadata": {},
   "outputs": [],
   "source": [
    "// Compiler & linker information for c++ interpreter.\n",
    "#pragma cling add_include_path(\"/usr/local/include\")\n",
    "#pragma cling add_library_path(\"/usr/local/lib\")\n",
    "#pragma cling load(\"bitcoin\",\"secp256k1\",\"pthread\",\"boost_chrono-mt\",\"boost_date_time-mt\",\"boost_filesystem\",\"boost_iostreams-mt\",\"boost_locale-mt\",\"boost_log-mt\",\"boost_program_options-mt\",\"boost_regex-mt\",\"boost_system\",\"boost_thread-mt\")\n",
    "\n",
    "// Libbitcoin-System.\n",
    "#include <bitcoin/bitcoin.hpp> \n",
    "\n",
    "// secp256k1 supporting files.\n",
    "#include \"supporting_scripts/secp256k1_initializer.hpp\""
   ]
  },
  {
   "cell_type": "markdown",
   "metadata": {},
   "source": [
    "### Derive parent XPRV from parent XPUB and child private key."
   ]
  },
  {
   "cell_type": "code",
   "execution_count": 19,
   "metadata": {},
   "outputs": [
    {
     "name": "stdout",
     "output_type": "stream",
     "text": [
      "Parent Private Key: 80e987ba2c354c450168dde679760f2df343d9690a0e503f20981e04e499f9ac\n",
      "Computed Private Parent Key: 80e987ba2c354c450168dde679760f2df343d9690a0e503f20981e04e499f9ac\n"
     ]
    }
   ],
   "source": [
    "{\n",
    "    // Generate m/44'/0'/0'/0 parent key from entropy.\n",
    "    // ---------------------------------------------------------------------------\n",
    "    \n",
    "    bc::data_chunk my_entropy_128(16);\n",
    "    bc::pseudo_random_fill(my_entropy_128);\n",
    "\n",
    "    bc::wallet::hd_private m(my_entropy_128, bc::wallet::hd_private::mainnet);\n",
    "    auto m_44h_0h_0h_0 = m.derive_private(44 + bc::wallet::hd_first_hardened_key)\n",
    "        .derive_private(0 + bc::wallet::hd_first_hardened_key)\n",
    "        .derive_private(0 + bc::wallet::hd_first_hardened_key)\n",
    "        .derive_private(0);\n",
    "\n",
    "    std::cout << \"Parent Private Key: \"\n",
    "              << bc::encode_base16(bc::to_chunk(m_44h_0h_0h_0.secret())) \n",
    "              << std::endl;\n",
    "\n",
    "    // 1) M/44'/0'/0'/0 and m/44'/0'/0'/0/1 secret are exposed.\n",
    "    // ---------------------------------------------------------------------------\n",
    "    uint32_t child_index(1);\n",
    "    \n",
    "    // Parent XPUB exposed.\n",
    "    auto M_44h_0h_0h_0 = m_44h_0h_0h_0.to_public();\n",
    "    \n",
    "    // Child XPRV secret exposed.\n",
    "    auto m_44h_0h_0h_0_1_secret = m_44h_0h_0h_0.derive_private(child_index).secret();\n",
    "\n",
    "    // 2) Derive L256 from hmac_sha512_hash(parent public key||index, chaincode).\n",
    "    // ---------------------------------------------------------------------------\n",
    "    auto data = bc::splice(M_44h_0h_0h_0.point(), bc::to_big_endian(child_index));\n",
    "    auto my_byte_array_parts = bc::split(bc::hmac_sha512_hash(data, M_44h_0h_0h_0.chain_code()));\n",
    "    auto left_256 = my_byte_array_parts.left;\n",
    "\n",
    "    // 3) Parent Private(m) = child private(m_0) - L256.\n",
    "    // ---------------------------------------------------------------------------\n",
    "    \n",
    "    const auto context = bc::verification.context();\n",
    "    if (secp256k1_ec_privkey_negate(context,left_256.data()) != 1)\n",
    "        return 1;\n",
    "    bc::ec_add(left_256, m_44h_0h_0h_0_1_secret);\n",
    "\n",
    "    // Print out computed parent private key.\n",
    "    // ---------------------------------------------------------------------------\n",
    "    std::cout << \"Computed Private Parent Key: \"\n",
    "            << bc::encode_base16(bc::to_chunk(left_256)) << std::endl;\n",
    "}"
   ]
  }
 ],
 "metadata": {
  "kernelspec": {
   "display_name": "C++11",
   "language": "C++11",
   "name": "xeus-cling-cpp11"
  },
  "language_info": {
   "codemirror_mode": "text/x-c++src",
   "file_extension": ".cpp",
   "mimetype": "text/x-c++src",
   "name": "c++",
   "version": "-std=c++11"
  }
 },
 "nbformat": 4,
 "nbformat_minor": 2
}
