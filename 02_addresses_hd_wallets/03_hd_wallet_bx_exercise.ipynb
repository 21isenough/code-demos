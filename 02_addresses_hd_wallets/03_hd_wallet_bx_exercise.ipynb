{
 "cells": [
  {
   "cell_type": "markdown",
   "metadata": {},
   "source": [
    "# Mnemonics & HD Wallets - BX Exercise\n",
    "\n",
    "<hr style=\"border: 0.5px dashed #000;\">\n",
    "\n",
    "## 1. Generate a mnemonic word list from 128 bits of entropy.\n",
    "* Language of your choosing."
   ]
  },
  {
   "cell_type": "code",
   "execution_count": null,
   "metadata": {},
   "outputs": [],
   "source": [
    "\n"
   ]
  },
  {
   "cell_type": "markdown",
   "metadata": {},
   "source": [
    "## 2. Create the HD private master key from a mnemonic word list.\n",
    "\n",
    "Mnemonic word list:\n",
    "\n",
    "* Backed-up word list: `むける りりく あんぜん ひろい よかぜ いっぽう でぬかえ むいか うんてん げいのうじん ひほう きぞく`\n",
    "* No optional passphrase\n",
    "* Network: `mainnet` \n",
    "    * Extended private key version(s): `0x0488ade4(hex)`/`76066276(decimal)`"
   ]
  },
  {
   "cell_type": "code",
   "execution_count": null,
   "metadata": {},
   "outputs": [],
   "source": [
    "\n"
   ]
  },
  {
   "cell_type": "markdown",
   "metadata": {},
   "source": [
    "## 3. Derive the following keys/addresses from this BIP44 HD wallet.\n",
    "\n",
    "Use the following hd-wallet root seed:\n",
    "\n",
    "* 256 bit secret: `4cf6ddad059363da4298cf4fffda5c1069a6e0ccbfd2a1e97f7a13403cfc39a0`\n",
    "\n",
    "Network version prefixes:\n",
    "* Mainnet:\n",
    "    * Extended private key version(s): `0x0488ADE4(hex)`/`76066276(decimal)`\n",
    "    * Extended public key version(s): `0x0488B21E(hex)`/`76067358(decimal)`\n",
    "<br><br>\n",
    "* Testnet:\n",
    "    * Extended private key version(s): `0x04358394(hex)`/`70615956(decimal)`\n",
    "    * Extended public key version(s): `0x043587CF(hex)`/`70617039(decimal)`"
   ]
  },
  {
   "cell_type": "markdown",
   "metadata": {},
   "source": [
    "### A. Extended hd private key `m/44'/1'/2'/1/1`"
   ]
  },
  {
   "cell_type": "code",
   "execution_count": null,
   "metadata": {},
   "outputs": [],
   "source": [
    "\n"
   ]
  },
  {
   "cell_type": "markdown",
   "metadata": {},
   "source": [
    "### B. Private key `/44'/1'/0'/1/2`"
   ]
  },
  {
   "cell_type": "code",
   "execution_count": null,
   "metadata": {},
   "outputs": [],
   "source": [
    "\n"
   ]
  },
  {
   "cell_type": "markdown",
   "metadata": {},
   "source": [
    "### C. Public key point `/44'/0'/0'/10/12`"
   ]
  },
  {
   "cell_type": "code",
   "execution_count": null,
   "metadata": {},
   "outputs": [],
   "source": [
    "\n"
   ]
  },
  {
   "cell_type": "markdown",
   "metadata": {},
   "source": [
    "### D. Address `/44'/0'/0'/1/2`"
   ]
  },
  {
   "cell_type": "code",
   "execution_count": null,
   "metadata": {},
   "outputs": [],
   "source": [
    "# Note: network prefix is lost in hd-to-public, must be supplied to ec-to-address command.\n",
    "\n"
   ]
  },
  {
   "cell_type": "markdown",
   "metadata": {},
   "source": [
    "### E. Derive the fifth change address from 2nd mainnet wallet account (BIP44)."
   ]
  },
  {
   "cell_type": "markdown",
   "metadata": {},
   "source": [
    "**First derive `M/44'/0'/1'`**"
   ]
  },
  {
   "cell_type": "code",
   "execution_count": null,
   "metadata": {},
   "outputs": [],
   "source": [
    "\n"
   ]
  },
  {
   "cell_type": "markdown",
   "metadata": {},
   "source": [
    "**Now derive the fifth mainnet change address from extended public key `M/44'/0'/1'`**"
   ]
  },
  {
   "cell_type": "code",
   "execution_count": null,
   "metadata": {},
   "outputs": [],
   "source": [
    "\n"
   ]
  }
 ],
 "metadata": {
  "kernelspec": {
   "display_name": "Bash",
   "language": "bash",
   "name": "bash"
  },
  "language_info": {
   "codemirror_mode": "shell",
   "file_extension": ".sh",
   "mimetype": "text/x-sh",
   "name": "bash"
  }
 },
 "nbformat": 4,
 "nbformat_minor": 2
}
