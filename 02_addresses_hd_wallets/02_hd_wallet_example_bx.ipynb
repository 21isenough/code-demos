{
 "cells": [
  {
   "cell_type": "markdown",
   "metadata": {},
   "source": [
    "# Mnemonics & HD Wallets - Examples with Libbitcoin BX\n",
    "In this BX tutorial, we create mnemonic backup phrases, from which HD private and public keys can be derived for use. The mnemonic phrase can later be used to recover hd keys used in a previous wallet with the same seed."
   ]
  },
  {
   "cell_type": "markdown",
   "metadata": {},
   "source": [
    "## 1) Seeding an HD wallet.\n",
    "<img src=\"images/hd_mnemonic_to_master.jpg\" alt=\"drawing\" style=\"\" width=\"700px\"/>\n",
    "\n",
    "### 1.1) Deriving the mnemonic phrase (BIP39)"
   ]
  },
  {
   "cell_type": "code",
   "execution_count": 1,
   "metadata": {},
   "outputs": [
    {
     "name": "stdout",
     "output_type": "stream",
     "text": [
      "15d84b4f882717d3d1776cd82939f0d45326b21d00b640878b47ea53e00d93ad\n"
     ]
    }
   ],
   "source": [
    "bx seed --bit_length 256\n"
   ]
  },
  {
   "cell_type": "code",
   "execution_count": 2,
   "metadata": {},
   "outputs": [
    {
     "name": "stdout",
     "output_type": "stream",
     "text": [
      "だっしゅつ はったつ れんさい かいしゃ はかる すれちがう といれ よさん てんいん せんぬき かざる ふめん すいか たいうん りせい うっかり けんない だんな えもじ しふく げつれい にうけ こうない まんきつ\n"
     ]
    }
   ],
   "source": [
    "bx mnemonic-new --language ja 8b588ff1941c18e5a94fa3a2af50ab6b46db07be10af49b21c72b344515f934f\n"
   ]
  },
  {
   "cell_type": "code",
   "execution_count": 3,
   "metadata": {},
   "outputs": [
    {
     "name": "stdout",
     "output_type": "stream",
     "text": [
      "b7188b58f581621725b1685e6a8fb5c536469b0893c52846753df856ef561ed18173f4d4e4f7aab96cd8b588b0894eaea702db7fff19e2ac06ec78ad1aaf8443\n"
     ]
    }
   ],
   "source": [
    "# mnemonic-to-seed always derives a 512-bit long seed.\n",
    "bx mnemonic-to-seed --language ja むける りりく あんぜん ひろい よかぜ いっぽう でぬかえ むいか うんてん げいのうじん ひほう きぞく\n"
   ]
  },
  {
   "cell_type": "markdown",
   "metadata": {},
   "source": [
    "## 1.2) Deriving the master HD keys (BIP32)"
   ]
  },
  {
   "cell_type": "code",
   "execution_count": 1,
   "metadata": {},
   "outputs": [
    {
     "name": "stdout",
     "output_type": "stream",
     "text": [
      "tprv8ZgxMBicQKsPdSeZJzyvz6sEVDV8iMJfuKczswWUFTPXa2eTVTg96qh1VVsPC1fDR37gh6KUjo9V4i3peYUPuyP7t5esiH7Lnja8CUNEMFS\n"
     ]
    }
   ],
   "source": [
    "# accepts seed 128bit and longer.\n",
    "bx hd-new b7188b58f581621725b1685e6a8fb5c536469b0893c52846753df856ef561ed18173f4d4e4f7aab96cd8b588b0894eaea702db7fff19e2ac06ec78ad1aaf8443\n"
   ]
  },
  {
   "cell_type": "code",
   "execution_count": null,
   "metadata": {},
   "outputs": [],
   "source": [
    "bx hd-to-public tprv8ZgxMBicQKsPdSeZJzyvz6sEVDV8iMJfuKczswWUFTPXa2eTVTg96qh1VVsPC1fDR37gh6KUjo9V4i3peYUPuyP7t5esiH7Lnja8CUNEMFS\n"
   ]
  },
  {
   "cell_type": "markdown",
   "metadata": {},
   "source": [
    "## 2) Deriving HD children\n",
    "<img src=\"images/hd_children_derivation.jpg\" alt=\"drawing\" style=\"\" width=\"700px\"/>\n",
    "\n",
    "### 2.1) Deriving unhardened children hd keys."
   ]
  },
  {
   "cell_type": "markdown",
   "metadata": {},
   "source": [
    "**`m` &#8658; `m/0/1/2`** `(private-key child derivation)`"
   ]
  },
  {
   "cell_type": "code",
   "execution_count": 4,
   "metadata": {},
   "outputs": [
    {
     "name": "stdout",
     "output_type": "stream",
     "text": [
      "tprv8hCwKRwDxELVyNjavsc5vq5au9HbBE8XgMPRMMS1qJwVru3B7DpTqjXEU28Ctrw8UYxQXeEvMHM6vPTGGgcTWjMTzgdyb8kHouM7UPhdKiS\n"
     ]
    }
   ],
   "source": [
    "bx hd-private --index 0 tprv8ZgxMBicQKsPdSeZJzyvz6sEVDV8iMJfuKczswWUFTPXa2eTVTg96qh1VVsPC1fDR37gh6KUjo9V4i3peYUPuyP7t5esiH7Lnja8CUNEMFS \\\n",
    "| bx hd-private --index 1 \\\n",
    "| bx hd-private --index 2 \n"
   ]
  },
  {
   "cell_type": "markdown",
   "metadata": {},
   "source": [
    "**`M` &#8658; `M/0/1/2`** `(public-key child derivation)`"
   ]
  },
  {
   "cell_type": "code",
   "execution_count": null,
   "metadata": {},
   "outputs": [],
   "source": [
    "bx hd-public --index 0  tpubD6NzVbkrYhZ4WugMCeeXPWXM4F14sgVaUdDnATYmfjBvQWuE7rVjHLJsfdv4zdAnbMRqy9JqZZ6AatQiDNETt1kgRQj4ch1nGLsqX2qdyEK \\\n",
    "| bx hd-public --index 1 \\\n",
    "| bx hd-public --index 2 \n"
   ]
  },
  {
   "cell_type": "markdown",
   "metadata": {},
   "source": [
    "**`m/0/1/2` &#8658; `M/0/1/2`** "
   ]
  },
  {
   "cell_type": "code",
   "execution_count": null,
   "metadata": {},
   "outputs": [],
   "source": [
    "#(compare key with preceding example)\n",
    "bx hd-to-public tprv8hCwKRwDxELVyNjavsc5vq5au9HbBE8XgMPRMMS1qJwVru3B7DpTqjXEU28Ctrw8UYxQXeEvMHM6vPTGGgcTWjMTzgdyb8kHouM7UPhdKiS\n"
   ]
  },
  {
   "cell_type": "markdown",
   "metadata": {},
   "source": [
    "**Payment addresses from hd-keys**\n",
    "* `hd-to-ec` derives public key from extended public key.\n",
    "* `ec-to-address` returns payment addresss from public key.\n",
    "    * `--version` : `0x6f` = `111` in decimal"
   ]
  },
  {
   "cell_type": "code",
   "execution_count": null,
   "metadata": {},
   "outputs": [],
   "source": [
    "bx hd-to-ec tpubDDtyTqyU6c2ArqmNpXGgLEjhUAoXLZKSFezCdsUKFajthPHwjce42E96eAQzmny1cXPw8Ndpe6mehZez5AYSXm2RWVi6p8eabeFMDrDAMqc \\\n",
    "| bx ec-to-address --version 111\n"
   ]
  },
  {
   "cell_type": "markdown",
   "metadata": {},
   "source": [
    "### 2.2) Deriving hardened children hd keys."
   ]
  },
  {
   "cell_type": "markdown",
   "metadata": {},
   "source": [
    "**`m` &#8658; `m/44'`** "
   ]
  },
  {
   "cell_type": "code",
   "execution_count": null,
   "metadata": {},
   "outputs": [],
   "source": [
    "bx hd-private --hard --index 44 tprv8ZgxMBicQKsPdSeZJzyvz6sEVDV8iMJfuKczswWUFTPXa2eTVTg96qh1VVsPC1fDR37gh6KUjo9V4i3peYUPuyP7t5esiH7Lnja8CUNEMFS\n"
   ]
  },
  {
   "cell_type": "markdown",
   "metadata": {},
   "source": [
    "**`m` &#8658; `m/44'` &#8658; `M/44'`** "
   ]
  },
  {
   "cell_type": "code",
   "execution_count": null,
   "metadata": {},
   "outputs": [],
   "source": [
    "bx hd-public --hard --index 44 tprv8ZgxMBicQKsPdSeZJzyvz6sEVDV8iMJfuKczswWUFTPXa2eTVTg96qh1VVsPC1fDR37gh6KUjo9V4i3peYUPuyP7t5esiH7Lnja8CUNEMFS\n"
   ]
  },
  {
   "cell_type": "markdown",
   "metadata": {},
   "source": [
    "**`m/44'` &#8658; `m/44'/1'` &#8658; `M/44'/1'`** "
   ]
  },
  {
   "cell_type": "code",
   "execution_count": null,
   "metadata": {},
   "outputs": [],
   "source": [
    "bx hd-public --hard --index 1 tprv8cJ2rro1fDs44qYPwWi5eMHgDZ2fdEGRtXYUsXzBJP53p3hPN3b1mQcigUU3H85tA1zFYsRvXVRumhhDDo7y2v8RS22EvrbyoQuFHmWE4CZ\n"
   ]
  },
  {
   "cell_type": "markdown",
   "metadata": {},
   "source": [
    "**Try: `M/44'` &#8658; `M/44'/1'`**"
   ]
  },
  {
   "cell_type": "code",
   "execution_count": null,
   "metadata": {},
   "outputs": [],
   "source": [
    "bx hd-public --hard --index 1 tpubD9pU5CBaLtLYDonezhUaV1MfbYKytU1UsdkWpkFjEkFTBGCwX9Ma5nrufxte6NR6K78XpPWoTXSzhEFrRnGDyM8FMFVbzc8jqcMAim2aBZd \n"
   ]
  },
  {
   "cell_type": "markdown",
   "metadata": {},
   "source": [
    "## 3) Recovering a HD wallet from mnemonic phrase\n",
    "<img src=\"images/hd_wallet_recovery.jpg\" alt=\"drawing\" style=\"\" width=\"700px\"/>"
   ]
  },
  {
   "cell_type": "markdown",
   "metadata": {},
   "source": [
    "**In order to recover previously used hd-derivation paths of an hd-wallet:**\n",
    "* Derive hd parent keys of receiving & change addresses from mnemonic (& passphrase).\n",
    "    * Parent of receiving addresses\n",
    "        * `m/44'/0'/0'/0` (mainnet)\n",
    "        * `m/44'/1'/0'/0` (testnet)\n",
    "    * Parent of change addresses\n",
    "        * `m/44'/0'/0'/1` (mainnet)\n",
    "        * `m/44'/1'/0'/1` (testnet)        \n",
    "* Increment hd-key index of children until unused addresses are found.\n",
    "    * Query Libbitcoin Server to check history of a payment address\n",
    "        * `bx fetch-history` `[payment address]`"
   ]
  },
  {
   "cell_type": "code",
   "execution_count": null,
   "metadata": {},
   "outputs": [],
   "source": [
    "mnemonic='むける りりく あんぜん ひろい よかぜ いっぽう でぬかえ むいか うんてん げいのうじん ひほう きぞく'\n",
    "m_testnet=$(bx mnemonic-to-seed --language ja $mnemonic | bx hd-new)\n",
    "m_44h_1h_0h_0=$(bx hd-private --index 44 --hard $m_testnet \\\n",
    "| bx hd-private --index 1 --hard \\\n",
    "| bx hd-private --index 0 --hard \\\n",
    "| bx hd-private --index 0)\n",
    "\n",
    "\n",
    "gap_count=0\n",
    "current_index=0\n",
    "\n",
    "while (( $gap_count < 20 ))\n",
    "do\n",
    "\n",
    "    current_address=$(bx hd-private --index $current_index $m_44h_1h_0h_0 \\\n",
    "    | bx hd-to-public \\\n",
    "    | bx hd-to-ec \\\n",
    "    | bx ec-to-address --version 111)\n",
    "     \n",
    "    query_address_history_reply=$(bx fetch-history $current_address)\n",
    "\n",
    "    if  [ \"$query_address_history_reply\" = 'transfers \"\"' ]\n",
    "    then\n",
    "        echo address at index $current_index is unused.\n",
    "        let gap_count++\n",
    "    \n",
    "    # reset gap counter if gap interrupted before it reaches 20.\n",
    "    elif (( $gap_count > 0 ))\n",
    "    then \n",
    "        gap_count=0\n",
    "    fi\n",
    "    \n",
    "    let current_index++\n",
    "    \n",
    "done"
   ]
  }
 ],
 "metadata": {
  "kernelspec": {
   "display_name": "Bash",
   "language": "bash",
   "name": "bash"
  },
  "language_info": {
   "codemirror_mode": "shell",
   "file_extension": ".sh",
   "mimetype": "text/x-sh",
   "name": "bash"
  }
 },
 "nbformat": 4,
 "nbformat_minor": 2
}
