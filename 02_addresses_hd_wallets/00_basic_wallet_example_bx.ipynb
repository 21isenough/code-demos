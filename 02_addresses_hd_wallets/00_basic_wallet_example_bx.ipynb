{
 "cells": [
  {
   "cell_type": "markdown",
   "metadata": {},
   "source": [
    "# Basic Wallet - Examples with Libbitcoin BX\n",
    "In this example, demonstrate setting up basic Bitcoin addresses and wallets.\n",
    "<br>\n",
    "<hr style=\"border: 0.5px dashed #000;\">\n",
    "\n",
    "# 1. P2PKH Addresses\n",
    "<img src=\"images/address_from_pubkey.jpg\" alt=\"drawing\" style=\"\" width=\"700px\"/>\n",
    "\n",
    "Libbitcoin BX provides the following commands to derive Bitcoin P2PKH Addresses\n",
    "* `bx sha256`\n",
    "* `bx ripemid160`\n",
    "* `bx base58-encode`"
   ]
  },
  {
   "cell_type": "markdown",
   "metadata": {},
   "source": [
    "## 1.1 Generate a private key and its two public key points (compressed/uncompressed)"
   ]
  },
  {
   "cell_type": "code",
   "execution_count": 84,
   "metadata": {},
   "outputs": [
    {
     "name": "stdout",
     "output_type": "stream",
     "text": [
      "46e3e283aee9f29574e5aa4e599c6c1e66aed09d7d613b1485f54396893dd2fb\n"
     ]
    }
   ],
   "source": [
    "bx seed --bit_length 512 | bx ec-new \n"
   ]
  },
  {
   "cell_type": "code",
   "execution_count": 92,
   "metadata": {},
   "outputs": [
    {
     "name": "stdout",
     "output_type": "stream",
     "text": [
      "0293fbd0e38e7dce74323ff12973f08b5b93af3d01ab972233f3904807d03f2a41\n",
      "0493fbd0e38e7dce74323ff12973f08b5b93af3d01ab972233f3904807d03f2a41b39043dbee596c080cf2967560337f7f70e14af75e04013b16c82f91bee237de\n"
     ]
    }
   ],
   "source": [
    "bx ec-to-public 46e3e283aee9f29574e5aa4e599c6c1e66aed09d7d613b1485f54396893dd2fb \\\n",
    "&& bx ec-to-public --uncompressed 46e3e283aee9f29574e5aa4e599c6c1e66aed09d7d613b1485f54396893dd2fb\n"
   ]
  },
  {
   "cell_type": "markdown",
   "metadata": {},
   "source": [
    "## 1.2 Generate the bitcoin short hash digest \n",
    "<br>\n",
    "<img src=\"images/address_from_pubkey_hash160.jpg\" alt=\"drawing\" style=\"\" width=\"800px\"/>\n",
    "<br>\n",
    "\n",
    "Libbitcoin BX command:\n",
    "\n",
    "* **`bitcoin short hash` or `hash160`**: `bx sha256 [data] | bx ripemd160`"
   ]
  },
  {
   "cell_type": "markdown",
   "metadata": {},
   "source": [
    "***From compressed public key:***"
   ]
  },
  {
   "cell_type": "code",
   "execution_count": null,
   "metadata": {},
   "outputs": [],
   "source": [
    "# bx sha256 [compressed public key] | bx ripemd160\n",
    "bx sha256 02584b503f051e3e346efd2ef6b781f039d29c8bbf80b32d5f917cf0ce6baf8c14 | bx ripemd160\n"
   ]
  },
  {
   "cell_type": "markdown",
   "metadata": {},
   "source": [
    "***From uncompressed public key:***"
   ]
  },
  {
   "cell_type": "code",
   "execution_count": 68,
   "metadata": {},
   "outputs": [
    {
     "name": "stdout",
     "output_type": "stream",
     "text": [
      "50b33277696c16a651bbd5eba58adccf23325be8\n"
     ]
    }
   ],
   "source": [
    "# bx sha256 [uncompressed public key] | bx ripemd160\n",
    "bx sha256 04584b503f051e3e346efd2ef6b781f039d29c8bbf80b32d5f917cf0ce6baf8c143f444c02031e45be71ae15d12c684438ddd4038dd7e3d47eb549fe691f101c8a | bx ripemd160\n"
   ]
  },
  {
   "cell_type": "markdown",
   "metadata": {},
   "source": [
    "## 1.3 Generate the bitcoin hash checksum\n",
    "<br>\n",
    "<img src=\"images/address_from_pubkey_checksum.jpg\" alt=\"drawing\" style=\"\" width=\"800px\"/>\n",
    "<br>\n",
    "Libbitcoin BX command:\n",
    "\n",
    "* **`bitcoin hash`**: `bx sha256 [data] | bx sha256`"
   ]
  },
  {
   "cell_type": "markdown",
   "metadata": {},
   "source": [
    "### Checksum from the compressed public key"
   ]
  },
  {
   "cell_type": "markdown",
   "metadata": {},
   "source": [
    "***Mainnet Version `0x00`***"
   ]
  },
  {
   "cell_type": "code",
   "execution_count": 72,
   "metadata": {},
   "outputs": [
    {
     "name": "stdout",
     "output_type": "stream",
     "text": [
      "be3df7bb087c89f7c7f1e85c1ec4461632f80ad3f4e15154355cb88edefa8f4f\n"
     ]
    }
   ],
   "source": [
    "# bx sha256 [00][bitcoin short hash digest (from comp. public key)] | bx sha256\n",
    "# Checksum is first 4 bytes of result\n",
    "bx sha256 00f76cbab3a2a0272e9373d213f66370b1f7596735 | bx sha256\n"
   ]
  },
  {
   "cell_type": "markdown",
   "metadata": {},
   "source": [
    "***Testnet Version `0x6f`***"
   ]
  },
  {
   "cell_type": "code",
   "execution_count": 67,
   "metadata": {},
   "outputs": [
    {
     "name": "stdout",
     "output_type": "stream",
     "text": [
      "4fa24fa7561b60809730f3929fe08660469b839f8d5ae2a2507e7495eed1c649\n"
     ]
    }
   ],
   "source": [
    "# bx sha256 [6f][bitcoin short hash digest (from comp. public key)] | bx sha256\n",
    "# Checksum is first 4 bytes of result\n",
    "bx sha256 6ff76cbab3a2a0272e9373d213f66370b1f7596735 | bx sha256\n"
   ]
  },
  {
   "cell_type": "markdown",
   "metadata": {},
   "source": [
    "### Checksum from the uncompressed public key"
   ]
  },
  {
   "cell_type": "markdown",
   "metadata": {},
   "source": [
    "***Mainnet Version `0x00`***"
   ]
  },
  {
   "cell_type": "code",
   "execution_count": 69,
   "metadata": {},
   "outputs": [
    {
     "name": "stdout",
     "output_type": "stream",
     "text": [
      "b21100687fa3965cfa44c1c43b4b615211eebc22c3f597dd79cbd8d2d6b18b0b\n"
     ]
    }
   ],
   "source": [
    "# bx sha256 [6f][bitcoin short hash digest (from comp. public key)] | bx sha256\n",
    "# Checksum is first 4 bytes of result\n",
    "bx sha256 0050b33277696c16a651bbd5eba58adccf23325be8 | bx sha256\n"
   ]
  },
  {
   "cell_type": "markdown",
   "metadata": {},
   "source": [
    "***Testnet Version `0x6f`***"
   ]
  },
  {
   "cell_type": "code",
   "execution_count": 70,
   "metadata": {},
   "outputs": [
    {
     "name": "stdout",
     "output_type": "stream",
     "text": [
      "8f250fd612047010de2705e8aa911f91e842d3a0435f3b621a307402777cc019\n"
     ]
    }
   ],
   "source": [
    "# bx sha256 [6f][bitcoin short hash digest (from comp. public key)] | bx sha256\n",
    "# Checksum is first 4 bytes of result\n",
    "bx sha256 6f50b33277696c16a651bbd5eba58adccf23325be8 | bx sha256\n"
   ]
  },
  {
   "cell_type": "markdown",
   "metadata": {},
   "source": [
    "## 1.4 Base58 encode version, short hash digest and checksum\n",
    "<br>\n",
    "<img src=\"images/address_from_pubkey_base58.jpg\" alt=\"drawing\" style=\"\" width=\"800px\"/>\n",
    "<br>\n",
    "Libbitcoin BX command:\n",
    "\n",
    "* **`base58 encoding`**: `bx base58-encode [data]`\n",
    "* Compare resulting address with `bx ec-to-address --version 0 [public key]`"
   ]
  },
  {
   "cell_type": "markdown",
   "metadata": {},
   "source": [
    "### Addresses from the compressed public key\n"
   ]
  },
  {
   "cell_type": "markdown",
   "metadata": {},
   "source": [
    "***Mainnet Address***\n",
    "* Version: `0x00(hex)` or `0(decimal)`"
   ]
  },
  {
   "cell_type": "code",
   "execution_count": 77,
   "metadata": {},
   "outputs": [
    {
     "name": "stdout",
     "output_type": "stream",
     "text": [
      "1PZGA2YMv1mUaFndJzGxSLr7SntnHB3Uw4\n"
     ]
    }
   ],
   "source": [
    "# bx base58encode [00][bitcoin short hash digest (from compressed key)][checksum]\n",
    "bx base58-encode 00f76cbab3a2a0272e9373d213f66370b1f7596735be3df7bb\n"
   ]
  },
  {
   "cell_type": "code",
   "execution_count": 76,
   "metadata": {},
   "outputs": [
    {
     "name": "stdout",
     "output_type": "stream",
     "text": [
      "1PZGA2YMv1mUaFndJzGxSLr7SntnHB3Uw4\n"
     ]
    }
   ],
   "source": [
    "# bx ec-to-address --version 0 [compressed public key]\n",
    "bx ec-to-address --version 0 02584b503f051e3e346efd2ef6b781f039d29c8bbf80b32d5f917cf0ce6baf8c14\n"
   ]
  },
  {
   "cell_type": "markdown",
   "metadata": {},
   "source": [
    "***Testnet Address***\n",
    "* Version: `0x6f(hex)` or `111(decimal)`"
   ]
  },
  {
   "cell_type": "code",
   "execution_count": 73,
   "metadata": {},
   "outputs": [
    {
     "name": "stdout",
     "output_type": "stream",
     "text": [
      "n45DT5dLj3CjMNGF2ZFLGG4SJnVV9Lp2cE\n"
     ]
    }
   ],
   "source": [
    "# bx base58encode [6f][bitcoin short hash digest (from compressed key)][checksum]\n",
    "bx base58-encode 6ff76cbab3a2a0272e9373d213f66370b1f75967354fa24fa7\n"
   ]
  },
  {
   "cell_type": "code",
   "execution_count": 75,
   "metadata": {
    "scrolled": true
   },
   "outputs": [
    {
     "name": "stdout",
     "output_type": "stream",
     "text": [
      "n45DT5dLj3CjMNGF2ZFLGG4SJnVV9Lp2cE\n"
     ]
    }
   ],
   "source": [
    "# bx ec-to-address --version 111 [compressed public key]\n",
    "bx ec-to-address --version 111 02584b503f051e3e346efd2ef6b781f039d29c8bbf80b32d5f917cf0ce6baf8c14\n"
   ]
  },
  {
   "cell_type": "markdown",
   "metadata": {},
   "source": [
    "### Addresses from the uncompressed public key\n"
   ]
  },
  {
   "cell_type": "markdown",
   "metadata": {},
   "source": [
    "***Mainnet Address***\n",
    "* Version: `0x00(hex)` or `0(decimal)`"
   ]
  },
  {
   "cell_type": "code",
   "execution_count": 80,
   "metadata": {},
   "outputs": [
    {
     "name": "stdout",
     "output_type": "stream",
     "text": [
      "18MhjBXydChPR7H1nKzMGCLMR6vwJQ3tXH\n"
     ]
    }
   ],
   "source": [
    "# bx base58encode [00][bitcoin short hash digest (from uncompressed key)][checksum]\n",
    "bx base58-encode 0050b33277696c16a651bbd5eba58adccf23325be8b2110068\n"
   ]
  },
  {
   "cell_type": "code",
   "execution_count": 81,
   "metadata": {},
   "outputs": [
    {
     "name": "stdout",
     "output_type": "stream",
     "text": [
      "18MhjBXydChPR7H1nKzMGCLMR6vwJQ3tXH\n"
     ]
    }
   ],
   "source": [
    "# bx ec-to-address --version 0 [uncompressed public key]\n",
    "bx ec-to-address --version 0 04584b503f051e3e346efd2ef6b781f039d29c8bbf80b32d5f917cf0ce6baf8c143f444c02031e45be71ae15d12c684438ddd4038dd7e3d47eb549fe691f101c8a\n"
   ]
  },
  {
   "cell_type": "markdown",
   "metadata": {},
   "source": [
    "***Testnet Address***\n",
    "* Version: `0x6f(hex)` or `111(decimal)`"
   ]
  },
  {
   "cell_type": "code",
   "execution_count": 83,
   "metadata": {},
   "outputs": [
    {
     "name": "stdout",
     "output_type": "stream",
     "text": [
      "mnsf2EcxSE8eCDkdVtxj67YgH6XeCW2XaD\n"
     ]
    }
   ],
   "source": [
    "# bx base58encode [6f][bitcoin short hash digest (from uncompressed key)][checksum]\n",
    "bx base58-encode 6f50b33277696c16a651bbd5eba58adccf23325be88f250fd6\n"
   ]
  },
  {
   "cell_type": "code",
   "execution_count": 82,
   "metadata": {
    "scrolled": true
   },
   "outputs": [
    {
     "name": "stdout",
     "output_type": "stream",
     "text": [
      "mnsf2EcxSE8eCDkdVtxj67YgH6XeCW2XaD\n"
     ]
    }
   ],
   "source": [
    "# bx ec-to-address --version 111 [uncompressed public key]\n",
    "bx ec-to-address --version 111 04584b503f051e3e346efd2ef6b781f039d29c8bbf80b32d5f917cf0ce6baf8c143f444c02031e45be71ae15d12c684438ddd4038dd7e3d47eb549fe691f101c8a\n"
   ]
  },
  {
   "cell_type": "markdown",
   "metadata": {},
   "source": [
    "# 2. Wallet Import Format\n",
    "<img src=\"images/private_key_wif.jpg\" alt=\"drawing\" style=\"\" width=\"700px\"/>\n",
    "\n",
    "\n",
    "<br>\n",
    "The WIF private key format provides the wallet with information on the address which was used with the specific private key.\n",
    "\n",
    "We encode the WIF for the following private key:\n",
    "* Private key: `46e3e283aee9f29574e5aa4e599c6c1e66aed09d7d613b1485f54396893dd2fb`\n",
    "* Public key: `compressed`\n",
    "* Network: `testnet (0xef/239)`"
   ]
  },
  {
   "cell_type": "markdown",
   "metadata": {},
   "source": [
    "## 2.1 Generate the bitcoin hash checksum\n"
   ]
  },
  {
   "cell_type": "code",
   "execution_count": 86,
   "metadata": {},
   "outputs": [
    {
     "name": "stdout",
     "output_type": "stream",
     "text": [
      "ad5b7cd3545cc69515160378e2c950a5a5101038341f1dcc38c2ecdc6d2536f1\n"
     ]
    }
   ],
   "source": [
    "# bx sha256 [ef][private key][01] | bx sha256\n",
    "# Checksum is first 4 bytes of result\n",
    "bx sha256 ef46e3e283aee9f29574e5aa4e599c6c1e66aed09d7d613b1485f54396893dd2fb01 | bx sha256\n"
   ]
  },
  {
   "cell_type": "markdown",
   "metadata": {},
   "source": [
    "## 2.2 Base58 encode the WIF\n"
   ]
  },
  {
   "cell_type": "code",
   "execution_count": 88,
   "metadata": {},
   "outputs": [
    {
     "name": "stdout",
     "output_type": "stream",
     "text": [
      "cPxW7w3WmgJAw9mLt6qJ4xPXja2A3Yz2chCPVu68bf9MRnUkKxeN\n"
     ]
    }
   ],
   "source": [
    "# bx base58-encode [ef][private key][01][checksum] | bx sha256\n",
    "# Checksum is first 4 bytes of result\n",
    "bx base58-encode ef46e3e283aee9f29574e5aa4e599c6c1e66aed09d7d613b1485f54396893dd2fb01ad5b7cd3\n"
   ]
  },
  {
   "cell_type": "markdown",
   "metadata": {},
   "source": [
    "**Compare with `bx ec-to-wif` command**"
   ]
  },
  {
   "cell_type": "code",
   "execution_count": 89,
   "metadata": {},
   "outputs": [
    {
     "name": "stdout",
     "output_type": "stream",
     "text": [
      "cPxW7w3WmgJAw9mLt6qJ4xPXja2A3Yz2chCPVu68bf9MRnUkKxeN\n"
     ]
    }
   ],
   "source": [
    "# bx ec-to-wif --version 239 [ef][private key][01][checksum]\n",
    "bx ec-to-wif --version 239 46e3e283aee9f29574e5aa4e599c6c1e66aed09d7d613b1485f54396893dd2fb\n"
   ]
  }
 ],
 "metadata": {
  "kernelspec": {
   "display_name": "Bash",
   "language": "bash",
   "name": "bash"
  },
  "language_info": {
   "codemirror_mode": "shell",
   "file_extension": ".sh",
   "mimetype": "text/x-sh",
   "name": "bash"
  }
 },
 "nbformat": 4,
 "nbformat_minor": 2
}
