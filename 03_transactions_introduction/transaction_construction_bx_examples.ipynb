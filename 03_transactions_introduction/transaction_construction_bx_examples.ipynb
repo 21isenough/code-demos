{
 "cells": [
  {
   "cell_type": "markdown",
   "metadata": {},
   "source": [
    "# Transaction Construction - Examples with Libbitcoin BX\n",
    "In this BX tutorial, we construct a transaction which spends one P2PKH output to another."
   ]
  },
  {
   "cell_type": "markdown",
   "metadata": {},
   "source": [
    "<hr style=\"border: 0.5px dashed #000;\">\n",
    "\n",
    "## 1. Setup wallet and test funds.\n",
    "\n",
    "### 1.1 Generate spending key pair.\n",
    "\n",
    "**New private key**"
   ]
  },
  {
   "cell_type": "code",
   "execution_count": 7,
   "metadata": {},
   "outputs": [
    {
     "name": "stdout",
     "output_type": "stream",
     "text": [
      "ff8650cd9136ea2099f8a49291688e8699633e4dffe98030e30e86c5a13aae21\n"
     ]
    }
   ],
   "source": [
    "bx seed | bx ec-new\n"
   ]
  },
  {
   "cell_type": "markdown",
   "metadata": {},
   "source": [
    "**Save your private key**"
   ]
  },
  {
   "cell_type": "code",
   "execution_count": 8,
   "metadata": {},
   "outputs": [
    {
     "name": "stdout",
     "output_type": "stream",
     "text": [
      "75796aa57a30d3743e8e1070663f72e0f5a5666b0b7b8f780682851799659f77\n"
     ]
    }
   ],
   "source": [
    "# echo [private key]\n",
    "echo 75796aa57a30d3743e8e1070663f72e0f5a5666b0b7b8f780682851799659f77\n"
   ]
  },
  {
   "cell_type": "markdown",
   "metadata": {},
   "source": [
    "**Derive public key**"
   ]
  },
  {
   "cell_type": "code",
   "execution_count": 4,
   "metadata": {},
   "outputs": [
    {
     "name": "stdout",
     "output_type": "stream",
     "text": [
      "03cdbe1ad1dc4873dd34a0c81a4ce955451da1a53ef0680a3ff30727faefc1ea2c\n"
     ]
    }
   ],
   "source": [
    "# bx ec-to-public [private key]\n",
    "bx ec-to-public 75796aa57a30d3743e8e1070663f72e0f5a5666b0b7b8f780682851799659f77\n"
   ]
  },
  {
   "cell_type": "markdown",
   "metadata": {},
   "source": [
    "**Derive public key hash**"
   ]
  },
  {
   "cell_type": "code",
   "execution_count": 118,
   "metadata": {},
   "outputs": [
    {
     "name": "stdout",
     "output_type": "stream",
     "text": [
      "704a1961dab16d12dd19e38d77e8026fa8f7c73c\n"
     ]
    }
   ],
   "source": [
    "# bx sha256 [public key] | bx ripemd160\n",
    "bx sha256 03cdbe1ad1dc4873dd34a0c81a4ce955451da1a53ef0680a3ff30727faefc1ea2c | bx ripemd160\n"
   ]
  },
  {
   "cell_type": "markdown",
   "metadata": {},
   "source": [
    "**Testnet Address**"
   ]
  },
  {
   "cell_type": "code",
   "execution_count": 119,
   "metadata": {},
   "outputs": [
    {
     "name": "stdout",
     "output_type": "stream",
     "text": [
      "mqkgk3AiMKEFrJKLVJQexc9A8DTH6hayuU\n"
     ]
    }
   ],
   "source": [
    "# bx ec-to-address --version 111 [public key]\n",
    "bx ec-to-address --version 111 03cdbe1ad1dc4873dd34a0c81a4ce955451da1a53ef0680a3ff30727faefc1ea2c\n"
   ]
  },
  {
   "cell_type": "markdown",
   "metadata": {},
   "source": [
    "### 1.2 Send test coins funds to the address you will be spending from.\n",
    "Note your spendable p2pkh UXTO's below..."
   ]
  },
  {
   "cell_type": "markdown",
   "metadata": {},
   "source": [
    "* TXID: `[bafe3ae6bb2756e42b4b09e5150d054ec1bcba28c983faa237e344544254332f]`<br>\n",
    "* Index: `[1]`\n",
    "* Amount: `[16433616]`"
   ]
  },
  {
   "cell_type": "markdown",
   "metadata": {},
   "source": [
    "### 1.3 Generate 8 receiving key pairs.\n",
    "We will send our the testnet coins to the following public keys/addresses which we have generated ourselves."
   ]
  },
  {
   "cell_type": "code",
   "execution_count": 21,
   "metadata": {},
   "outputs": [
    {
     "name": "stdout",
     "output_type": "stream",
     "text": [
      "cc7c9adefff503dae3432629d2609816359660e4342853aa55a8e9aba530169b\n",
      "03138a623eb651e8ca73dadb66077760768b050afac64d67867a0535559dd3e3a2\n",
      "miQikUaBa5ssUE7CEDTQbCJoFh2ExjYALi\n"
     ]
    }
   ],
   "source": [
    "secret=$(bx seed | bx ec-new)\n",
    "public_key=$(bx ec-to-public $secret)\n",
    "address=$(bx ec-to-address --version 111 $public_key)\n",
    "echo $secret\n",
    "echo $public_key\n",
    "echo $address"
   ]
  },
  {
   "cell_type": "markdown",
   "metadata": {},
   "source": [
    "**Save the generated keys below for later usage**\n",
    "\n",
    "* Pair 0: \n",
    "    * secret: `[3e67a0182ecdda692672a26a1621119237dc8dc6e2be1bd64b15cb6fc0cd255c]`<br>\n",
    "    * public key: `[038dae7bd6a59d71422f7f3323c7ce88414d02a66b39344c8c42c070626abf9c6c]`\n",
    "    * address: `[mwZtbpwXZG5EmrKW1nKFL1HgXkxtGPwUo2]`\n",
    "\n",
    "* Pair 1: \n",
    "    * secret: `[113c481cfb530bdd311dcdad15a10a7610dba0975ac8e806746f404df6e48dd9]`<br>\n",
    "    * public key: `[021346b46826c3f13a3e208a6433b8c1452280e42aec34b8369011c9ac2807e221]`\n",
    "    * address: `[mzNpUEiXBmJ2hKAmHJvqMFUrjsRo26qvd7]`\n",
    "\n",
    "* Pair 2: \n",
    "    * secret: `[80db21de59b22bb1ddad12856601c8e2f1f3e00edc070a6f7479da30b04e6296]`<br>\n",
    "    * public key: `[02e9d31df4715af721cb8cb1224c940d2d7164a3e604ccf21df2fb3a3544fd2ae1]`\n",
    "    * address: `[mmX2p2x2x8ayQYWdkinAnhcVDiWtq6KnBT]`\n",
    "    \n",
    "* Pair 3: \n",
    "    * secret: `[7072b44f065d9970dbc1c7b8dee7e884828331843f56551c84dc6d8685c18847]`<br>\n",
    "    * public key: `[02e9d31df4715af721cb8cb1224c940d2d7164a3e604ccf21df2fb3a3544fd2ae1]`\n",
    "    * address: `[mmX2p2x2x8ayQYWdkinAnhcVDiWtq6KnBT]`\n",
    "    \n",
    "* Pair 4: \n",
    "    * secret: `[d7fcc4ad86988e58a7dedfefa2e794d54bb94b3fa3419f42c170d9e44b5854b2]`<br>\n",
    "    * public key: `[0382163181570933c4613c30976ad1e343eaafc6566cf5d80396bbfc5369ffcbbc]`\n",
    "    * address: `[mw8qNFesyca5AhgnLAqFqtpo2YD66JhXB8]`  \n",
    "    \n",
    "* Pair 5: \n",
    "    * secret: `[eb4b29a0fa6b2826534e736e48aa8dfc4a84030ce9e302b9919ab17c31dc270c]`<br>\n",
    "    * public key: `[03252db1a2eec0c1dba056dd78c950793769f6ea0e48cca355d3c963897ef07867]`\n",
    "    * address: `[mm6yAi98fpZt8FJ2o7eAkRiTeueMAuB4YE]` \n",
    "    \n",
    "* Pair 6: \n",
    "    * secret: `[40b6b68f8a839411f3221f86b3117813b084e497a35ffca54249b7648ce4a6b6]`<br>\n",
    "    * public key: `[028768152486ef9384f5e820fad2f76f26a843c4802f0c5634be148bd904daacc4]`\n",
    "    * address: `[myYJNd6oVHMGBW2Feu44kBdNvXFD9E5y2C]` \n",
    " \n",
    "* Pair 7: \n",
    "    * secret: `[bafe3ae6bb2756e42b4b09e5150d054ec1bcba28c983faa237e344544254332f]`<br>\n",
    "    * public key: `[]`\n",
    "    * address: `[]` \n",
    "    \n",
    "* Pair 8: \n",
    "    * secret: `[bafe3ae6bb2756e42b4b09e5150d054ec1bcba28c983faa237e344544254332f]`<br>\n",
    "    * public key: `[]`\n",
    "    * address: `[]` \n",
    "    "
   ]
  },
  {
   "cell_type": "markdown",
   "metadata": {},
   "source": [
    "## 2. Spending a P2PKH output."
   ]
  },
  {
   "cell_type": "markdown",
   "metadata": {},
   "source": [
    "### 2.1 Create output script.\n",
    "\n",
    "* Send funds to address: `mqkgk3AiMKEFrJKLVJQexc9A8DTH6hayuU`"
   ]
  },
  {
   "cell_type": "markdown",
   "metadata": {},
   "source": [
    "**Extract public key hash from address**"
   ]
  },
  {
   "cell_type": "code",
   "execution_count": 120,
   "metadata": {},
   "outputs": [
    {
     "name": "stdout",
     "output_type": "stream",
     "text": [
      "wrapper\n",
      "{\n",
      "    checksum 2334952347\n",
      "    payload 704a1961dab16d12dd19e38d77e8026fa8f7c73c\n",
      "    version 111\n",
      "}\n"
     ]
    }
   ],
   "source": [
    "# bx address-decode [address]\n",
    "bx address-decode mqkgk3AiMKEFrJKLVJQexc9A8DTH6hayuU\n"
   ]
  },
  {
   "cell_type": "markdown",
   "metadata": {},
   "source": [
    "**Compose P2PKH(destination public key hash) output script.**"
   ]
  },
  {
   "cell_type": "code",
   "execution_count": 124,
   "metadata": {},
   "outputs": [
    {
     "name": "stdout",
     "output_type": "stream",
     "text": [
      "76a914704a1961dab16d12dd19e38d77e8026fa8f7c73c88ac\n"
     ]
    }
   ],
   "source": [
    "# bx script-encode \"DUP HASH160 [public key hash] EQUALVERIFY CHECKSIG\"\n",
    "bx script-encode \\\n",
    "\"DUP HASH160 [704a1961dab16d12dd19e38d77e8026fa8f7c73c] EQUALVERIFY CHECKSIG\"\n"
   ]
  },
  {
   "cell_type": "markdown",
   "metadata": {},
   "source": [
    "### 2.2 Compute output amount.\n",
    "\n",
    "* **Subtract minimum fee, which consists of:**\n",
    "    * This is node policy. \n",
    "    * For example:\n",
    "        * `100 sat / sigop`\n",
    "        * `1 sat byte`\n",
    "\n",
    "\n",
    "* **Transaction sigop count computation:**\n",
    "    * Counted as 1 sigop: `checksig`,`checksigverify`\n",
    "    * Counted as 20 sigops: `checkmultisig`, `checkmultisigverify`\n",
    "    * *Non-segwit:*\n",
    "        * Transaction sigop count is multiplied by 4x.\n",
    "        * Output vs Input sigops: \n",
    "            * All sigops in the output script are counted.\n",
    "            * P2SH Redeemscript input sigops are counted.\n",
    "    * *Segwit:*\n",
    "        * `P2W` or `P2SH(P2W)` output scripts do not have explicit sigops.\n",
    "        * Inputs which spend these inputs, imply sigops.\n",
    "            * Spending `P2WPKH/P2SH(P2WPKH)` equals 1 sigop count.\n",
    "            * Spending `P2WSH/P2SH(P2WSH)`equals sigop count in witness script.\n",
    "            \n",
    "\n",
    "* **Transaction length in bytes:**\n",
    "    * version: `4`\n",
    "    * input count: `1 `\n",
    "        * per input:\n",
    "            * prevous tx hash: `32`\n",
    "            * previous output index: `4`\n",
    "            * p2pkh spending input script: \n",
    "                * `110 = 1(script length) + 1(sig length) + 74(signature) + 1(public key length) + 33(public key)`\n",
    "            * input sequence: `4`\n",
    "    * output count: `1`\n",
    "        * per output:\n",
    "            * output amount: `8`\n",
    "            * p2pkh output script: `33`\n",
    "    * locktime: `4`        "
   ]
  },
  {
   "cell_type": "markdown",
   "metadata": {},
   "source": [
    "**Compute per-output amount for `10` p2pkh outputs**"
   ]
  },
  {
   "cell_type": "code",
   "execution_count": 125,
   "metadata": {},
   "outputs": [
    {
     "name": "stdout",
     "output_type": "stream",
     "text": [
      "16429048\n"
     ]
    }
   ],
   "source": [
    "# input amount -  sigops * 4 * sat/sigop - bytes * sat/byte\n",
    "# 10 p2pkh outputs, 10 sigops\n",
    "# tx length: 4 + 1 + 1*(108+4) + 1 + 10*(8+33) + 4 = 568 bytes\n",
    "\n",
    "expr 16433616 - 10 \\* 400 - 568\n"
   ]
  },
  {
   "cell_type": "code",
   "execution_count": 126,
   "metadata": {},
   "outputs": [
    {
     "name": "stdout",
     "output_type": "stream",
     "text": [
      "1642904\n"
     ]
    }
   ],
   "source": [
    "# spent amount evenly across outputs.\n",
    "expr 16429048 / 10"
   ]
  },
  {
   "cell_type": "markdown",
   "metadata": {},
   "source": [
    "### 2.3 Construct transaction template for signing.\n",
    "\n",
    "* `sequence: 0xffffffff(hex)/4294967295(dec)`"
   ]
  },
  {
   "cell_type": "code",
   "execution_count": 127,
   "metadata": {},
   "outputs": [
    {
     "name": "stdout",
     "output_type": "stream",
     "text": [
      "01000000012f3354425444e337a2fa83c928babcc14e050d15e5094b2be45627bbe63afeba0100000000ffffffff0a98111900000000001976a914704a1961dab16d12dd19e38d77e8026fa8f7c73c88ac98111900000000001976a914704a1961dab16d12dd19e38d77e8026fa8f7c73c88ac98111900000000001976a914704a1961dab16d12dd19e38d77e8026fa8f7c73c88ac98111900000000001976a914704a1961dab16d12dd19e38d77e8026fa8f7c73c88ac98111900000000001976a914704a1961dab16d12dd19e38d77e8026fa8f7c73c88ac98111900000000001976a914704a1961dab16d12dd19e38d77e8026fa8f7c73c88ac98111900000000001976a914704a1961dab16d12dd19e38d77e8026fa8f7c73c88ac98111900000000001976a914704a1961dab16d12dd19e38d77e8026fa8f7c73c88ac98111900000000001976a914704a1961dab16d12dd19e38d77e8026fa8f7c73c88ac98111900000000001976a914704a1961dab16d12dd19e38d77e8026fa8f7c73c88ac00000000\n"
     ]
    }
   ],
   "source": [
    "# bx tx-encode \\\n",
    "# --input [previous tx id]:[index]:[sequence] \\\n",
    "# --output [output script]:[output amount]\n",
    "\n",
    "bx tx-encode \\\n",
    "--input bafe3ae6bb2756e42b4b09e5150d054ec1bcba28c983faa237e344544254332f:1:4294967295 \\\n",
    "--output 76a914704a1961dab16d12dd19e38d77e8026fa8f7c73c88ac:1642904 \\\n",
    "--output 76a914704a1961dab16d12dd19e38d77e8026fa8f7c73c88ac:1642904 \\\n",
    "--output 76a914704a1961dab16d12dd19e38d77e8026fa8f7c73c88ac:1642904 \\\n",
    "--output 76a914704a1961dab16d12dd19e38d77e8026fa8f7c73c88ac:1642904 \\\n",
    "--output 76a914704a1961dab16d12dd19e38d77e8026fa8f7c73c88ac:1642904 \\\n",
    "--output 76a914704a1961dab16d12dd19e38d77e8026fa8f7c73c88ac:1642904 \\\n",
    "--output 76a914704a1961dab16d12dd19e38d77e8026fa8f7c73c88ac:1642904 \\\n",
    "--output 76a914704a1961dab16d12dd19e38d77e8026fa8f7c73c88ac:1642904 \\\n",
    "--output 76a914704a1961dab16d12dd19e38d77e8026fa8f7c73c88ac:1642904 \\\n",
    "--output 76a914704a1961dab16d12dd19e38d77e8026fa8f7c73c88ac:1642904 \n"
   ]
  },
  {
   "cell_type": "markdown",
   "metadata": {},
   "source": [
    "### 2.4 Sign transaction template.\n",
    "\n",
    "* `bx fetch-tx` previous output script\n",
    "* `bx input-sign` `[private key]` `[\"previous output script\"]` `[encoded transaction]`\n",
    "    * Outputs DER encoded signature"
   ]
  },
  {
   "cell_type": "markdown",
   "metadata": {},
   "source": [
    "**Fetch previous output script**"
   ]
  },
  {
   "cell_type": "code",
   "execution_count": 128,
   "metadata": {},
   "outputs": [
    {
     "name": "stdout",
     "output_type": "stream",
     "text": [
      "\u001b[0;32m\"dup hash160 [704a1961dab16d12dd19e38d77e8026fa8f7c73c] equalverify checksig\"\u001b[0m\n"
     ]
    }
   ],
   "source": [
    "# bx fetch-tx --format json [previous tx id] \n",
    "bx fetch-tx --format json bafe3ae6bb2756e42b4b09e5150d054ec1bcba28c983faa237e344544254332f \\\n",
    "| jq \".transaction.outputs[1].script\"\n"
   ]
  },
  {
   "cell_type": "markdown",
   "metadata": {},
   "source": [
    "**Sign transaction with previous output script**"
   ]
  },
  {
   "cell_type": "code",
   "execution_count": 137,
   "metadata": {},
   "outputs": [
    {
     "name": "stdout",
     "output_type": "stream",
     "text": [
      "30440220547f91e01772bf0069d5b8fdfeb851c173124292eac2201437d025a8032ffc6502201b132d8c9cb24fdbbe8db51f944bab85b0681401a356e2623ddc333c30c5bc0501\n"
     ]
    }
   ],
   "source": [
    "# bx input-sign [private key] \"previous output script\" [transaction template]\n",
    "\n",
    "bx input-sign --sign_type all --index 0 \\\n",
    "75796aa57a30d3743e8e1070663f72e0f5a5666b0b7b8f780682851799659f77 \\\n",
    "\"dup hash160 [704a1961dab16d12dd19e38d77e8026fa8f7c73c] equalverify checksig\" \\\n",
    "01000000012f3354425444e337a2fa83c928babcc14e050d15e5094b2be45627bbe63afeba0100000000ffffffff0a98111900000000001976a914704a1961dab16d12dd19e38d77e8026fa8f7c73c88ac98111900000000001976a914704a1961dab16d12dd19e38d77e8026fa8f7c73c88ac98111900000000001976a914704a1961dab16d12dd19e38d77e8026fa8f7c73c88ac98111900000000001976a914704a1961dab16d12dd19e38d77e8026fa8f7c73c88ac98111900000000001976a914704a1961dab16d12dd19e38d77e8026fa8f7c73c88ac98111900000000001976a914704a1961dab16d12dd19e38d77e8026fa8f7c73c88ac98111900000000001976a914704a1961dab16d12dd19e38d77e8026fa8f7c73c88ac98111900000000001976a914704a1961dab16d12dd19e38d77e8026fa8f7c73c88ac98111900000000001976a914704a1961dab16d12dd19e38d77e8026fa8f7c73c88ac98111900000000001976a914704a1961dab16d12dd19e38d77e8026fa8f7c73c88ac00000000\n"
   ]
  },
  {
   "cell_type": "markdown",
   "metadata": {},
   "source": [
    "**Set the input script into the finalised transaction**\n",
    "* Finalise input script with signature:\n",
    "* Input script: `[signature] [public key point]`\n",
    "* ....which unlocks P2PKH script: `\"dup hash160 [hash160(public key)] equalverify checksig\"`"
   ]
  },
  {
   "cell_type": "code",
   "execution_count": 138,
   "metadata": {},
   "outputs": [
    {
     "name": "stdout",
     "output_type": "stream",
     "text": [
      "01000000012f3354425444e337a2fa83c928babcc14e050d15e5094b2be45627bbe63afeba010000006a4730440220547f91e01772bf0069d5b8fdfeb851c173124292eac2201437d025a8032ffc6502201b132d8c9cb24fdbbe8db51f944bab85b0681401a356e2623ddc333c30c5bc05012103cdbe1ad1dc4873dd34a0c81a4ce955451da1a53ef0680a3ff30727faefc1ea2cffffffff0a98111900000000001976a914704a1961dab16d12dd19e38d77e8026fa8f7c73c88ac98111900000000001976a914704a1961dab16d12dd19e38d77e8026fa8f7c73c88ac98111900000000001976a914704a1961dab16d12dd19e38d77e8026fa8f7c73c88ac98111900000000001976a914704a1961dab16d12dd19e38d77e8026fa8f7c73c88ac98111900000000001976a914704a1961dab16d12dd19e38d77e8026fa8f7c73c88ac98111900000000001976a914704a1961dab16d12dd19e38d77e8026fa8f7c73c88ac98111900000000001976a914704a1961dab16d12dd19e38d77e8026fa8f7c73c88ac98111900000000001976a914704a1961dab16d12dd19e38d77e8026fa8f7c73c88ac98111900000000001976a914704a1961dab16d12dd19e38d77e8026fa8f7c73c88ac98111900000000001976a914704a1961dab16d12dd19e38d77e8026fa8f7c73c88ac00000000\n"
     ]
    }
   ],
   "source": [
    "# bx input-set \"[signature] [public key point]\" [transaction template]\n",
    "\n",
    "bx input-set \\\n",
    "\"[30440220547f91e01772bf0069d5b8fdfeb851c173124292eac2201437d025a8032ffc6502201b132d8c9cb24fdbbe8db51f944bab85b0681401a356e2623ddc333c30c5bc0501] [03cdbe1ad1dc4873dd34a0c81a4ce955451da1a53ef0680a3ff30727faefc1ea2c]\" \\\n",
    "01000000012f3354425444e337a2fa83c928babcc14e050d15e5094b2be45627bbe63afeba0100000000ffffffff0a98111900000000001976a914704a1961dab16d12dd19e38d77e8026fa8f7c73c88ac98111900000000001976a914704a1961dab16d12dd19e38d77e8026fa8f7c73c88ac98111900000000001976a914704a1961dab16d12dd19e38d77e8026fa8f7c73c88ac98111900000000001976a914704a1961dab16d12dd19e38d77e8026fa8f7c73c88ac98111900000000001976a914704a1961dab16d12dd19e38d77e8026fa8f7c73c88ac98111900000000001976a914704a1961dab16d12dd19e38d77e8026fa8f7c73c88ac98111900000000001976a914704a1961dab16d12dd19e38d77e8026fa8f7c73c88ac98111900000000001976a914704a1961dab16d12dd19e38d77e8026fa8f7c73c88ac98111900000000001976a914704a1961dab16d12dd19e38d77e8026fa8f7c73c88ac98111900000000001976a914704a1961dab16d12dd19e38d77e8026fa8f7c73c88ac00000000\n"
   ]
  },
  {
   "cell_type": "markdown",
   "metadata": {},
   "source": [
    "### 3. Validate & Broadcast the endorsed transaction"
   ]
  },
  {
   "cell_type": "code",
   "execution_count": 1,
   "metadata": {},
   "outputs": [
    {
     "name": "stdout",
     "output_type": "stream",
     "text": [
      "matching transaction with unspent outputs\n"
     ]
    },
    {
     "ename": "",
     "evalue": "255",
     "output_type": "error",
     "traceback": []
    }
   ],
   "source": [
    "bx validate-tx \\\n",
    "01000000012f3354425444e337a2fa83c928babcc14e050d15e5094b2be45627bbe63afeba010000006a4730440220547f91e01772bf0069d5b8fdfeb851c173124292eac2201437d025a8032ffc6502201b132d8c9cb24fdbbe8db51f944bab85b0681401a356e2623ddc333c30c5bc05012103cdbe1ad1dc4873dd34a0c81a4ce955451da1a53ef0680a3ff30727faefc1ea2cffffffff0a98111900000000001976a914704a1961dab16d12dd19e38d77e8026fa8f7c73c88ac98111900000000001976a914704a1961dab16d12dd19e38d77e8026fa8f7c73c88ac98111900000000001976a914704a1961dab16d12dd19e38d77e8026fa8f7c73c88ac98111900000000001976a914704a1961dab16d12dd19e38d77e8026fa8f7c73c88ac98111900000000001976a914704a1961dab16d12dd19e38d77e8026fa8f7c73c88ac98111900000000001976a914704a1961dab16d12dd19e38d77e8026fa8f7c73c88ac98111900000000001976a914704a1961dab16d12dd19e38d77e8026fa8f7c73c88ac98111900000000001976a914704a1961dab16d12dd19e38d77e8026fa8f7c73c88ac98111900000000001976a914704a1961dab16d12dd19e38d77e8026fa8f7c73c88ac98111900000000001976a914704a1961dab16d12dd19e38d77e8026fa8f7c73c88ac00000000\n"
   ]
  },
  {
   "cell_type": "code",
   "execution_count": 132,
   "metadata": {},
   "outputs": [
    {
     "name": "stdout",
     "output_type": "stream",
     "text": [
      "Sent transaction.\n"
     ]
    }
   ],
   "source": [
    "bx send-tx \\\n",
    "01000000012f3354425444e337a2fa83c928babcc14e050d15e5094b2be45627bbe63afeba010000006a4730440220547f91e01772bf0069d5b8fdfeb851c173124292eac2201437d025a8032ffc6502201b132d8c9cb24fdbbe8db51f944bab85b0681401a356e2623ddc333c30c5bc05012103cdbe1ad1dc4873dd34a0c81a4ce955451da1a53ef0680a3ff30727faefc1ea2cffffffff0a98111900000000001976a914704a1961dab16d12dd19e38d77e8026fa8f7c73c88ac98111900000000001976a914704a1961dab16d12dd19e38d77e8026fa8f7c73c88ac98111900000000001976a914704a1961dab16d12dd19e38d77e8026fa8f7c73c88ac98111900000000001976a914704a1961dab16d12dd19e38d77e8026fa8f7c73c88ac98111900000000001976a914704a1961dab16d12dd19e38d77e8026fa8f7c73c88ac98111900000000001976a914704a1961dab16d12dd19e38d77e8026fa8f7c73c88ac98111900000000001976a914704a1961dab16d12dd19e38d77e8026fa8f7c73c88ac98111900000000001976a914704a1961dab16d12dd19e38d77e8026fa8f7c73c88ac98111900000000001976a914704a1961dab16d12dd19e38d77e8026fa8f7c73c88ac98111900000000001976a914704a1961dab16d12dd19e38d77e8026fa8f7c73c88ac00000000\n"
   ]
  },
  {
   "cell_type": "code",
   "execution_count": 1,
   "metadata": {},
   "outputs": [
    {
     "name": "stdout",
     "output_type": "stream",
     "text": [
      "56ab5a0ad12e1e5877c61f273749ff00538de9e05c0e1bb7db3e366b01bff8e4\n"
     ]
    }
   ],
   "source": [
    "# bx bitcoin256 [tx data]\n",
    "bx bitcoin256 01000000012f3354425444e337a2fa83c928babcc14e050d15e5094b2be45627bbe63afeba010000006a4730440220547f91e01772bf0069d5b8fdfeb851c173124292eac2201437d025a8032ffc6502201b132d8c9cb24fdbbe8db51f944bab85b0681401a356e2623ddc333c30c5bc05012103cdbe1ad1dc4873dd34a0c81a4ce955451da1a53ef0680a3ff30727faefc1ea2cffffffff0a98111900000000001976a914704a1961dab16d12dd19e38d77e8026fa8f7c73c88ac98111900000000001976a914704a1961dab16d12dd19e38d77e8026fa8f7c73c88ac98111900000000001976a914704a1961dab16d12dd19e38d77e8026fa8f7c73c88ac98111900000000001976a914704a1961dab16d12dd19e38d77e8026fa8f7c73c88ac98111900000000001976a914704a1961dab16d12dd19e38d77e8026fa8f7c73c88ac98111900000000001976a914704a1961dab16d12dd19e38d77e8026fa8f7c73c88ac98111900000000001976a914704a1961dab16d12dd19e38d77e8026fa8f7c73c88ac98111900000000001976a914704a1961dab16d12dd19e38d77e8026fa8f7c73c88ac98111900000000001976a914704a1961dab16d12dd19e38d77e8026fa8f7c73c88ac98111900000000001976a914704a1961dab16d12dd19e38d77e8026fa8f7c73c88ac00000000\n"
   ]
  },
  {
   "cell_type": "code",
   "execution_count": null,
   "metadata": {},
   "outputs": [],
   "source": []
  }
 ],
 "metadata": {
  "kernelspec": {
   "display_name": "Bash",
   "language": "bash",
   "name": "bash"
  },
  "language_info": {
   "codemirror_mode": "shell",
   "file_extension": ".sh",
   "mimetype": "text/x-sh",
   "name": "bash"
  }
 },
 "nbformat": 4,
 "nbformat_minor": 2
}
