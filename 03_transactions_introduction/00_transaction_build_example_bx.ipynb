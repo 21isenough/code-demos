{
 "cells": [
  {
   "cell_type": "markdown",
   "metadata": {},
   "source": [
    "# Transaction Build - BX Example\n",
    "In this BX tutorial, we construct a transaction which spends one P2PKH output to six other outputs.\n",
    "\n",
    "<img src=\"images/first_transaction.jpg\" alt=\"drawing\" style=\"\" width=\"700px\"/>\n",
    "\n"
   ]
  },
  {
   "cell_type": "markdown",
   "metadata": {},
   "source": [
    "<hr style=\"border: 0.5px dashed #000;\">\n",
    "\n",
    "## 1. Setup wallet and test funds.\n",
    "\n",
    "We will be spending from a funded testnet address to other testnet address derived from the same hd-wallet, so that we can reuse these coins in later exercises. For simplicity purposes, we will derive all keys from the same mnemonic word list generated here."
   ]
  },
  {
   "cell_type": "markdown",
   "metadata": {},
   "source": [
    "### Generate mnemonic and hd master keys."
   ]
  },
  {
   "cell_type": "code",
   "execution_count": null,
   "metadata": {},
   "outputs": [],
   "source": [
    "bx seed | bx ec-new"
   ]
  },
  {
   "cell_type": "code",
   "execution_count": null,
   "metadata": {},
   "outputs": [],
   "source": [
    "bx seed --bit_length 128 | bx mnemonic-new --language en"
   ]
  },
  {
   "cell_type": "code",
   "execution_count": null,
   "metadata": {},
   "outputs": [],
   "source": [
    "my_mnemonic=\"amount right cheese defy click eight slight strategy replace earn simple labor\"\n",
    "hd_master_private=$(bx mnemonic-to-seed $my_mnemonic | bx hd-new)\n",
    "hd_master_public=$(bx hd-to-public $hd_master_private)\n"
   ]
  },
  {
   "cell_type": "markdown",
   "metadata": {},
   "source": [
    "### Generate spending key `m/44'/1'/0'/0/0`.\n"
   ]
  },
  {
   "cell_type": "code",
   "execution_count": null,
   "metadata": {},
   "outputs": [],
   "source": [
    "# We will send funds to keys from account 0.\n",
    "\n",
    "# Account 0 receiving parent: m/44'/1'/0'/0\n",
    "hd_m_44h_1h_0h_0=$(bx hd-private --hard --index 44 $hd_master_private \\\n",
    "| bx hd-private --hard --index 1  \\\n",
    "| bx hd-private --hard --index 0  \\\n",
    "| bx hd-private --index 0)\n",
    "\n",
    "# Test funds will be sent from: m/44'/1'/0'/0/0\n",
    "hd_m_44h_1h_0h_0_0=$(bx hd-private --index 0 $hd_m_44h_1h_0h_0)\n",
    "privatekey_44h_1h_0h_0_0=$(bx hd-to-ec $hd_m_44h_1h_0h_0_0)\n",
    "publickey_44h_1h_0h_0_0=$(bx hd-to-public $hd_m_44h_1h_0h_0_0 | bx hd-to-ec)\n",
    "publickeyhash_44h_1h_0h_0_0=$(bx sha256 $publickey_44h_1h_0h_0_0 | bx ripemd160)\n",
    "address_44h_1h_0h_0_0=$(bx hd-to-public $hd_m_44h_1h_0h_0_0 | bx hd-to-ec | bx ec-to-address --version 111)\n",
    "\n",
    "echo $address_44h_1h_0h_0_0\n",
    "echo $publickeyhash_44h_1h_0h_0_0\n"
   ]
  },
  {
   "cell_type": "markdown",
   "metadata": {},
   "source": [
    "### Send test coins funds to keys ( `/44'/1'/0'/0/0` ) you will be spending from.\n",
    "Note your spendable p2pkh UXTO's below..."
   ]
  },
  {
   "cell_type": "code",
   "execution_count": 5,
   "metadata": {},
   "outputs": [],
   "source": [
    "previous_txid=bc58d14fefb5a0f2de565cfa184175e9fc9a584bdb9c4b1deba6965580e0c33c\n",
    "previous_output_index=1\n",
    "previous_output_amount=11790043\n"
   ]
  },
  {
   "cell_type": "markdown",
   "metadata": {},
   "source": [
    "### Generate destination key pairs.\n",
    "\n",
    "We will spend the outputs sent to these addresses in later examples & exercises.<br>\n",
    "We need to derive public key hash for the respective output script.\n"
   ]
  },
  {
   "cell_type": "code",
   "execution_count": 21,
   "metadata": {},
   "outputs": [],
   "source": [
    "# We will send funds to keys in account 1.\n",
    "\n",
    "# Account 1 receiving parent: m/44'/1'/1'/0\n",
    "hd_m_44h_1h_1h_0=$(bx hd-private --hard --index 44 $hd_master_private \\\n",
    "| bx hd-private --hard --index 1  \\\n",
    "| bx hd-private --hard --index 1  \\\n",
    "| bx hd-private --index 0)\n",
    "\n",
    "hd_m_44h_1h_1h_0_1=$(bx hd-private --index 1 $hd_m_44h_1h_1h_0)\n",
    "publickeyhash_44h_1h_1h_0_1=$(bx hd-to-public $hd_m_44h_1h_1h_0_1 | bx hd-to-ec | bx sha256 | bx ripemd160)\n",
    "\n",
    "hd_m_44h_1h_1h_0_2=$(bx hd-private --index 2 $hd_m_44h_1h_1h_0)\n",
    "publickeyhash_44h_1h_1h_0_2=$(bx hd-to-public $hd_m_44h_1h_1h_0_2 | bx hd-to-ec | bx sha256 | bx ripemd160)\n",
    "\n",
    "hd_m_44h_1h_1h_0_3=$(bx hd-private --index 3 $hd_m_44h_1h_1h_0)\n",
    "publickeyhash_44h_1h_1h_0_3=$(bx hd-to-public $hd_m_44h_1h_1h_0_3 | bx hd-to-ec | bx sha256 | bx ripemd160)\n",
    "\n",
    "hd_m_44h_1h_1h_0_4=$(bx hd-private --index 4 $hd_m_44h_1h_1h_0)\n",
    "publickeyhash_44h_1h_1h_0_4=$(bx hd-to-public $hd_m_44h_1h_1h_0_4 | bx hd-to-ec | bx sha256 | bx ripemd160)\n",
    "\n",
    "hd_m_44h_1h_1h_0_5=$(bx hd-private --index 5 $hd_m_44h_1h_1h_0)\n",
    "publickeyhash_44h_1h_1h_0_5=$(bx hd-to-public $hd_m_44h_1h_1h_0_5 | bx hd-to-ec | bx sha256 | bx ripemd160)\n",
    "\n",
    "hd_m_44h_1h_1h_0_6=$(bx hd-private --index 6 $hd_m_44h_1h_1h_0)\n",
    "publickeyhash_44h_1h_1h_0_6=$(bx hd-to-public $hd_m_44h_1h_1h_0_6 | bx hd-to-ec | bx sha256 | bx ripemd160)\n"
   ]
  },
  {
   "cell_type": "markdown",
   "metadata": {},
   "source": [
    "## 2. Spending a P2PKH output."
   ]
  },
  {
   "cell_type": "markdown",
   "metadata": {},
   "source": [
    "### Create output scripts."
   ]
  },
  {
   "cell_type": "markdown",
   "metadata": {},
   "source": [
    "* **Compose P2PKH(destination public key hash) output scripts for each destination.**"
   ]
  },
  {
   "cell_type": "code",
   "execution_count": 9,
   "metadata": {},
   "outputs": [
    {
     "name": "stdout",
     "output_type": "stream",
     "text": [
      "76a9145f77593cbeae0845c6843cc05d9cfb1b8d959de588ac\n"
     ]
    }
   ],
   "source": [
    "# bx script-encode \"DUP HASH160 [public key hash] EQUALVERIFY CHECKSIG\"\n",
    "output_script1=$(bx script-encode \"DUP HASH160 [\"$publickeyhash_44h_1h_1h_0_1\"] EQUALVERIFY CHECKSIG\")\n",
    "output_script2=$(bx script-encode \"DUP HASH160 [\"$publickeyhash_44h_1h_1h_0_2\"] EQUALVERIFY CHECKSIG\")\n",
    "output_script3=$(bx script-encode \"DUP HASH160 [\"$publickeyhash_44h_1h_1h_0_3\"] EQUALVERIFY CHECKSIG\")\n",
    "output_script4=$(bx script-encode \"DUP HASH160 [\"$publickeyhash_44h_1h_1h_0_4\"] EQUALVERIFY CHECKSIG\")\n",
    "output_script5=$(bx script-encode \"DUP HASH160 [\"$publickeyhash_44h_1h_1h_0_5\"] EQUALVERIFY CHECKSIG\")\n",
    "output_script6=$(bx script-encode \"DUP HASH160 [\"$publickeyhash_44h_1h_1h_0_6\"] EQUALVERIFY CHECKSIG\")\n",
    "echo $output_script6\n"
   ]
  },
  {
   "cell_type": "markdown",
   "metadata": {},
   "source": [
    "### Compute output amount(s).\n",
    "\n",
    "* **Subtract minimum fee, which consists of:**\n",
    "    * Example minimum fee levels: `100 sat / sigop + 1 sat / byte`\n",
    "    * This is node policy. \n",
    "\n",
    "\n",
    "* **Transaction sigop count computation:**\n",
    "    * Counted as 1 sigop: `checksig`,`checksigverify`\n",
    "    * Counted as 20 sigops: `checkmultisig`, `checkmultisigverify`\n",
    "    * *Non-segwit:*\n",
    "        * Transaction sigop count is multiplied by 4x.\n",
    "        * Output vs Input sigops: \n",
    "            * All sigops in the output script are counted.\n",
    "            * P2SH Redeemscript input sigops are counted.\n",
    "      "
   ]
  },
  {
   "cell_type": "code",
   "execution_count": null,
   "metadata": {},
   "outputs": [],
   "source": [
    "# Sigops: 6 outputs, so total of 6 sigops.\n",
    "# tx bytes: 4 + 1 + 1*(32+4+110+4) + 1 + 6*(8+33) + 4 \n",
    "tx_byte_count=$(expr 4 + 1 + 1 \\* 150 + 1 + 6 \\* 41 + 4)\n",
    "echo $tx_byte_count\n"
   ]
  },
  {
   "cell_type": "code",
   "execution_count": 13,
   "metadata": {},
   "outputs": [],
   "source": [
    "# Output amount total.\n",
    "tx_total_output_amount=$(expr $previous_output_amount - 6 \\* 400 - $tx_byte_count \\* 1)\n"
   ]
  },
  {
   "cell_type": "code",
   "execution_count": 14,
   "metadata": {},
   "outputs": [
    {
     "name": "stdout",
     "output_type": "stream",
     "text": [
      "1964541\n"
     ]
    }
   ],
   "source": [
    "# spent amount evenly across outputs.\n",
    "single_output_amount=$(expr $tx_total_output_amount / 6)\n",
    "echo $single_output_amount\n"
   ]
  },
  {
   "cell_type": "markdown",
   "metadata": {},
   "source": [
    "### Construct transaction template for signing.\n",
    "\n",
    "* `sequence: 0xffffffff(hex)/4294967295(dec)`"
   ]
  },
  {
   "cell_type": "code",
   "execution_count": null,
   "metadata": {},
   "outputs": [],
   "source": [
    "# bx tx-encode \\\n",
    "# --input [previous tx id]:[index]:[sequence] \\\n",
    "# --output [output script]:[output amount]\n",
    "\n",
    "my_tx=$(bx tx-encode \\\n",
    "--input $previous_txid:$previous_output_index:4294967295 \\\n",
    "--output $output_script1:$single_output_amount \\\n",
    "--output $output_script2:$single_output_amount \\\n",
    "--output $output_script3:$single_output_amount \\\n",
    "--output $output_script4:$single_output_amount \\\n",
    "--output $output_script5:$single_output_amount \\\n",
    "--output $output_script6:$single_output_amount)\n"
   ]
  },
  {
   "cell_type": "markdown",
   "metadata": {},
   "source": [
    "### Sign transaction."
   ]
  },
  {
   "cell_type": "markdown",
   "metadata": {},
   "source": [
    "**Fetch previous output script**"
   ]
  },
  {
   "cell_type": "code",
   "execution_count": 16,
   "metadata": {},
   "outputs": [
    {
     "name": "stdout",
     "output_type": "stream",
     "text": [
      "dup hash160 [e48199d47742b245464b1366d95ef26aa4c8bb2c] equalverify checksig\n"
     ]
    }
   ],
   "source": [
    "# bx fetch-tx --format json [previous tx id] \n",
    "previous_output_script=$(bx fetch-tx --format json $previous_txid \\\n",
    "| jq -r \".transaction.outputs[1].script\")\n",
    "\n",
    "echo $previous_output_script"
   ]
  },
  {
   "cell_type": "markdown",
   "metadata": {},
   "source": [
    "**Sign transaction with previous output script.**"
   ]
  },
  {
   "cell_type": "code",
   "execution_count": 17,
   "metadata": {},
   "outputs": [],
   "source": [
    "# bx input-sign [private key] \"previous output script\" [transaction template]\n",
    "signature=$(bx input-sign --sign_type all --index 0 $privatekey_44h_1h_0h_0_0 \"$previous_output_script\" $my_tx)\n"
   ]
  },
  {
   "cell_type": "markdown",
   "metadata": {},
   "source": [
    "**Set the input script into the finalised transaction.**"
   ]
  },
  {
   "cell_type": "code",
   "execution_count": null,
   "metadata": {},
   "outputs": [],
   "source": [
    "# bx input-set \"[signature] [public key point]\" [transaction template]\n",
    "\n",
    "my_tx=$(bx input-set --index 0 \"[$signature] [$publickey_44h_1h_0h_0_0]\" $my_tx)\n"
   ]
  },
  {
   "cell_type": "markdown",
   "metadata": {},
   "source": [
    "## 3. Validate & Broadcast the endorsed transaction"
   ]
  },
  {
   "cell_type": "code",
   "execution_count": 24,
   "metadata": {},
   "outputs": [
    {
     "name": "stdout",
     "output_type": "stream",
     "text": [
      "The transaction is valid.\n"
     ]
    }
   ],
   "source": [
    "bx validate-tx $my_tx"
   ]
  },
  {
   "cell_type": "code",
   "execution_count": 25,
   "metadata": {},
   "outputs": [
    {
     "name": "stdout",
     "output_type": "stream",
     "text": [
      "Sent transaction.\n"
     ]
    }
   ],
   "source": [
    "bx send-tx $my_tx"
   ]
  },
  {
   "cell_type": "code",
   "execution_count": 26,
   "metadata": {},
   "outputs": [
    {
     "name": "stdout",
     "output_type": "stream",
     "text": [
      "d4e68f7e163de4c31c6d4d75a38daa015a968371c1a94e2a182e29002235a168\n"
     ]
    }
   ],
   "source": [
    "# bx bitcoin256 [tx data]\n",
    "bx bitcoin256 $my_tx\n"
   ]
  }
 ],
 "metadata": {
  "kernelspec": {
   "display_name": "Bash",
   "language": "bash",
   "name": "bash"
  },
  "language_info": {
   "codemirror_mode": "shell",
   "file_extension": ".sh",
   "mimetype": "text/x-sh",
   "name": "bash"
  }
 },
 "nbformat": 4,
 "nbformat_minor": 2
}
