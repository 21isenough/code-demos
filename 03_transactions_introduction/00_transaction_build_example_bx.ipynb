{
 "cells": [
  {
   "cell_type": "markdown",
   "metadata": {},
   "source": [
    "# Transaction Build - BX Example\n",
    "In this BX tutorial, we construct a transaction which spends one P2PKH output to six other outputs.\n",
    "\n",
    "<img src=\"images/first_transaction.jpg\" alt=\"drawing\" style=\"\" width=\"700px\"/>\n",
    "\n"
   ]
  },
  {
   "cell_type": "markdown",
   "metadata": {},
   "source": [
    "<hr style=\"border: 0.5px dashed #000;\">\n",
    "\n",
    "## 1. Setup wallet and test funds.\n"
   ]
  },
  {
   "cell_type": "markdown",
   "metadata": {},
   "source": [
    "### Generate mnemonic and hd master keys."
   ]
  },
  {
   "cell_type": "code",
   "execution_count": null,
   "metadata": {},
   "outputs": [],
   "source": [
    "bx seed | bx ec-new"
   ]
  },
  {
   "cell_type": "code",
   "execution_count": null,
   "metadata": {},
   "outputs": [],
   "source": [
    "bx seed --bit_length 128 | bx mnemonic-new --language en"
   ]
  },
  {
   "cell_type": "code",
   "execution_count": 12,
   "metadata": {},
   "outputs": [],
   "source": [
    "my_mnemonic=\"amount right cheese defy click eight slight strategy replace earn simple labor\"\n",
    "hd_master_private=$(bx mnemonic-to-seed $my_mnemonic | bx hd-new)\n",
    "hd_master_public=$(bx hd-to-public $hd_master_private)\n"
   ]
  },
  {
   "cell_type": "markdown",
   "metadata": {},
   "source": [
    "### Account 0: Generate spending key `m/44'/1'/0'/0/0`.\n",
    "\n",
    "You will receive testnet coins at the first receiving address of `account 0`. \n"
   ]
  },
  {
   "cell_type": "code",
   "execution_count": 13,
   "metadata": {},
   "outputs": [
    {
     "name": "stdout",
     "output_type": "stream",
     "text": [
      "n2MBcctgzBt1h8Nvfu3XAEPJLrmWET7emw\n",
      "e48199d47742b245464b1366d95ef26aa4c8bb2c\n"
     ]
    }
   ],
   "source": [
    "# We will send funds to keys from account 0.\n",
    "\n",
    "# Account 0 receiving parent: m/44'/1'/0'/0\n",
    "hd_m_44h_1h_0h_0=$(bx hd-private --hard --index 44 $hd_master_private \\\n",
    "| bx hd-private --hard --index 1  \\\n",
    "| bx hd-private --hard --index 0  \\\n",
    "| bx hd-private --index 0)\n",
    "\n",
    "# Test funds will be sent from: m/44'/1'/0'/0/0\n",
    "hd_m_44h_1h_0h_0_0=$(bx hd-private --index 0 $hd_m_44h_1h_0h_0)\n",
    "privatekey_44h_1h_0h_0_0=$(bx hd-to-ec $hd_m_44h_1h_0h_0_0)\n",
    "publickey_44h_1h_0h_0_0=$(bx hd-to-public $hd_m_44h_1h_0h_0_0 | bx hd-to-ec)\n",
    "publickeyhash_44h_1h_0h_0_0=$(bx sha256 $publickey_44h_1h_0h_0_0 | bx ripemd160)\n",
    "address_44h_1h_0h_0_0=$(bx hd-to-public $hd_m_44h_1h_0h_0_0 | bx hd-to-ec | bx ec-to-address --version 111)\n",
    "\n",
    "echo $address_44h_1h_0h_0_0\n",
    "echo $publickeyhash_44h_1h_0h_0_0\n"
   ]
  },
  {
   "cell_type": "markdown",
   "metadata": {},
   "source": [
    "### Send test coins funds to keys ( `/44'/1'/0'/0/0` ) you will be spending from.\n"
   ]
  },
  {
   "cell_type": "markdown",
   "metadata": {},
   "source": [
    "Check the receipt of the testnet coins..."
   ]
  },
  {
   "cell_type": "code",
   "execution_count": null,
   "metadata": {},
   "outputs": [],
   "source": [
    "bx fetch-history n2MBcctgzBt1h8Nvfu3XAEPJLrmWET7emw"
   ]
  },
  {
   "cell_type": "markdown",
   "metadata": {},
   "source": [
    "Note your spendable p2pkh UXTO's below..."
   ]
  },
  {
   "cell_type": "code",
   "execution_count": 15,
   "metadata": {},
   "outputs": [],
   "source": [
    "previous_txid=b5dc782ef229bf47aa6f84cc0995bc4da25685a52931bea7af356439363e0061\n",
    "previous_output_index=1\n",
    "previous_output_amount=5000000\n"
   ]
  },
  {
   "cell_type": "markdown",
   "metadata": {},
   "source": [
    "### Account 1: Generate destination key pairs.\n",
    "\n",
    "You will spend the previously received utxo to receiving addresses from `account 1`, namely `/44'/1'/1'/0/0`, `/44'/1'/1'/0/1`, `/44'/1'/1'/0/2`, `/44'/1'/1'/0/3` ...\n"
   ]
  },
  {
   "cell_type": "code",
   "execution_count": 16,
   "metadata": {},
   "outputs": [],
   "source": [
    "# We will send funds to keys in account 1.\n",
    "\n",
    "# Account 1 receiving parent: m/44'/1'/1'/0\n",
    "hd_m_44h_1h_1h_0=$(bx hd-private --hard --index 44 $hd_master_private \\\n",
    "| bx hd-private --hard --index 1  \\\n",
    "| bx hd-private --hard --index 1  \\\n",
    "| bx hd-private --index 0)\n",
    "\n",
    "hd_m_44h_1h_1h_0_0=$(bx hd-private --index 0 $hd_m_44h_1h_1h_0)\n",
    "publickeyhash_44h_1h_1h_0_0=$(bx hd-to-public $hd_m_44h_1h_1h_0_0 | bx hd-to-ec | bx sha256 | bx ripemd160)\n",
    "\n",
    "hd_m_44h_1h_1h_0_1=$(bx hd-private --index 1 $hd_m_44h_1h_1h_0)\n",
    "publickeyhash_44h_1h_1h_0_1=$(bx hd-to-public $hd_m_44h_1h_1h_0_1 | bx hd-to-ec | bx sha256 | bx ripemd160)\n",
    "\n",
    "hd_m_44h_1h_1h_0_2=$(bx hd-private --index 2 $hd_m_44h_1h_1h_0)\n",
    "publickeyhash_44h_1h_1h_0_2=$(bx hd-to-public $hd_m_44h_1h_1h_0_2 | bx hd-to-ec | bx sha256 | bx ripemd160)\n",
    "\n",
    "hd_m_44h_1h_1h_0_3=$(bx hd-private --index 3 $hd_m_44h_1h_1h_0)\n",
    "publickeyhash_44h_1h_1h_0_3=$(bx hd-to-public $hd_m_44h_1h_1h_0_3 | bx hd-to-ec | bx sha256 | bx ripemd160)\n",
    "\n",
    "hd_m_44h_1h_1h_0_4=$(bx hd-private --index 4 $hd_m_44h_1h_1h_0)\n",
    "publickeyhash_44h_1h_1h_0_4=$(bx hd-to-public $hd_m_44h_1h_1h_0_4 | bx hd-to-ec | bx sha256 | bx ripemd160)\n",
    "\n",
    "hd_m_44h_1h_1h_0_5=$(bx hd-private --index 5 $hd_m_44h_1h_1h_0)\n",
    "publickeyhash_44h_1h_1h_0_5=$(bx hd-to-public $hd_m_44h_1h_1h_0_5 | bx hd-to-ec | bx sha256 | bx ripemd160)\n",
    "\n",
    "hd_m_44h_1h_1h_0_6=$(bx hd-private --index 6 $hd_m_44h_1h_1h_0)\n",
    "publickeyhash_44h_1h_1h_0_6=$(bx hd-to-public $hd_m_44h_1h_1h_0_6 | bx hd-to-ec | bx sha256 | bx ripemd160)\n",
    "\n",
    "hd_m_44h_1h_1h_0_7=$(bx hd-private --index 7 $hd_m_44h_1h_1h_0)\n",
    "publickeyhash_44h_1h_1h_0_7=$(bx hd-to-public $hd_m_44h_1h_1h_0_7 | bx hd-to-ec | bx sha256 | bx ripemd160)\n",
    "\n",
    "hd_m_44h_1h_1h_0_8=$(bx hd-private --index 8 $hd_m_44h_1h_1h_0)\n",
    "publickeyhash_44h_1h_1h_0_8=$(bx hd-to-public $hd_m_44h_1h_1h_0_8 | bx hd-to-ec | bx sha256 | bx ripemd160)\n",
    "\n",
    "hd_m_44h_1h_1h_0_9=$(bx hd-private --index 9 $hd_m_44h_1h_1h_0)\n",
    "publickeyhash_44h_1h_1h_0_9=$(bx hd-to-public $hd_m_44h_1h_1h_0_9 | bx hd-to-ec | bx sha256 | bx ripemd160)\n"
   ]
  },
  {
   "cell_type": "code",
   "execution_count": 17,
   "metadata": {},
   "outputs": [
    {
     "name": "stdout",
     "output_type": "stream",
     "text": [
      "e48199d47742b245464b1366d95ef26aa4c8bb2c\n"
     ]
    }
   ],
   "source": [
    "var=$(bx address-decode n2MBcctgzBt1h8Nvfu3XAEPJLrmWET7emw -f json | jq \".wrapper.payload\" -r)\n",
    "echo $var"
   ]
  },
  {
   "cell_type": "markdown",
   "metadata": {},
   "source": [
    "## 2. Spending a P2PKH output."
   ]
  },
  {
   "cell_type": "code",
   "execution_count": null,
   "metadata": {},
   "outputs": [],
   "source": [
    "# TODO: Show image of spending process with BX.\n",
    "# Encode transaction with outputs, input points, version, locktime.\n"
   ]
  },
  {
   "cell_type": "markdown",
   "metadata": {},
   "source": [
    "### Create output scripts."
   ]
  },
  {
   "cell_type": "markdown",
   "metadata": {},
   "source": [
    "* **Compose P2PKH(destination public key hash) output scripts for each destination.**"
   ]
  },
  {
   "cell_type": "code",
   "execution_count": 18,
   "metadata": {},
   "outputs": [
    {
     "name": "stdout",
     "output_type": "stream",
     "text": [
      "76a914af9cb1da5f66a5f129c1efa9970145c954d8a46188ac\n"
     ]
    }
   ],
   "source": [
    "# bx script-encode \"DUP HASH160 [public key hash] EQUALVERIFY CHECKSIG\"\n",
    "output_script0=$(bx script-encode \"DUP HASH160 [\"$publickeyhash_44h_1h_1h_0_0\"] EQUALVERIFY CHECKSIG\")\n",
    "output_script1=$(bx script-encode \"DUP HASH160 [\"$publickeyhash_44h_1h_1h_0_1\"] EQUALVERIFY CHECKSIG\")\n",
    "output_script2=$(bx script-encode \"DUP HASH160 [\"$publickeyhash_44h_1h_1h_0_2\"] EQUALVERIFY CHECKSIG\")\n",
    "output_script3=$(bx script-encode \"DUP HASH160 [\"$publickeyhash_44h_1h_1h_0_3\"] EQUALVERIFY CHECKSIG\")\n",
    "output_script4=$(bx script-encode \"DUP HASH160 [\"$publickeyhash_44h_1h_1h_0_4\"] EQUALVERIFY CHECKSIG\")\n",
    "output_script5=$(bx script-encode \"DUP HASH160 [\"$publickeyhash_44h_1h_1h_0_5\"] EQUALVERIFY CHECKSIG\")\n",
    "output_script6=$(bx script-encode \"DUP HASH160 [\"$publickeyhash_44h_1h_1h_0_6\"] EQUALVERIFY CHECKSIG\")\n",
    "output_script7=$(bx script-encode \"DUP HASH160 [\"$publickeyhash_44h_1h_1h_0_7\"] EQUALVERIFY CHECKSIG\")\n",
    "output_script8=$(bx script-encode \"DUP HASH160 [\"$publickeyhash_44h_1h_1h_0_8\"] EQUALVERIFY CHECKSIG\")\n",
    "output_script9=$(bx script-encode \"DUP HASH160 [\"$publickeyhash_44h_1h_1h_0_9\"] EQUALVERIFY CHECKSIG\")\n",
    "\n",
    "echo $output_script9\n"
   ]
  },
  {
   "cell_type": "markdown",
   "metadata": {},
   "source": [
    "### Compute output amount(s).\n",
    "\n",
    "* **Subtract minimum fee, which consists of:**\n",
    "    * Example minimum fee levels: `100 sat / sigop + 1 sat / byte`\n",
    "    * This is node policy. \n",
    "\n",
    "\n",
    "* **Transaction sigop count computation:**\n",
    "    * Counted as 1 sigop: `checksig`,`checksigverify`\n",
    "    * Counted as 20 sigops: `checkmultisig`, `checkmultisigverify`\n",
    "    * *Non-segwit:*\n",
    "        * Transaction sigop count is multiplied by 4x.\n",
    "        * Output vs Input sigops: \n",
    "            * All sigops in the output script are counted.\n",
    "            * P2SH Redeemscript input sigops are counted.\n",
    "      "
   ]
  },
  {
   "cell_type": "code",
   "execution_count": 19,
   "metadata": {},
   "outputs": [
    {
     "name": "stdout",
     "output_type": "stream",
     "text": [
      "570\n"
     ]
    }
   ],
   "source": [
    "# Sigops: 10 outputs, so total of 10 sigops.\n",
    "# tx bytes: 4 + 1 + 1*(32+4+110+4) + 1 + 10*(8+33) + 4 \n",
    "tx_byte_count=$(expr 4 + 1 + 1 \\* 150 + 1 + 10 \\* 41 + 4)\n",
    "echo $tx_byte_count\n"
   ]
  },
  {
   "cell_type": "code",
   "execution_count": 20,
   "metadata": {},
   "outputs": [],
   "source": [
    "# Output amount total.\n",
    "tx_total_output_amount=$(expr $previous_output_amount - 10 \\* 400 - $tx_byte_count \\* 1)\n"
   ]
  },
  {
   "cell_type": "code",
   "execution_count": 21,
   "metadata": {},
   "outputs": [
    {
     "name": "stdout",
     "output_type": "stream",
     "text": [
      "499543\n"
     ]
    }
   ],
   "source": [
    "# spent amount evenly across outputs.\n",
    "single_output_amount=$(expr $tx_total_output_amount / 10)\n",
    "echo $single_output_amount\n"
   ]
  },
  {
   "cell_type": "markdown",
   "metadata": {},
   "source": [
    "### Construct transaction template for signing.\n",
    "\n",
    "* `sequence: 0xffffffff(hex)/4294967295(dec)`"
   ]
  },
  {
   "cell_type": "code",
   "execution_count": 22,
   "metadata": {},
   "outputs": [],
   "source": [
    "# bx tx-encode \\\n",
    "# --input [previous tx id]:[index]:[sequence] \\\n",
    "# --output [output script]:[output amount]\n",
    "\n",
    "my_tx=$(bx tx-encode \\\n",
    "--input $previous_txid:$previous_output_index:4294967295 \\\n",
    "--output $output_script0:$single_output_amount \\\n",
    "--output $output_script1:$single_output_amount \\\n",
    "--output $output_script2:$single_output_amount \\\n",
    "--output $output_script3:$single_output_amount \\\n",
    "--output $output_script4:$single_output_amount \\\n",
    "--output $output_script5:$single_output_amount \\\n",
    "--output $output_script6:$single_output_amount \\\n",
    "--output $output_script7:$single_output_amount \\\n",
    "--output $output_script8:$single_output_amount \\\n",
    "--output $output_script9:$single_output_amount)\n"
   ]
  },
  {
   "cell_type": "markdown",
   "metadata": {},
   "source": [
    "### Sign transaction."
   ]
  },
  {
   "cell_type": "markdown",
   "metadata": {},
   "source": [
    "**Fetch previous output script**"
   ]
  },
  {
   "cell_type": "code",
   "execution_count": 23,
   "metadata": {},
   "outputs": [
    {
     "name": "stdout",
     "output_type": "stream",
     "text": [
      "dup hash160 [e48199d47742b245464b1366d95ef26aa4c8bb2c] equalverify checksig\n"
     ]
    }
   ],
   "source": [
    "# bx fetch-tx --format json [previous tx id] \n",
    "previous_output_script=$(bx fetch-tx --format json $previous_txid \\\n",
    "| jq -r \".transaction.outputs[1].script\")\n",
    "\n",
    "echo $previous_output_script"
   ]
  },
  {
   "cell_type": "markdown",
   "metadata": {},
   "source": [
    "**Sign transaction with previous output script.**"
   ]
  },
  {
   "cell_type": "code",
   "execution_count": 24,
   "metadata": {},
   "outputs": [],
   "source": [
    "# bx input-sign [private key] \"previous output script\" [transaction template]\n",
    "signature=$(bx input-sign --sign_type all --index 0 $privatekey_44h_1h_0h_0_0 \"$previous_output_script\" $my_tx)\n"
   ]
  },
  {
   "cell_type": "markdown",
   "metadata": {},
   "source": [
    "**Set the input script into the finalised transaction.**"
   ]
  },
  {
   "cell_type": "code",
   "execution_count": 29,
   "metadata": {},
   "outputs": [],
   "source": [
    "# bx input-set \"[signature] [public key point]\" [transaction template]\n",
    "\n",
    "my_tx=$(bx input-set --index 0 \"[$signature] [$publickey_44h_1h_0h_0_0]\" $my_tx)\n"
   ]
  },
  {
   "cell_type": "markdown",
   "metadata": {},
   "source": [
    "## 3. Validate & Broadcast the endorsed transaction"
   ]
  },
  {
   "cell_type": "code",
   "execution_count": 26,
   "metadata": {},
   "outputs": [
    {
     "name": "stdout",
     "output_type": "stream",
     "text": [
      "The transaction is valid.\n"
     ]
    }
   ],
   "source": [
    "bx validate-tx $my_tx"
   ]
  },
  {
   "cell_type": "code",
   "execution_count": 27,
   "metadata": {},
   "outputs": [
    {
     "name": "stdout",
     "output_type": "stream",
     "text": [
      "Sent transaction.\n"
     ]
    }
   ],
   "source": [
    "bx send-tx $my_tx"
   ]
  },
  {
   "cell_type": "code",
   "execution_count": 28,
   "metadata": {},
   "outputs": [
    {
     "name": "stdout",
     "output_type": "stream",
     "text": [
      "86ad635645920497c233cc33556463fa6258ab8f9c5f7d12748a6638216e3363\n"
     ]
    }
   ],
   "source": [
    "# bx bitcoin256 [tx data]\n",
    "bx bitcoin256 $my_tx\n"
   ]
  }
 ],
 "metadata": {
  "kernelspec": {
   "display_name": "Bash",
   "language": "bash",
   "name": "bash"
  },
  "language_info": {
   "codemirror_mode": "shell",
   "file_extension": ".sh",
   "mimetype": "text/x-sh",
   "name": "bash"
  }
 },
 "nbformat": 4,
 "nbformat_minor": 2
}
