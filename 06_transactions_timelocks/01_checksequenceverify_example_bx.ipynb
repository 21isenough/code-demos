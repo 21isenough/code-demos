{
 "cells": [
  {
   "cell_type": "markdown",
   "metadata": {},
   "source": [
    "# Libbitcoin BX: Transactions with relative locktime.\n",
    "In this BX tutorial, we will send funds to a `checksequenceverify` encumbered output, and spend this after the locktime delay (which begins when the uxto is included in a block) has expired.\n",
    "<img src=\"images/csv_overview.jpg\" alt=\"drawing\" style=\"\" width=\"700px\"/>"
   ]
  },
  {
   "cell_type": "markdown",
   "metadata": {},
   "source": [
    "<hr style=\"border: 0.5px dashed #000;\">\n",
    "\n",
    "## 1) Setup wallet and test funds\n",
    "### 1.1) Generate private/public key pair\n",
    "#### 1.1.1) New private key"
   ]
  },
  {
   "cell_type": "code",
   "execution_count": null,
   "metadata": {},
   "outputs": [],
   "source": [
    "bx seed | bx ec-new"
   ]
  },
  {
   "cell_type": "markdown",
   "metadata": {},
   "source": [
    "#### 1.1.2) Save your private key"
   ]
  },
  {
   "cell_type": "code",
   "execution_count": null,
   "metadata": {},
   "outputs": [],
   "source": [
    "echo 962f3488480b23d4f85a198ba11e862ee6eebf4259af3f153a7c20084573b47c"
   ]
  },
  {
   "cell_type": "markdown",
   "metadata": {},
   "source": [
    "#### 1.1.3) Derive public key<br>"
   ]
  },
  {
   "cell_type": "code",
   "execution_count": null,
   "metadata": {},
   "outputs": [],
   "source": [
    "bx ec-to-public 962f3488480b23d4f85a198ba11e862ee6eebf4259af3f153a7c20084573b47c"
   ]
  },
  {
   "cell_type": "markdown",
   "metadata": {},
   "source": [
    "#### 1.1.4) Derive public key hash"
   ]
  },
  {
   "cell_type": "code",
   "execution_count": null,
   "metadata": {},
   "outputs": [],
   "source": [
    "bx sha256 035d2725b8a5b78f8e235a92e3acc2e426ac70889785dba7020189e88caa8a45b6 | bx ripemd160"
   ]
  },
  {
   "cell_type": "markdown",
   "metadata": {},
   "source": [
    "### 1.2) Derive testnet address\n",
    "Add version prefix for mainnet/testnet<br>\n",
    "* `6f` in hex\n",
    "* `111` in decimal\n",
    "\n",
    "And base58 encode result"
   ]
  },
  {
   "cell_type": "code",
   "execution_count": null,
   "metadata": {},
   "outputs": [],
   "source": [
    "bx wrap-encode -v 111 903d20a04087a7a843f1f6fe0dfc8ae7358e058d \\\n",
    "| bx base58-encode\n"
   ]
  },
  {
   "cell_type": "markdown",
   "metadata": {},
   "source": [
    "### 1.3) Send test coins funds to your testnet address\n",
    "Note your spendable p2pkh UXTO's below..."
   ]
  },
  {
   "cell_type": "markdown",
   "metadata": {},
   "source": [
    "* UXTO 0: \n",
    "    * TXID: `5509739eb377fc44a0c5b7a5765ab7c759f59914af76b85561671feda313af8b`<br>\n",
    "    * Index: `0`\n",
    "    * Amount: `129998350` \n",
    "    \n",
    "* UXTO 1: (spent)\n",
    "    * TXID: `6e470b4c9ac631934ebb0f5e58b3c32a6a7278840b7ec9fe0cceac1dc3f9c29d`<br>\n",
    "    * Index: `0`\n",
    "    * Amount: `130000000`\n",
    "     \n",
    "    "
   ]
  },
  {
   "cell_type": "markdown",
   "metadata": {},
   "source": [
    "<hr style=\"border: 0.5px dashed #000;\">\n",
    "\n",
    "## 2) Spending to a CSV encumbered output<br>\n",
    "<img src=\"images/spend_to_csv.jpg\" alt=\"drawing\" style=\"\" width=\"700px\"/>\n",
    "\n",
    "### 2.1) Build transaction with CSV encumbered output for signing\n",
    "\n",
    "#### 2.1.1) Determine delay in blocks\n",
    "* Encode delay value in hex (little endian)\n",
    "* `CHECKSEQUENCEVERIFY` verifies a 3-byte `[delay]` value on the stack against the spending transaction<br>\n",
    "* For a `[delay]` in blocks:\n",
    "    * Bit flag (1 << 22) is not set.\n",
    "    * First 16 bits interpreted as blocks.\n",
    "    * Little endian encoded.  "
   ]
  },
  {
   "cell_type": "code",
   "execution_count": null,
   "metadata": {},
   "outputs": [],
   "source": [
    "# A five block delay: 0x000005\n"
   ]
  },
  {
   "cell_type": "markdown",
   "metadata": {},
   "source": [
    "**Note:** Don't forget to flip byte-order (3-Bytes) above for output script below."
   ]
  },
  {
   "cell_type": "markdown",
   "metadata": {},
   "source": [
    "#### 2.1.2) Encode CSV-encumbered P2PKH output script\n",
    "* **`[delay]`**\n",
    "* **`CHECKSEQUENCEVERIFY`**\n",
    "* `DROP`\n",
    "* `DUP`\n",
    "* `HASH160`\n",
    "* `[public key hash]`\n",
    "* `EQUALVERIFY`\n",
    "* `CHECKSIG`"
   ]
  },
  {
   "cell_type": "code",
   "execution_count": null,
   "metadata": {},
   "outputs": [],
   "source": [
    "bx script-encode \\\n",
    "\"[040000] CHECKSEQUENCEVERIFY DROP DUP HASH160 [903d20a04087a7a843f1f6fe0dfc8ae7358e058d] EQUALVERIFY CHECKSIG\"\n"
   ]
  },
  {
   "cell_type": "markdown",
   "metadata": {},
   "source": [
    "#### 2.1.3) Encode output amount\n",
    "* `400 Satoshi/sigops + 1 Satoshi/Byte` \n",
    "* Output amount(s) are previous output amount(s) minus fees"
   ]
  },
  {
   "cell_type": "code",
   "execution_count": null,
   "metadata": {},
   "outputs": [],
   "source": [
    "expr 130000000 - 4 \\* 100 - 250 - 200"
   ]
  },
  {
   "cell_type": "markdown",
   "metadata": {},
   "source": [
    "#### 2.1.4) Encode transaction for signing\n",
    "* `bx tx-encode -i [prevout txid:index:sequence] -o [output script:amount]`\n"
   ]
  },
  {
   "cell_type": "code",
   "execution_count": null,
   "metadata": {},
   "outputs": [],
   "source": [
    "bx tx-encode \\\n",
    "--input 6e470b4c9ac631934ebb0f5e58b3c32a6a7278840b7ec9fe0cceac1dc3f9c29d:0 \\\n",
    "--output 03040000b27576a914903d20a04087a7a843f1f6fe0dfc8ae7358e058d88ac:129999150\n"
   ]
  },
  {
   "cell_type": "markdown",
   "metadata": {},
   "source": [
    "### 2.2) Building the input script\n",
    "\n",
    "#### 2.2.1) Signing the transaction with the private key\n",
    "* `bx fetch-tx` previous output script\n",
    "* `bx input-sign` `[private key]` `[\"previous output script\"]` `[encoded transaction]`\n",
    "    * Outputs DER encoded signature"
   ]
  },
  {
   "cell_type": "code",
   "execution_count": null,
   "metadata": {},
   "outputs": [],
   "source": [
    "bx fetch-tx -f json 6e470b4c9ac631934ebb0f5e58b3c32a6a7278840b7ec9fe0cceac1dc3f9c29d \\\n",
    "| jq \".transaction.outputs[0].script\""
   ]
  },
  {
   "cell_type": "code",
   "execution_count": null,
   "metadata": {},
   "outputs": [],
   "source": [
    "bx input-sign \\\n",
    "962f3488480b23d4f85a198ba11e862ee6eebf4259af3f153a7c20084573b47c \\\n",
    "\"dup hash160 [903d20a04087a7a843f1f6fe0dfc8ae7358e058d] equalverify checksig\" \\\n",
    "01000000019dc2f9c31dacce0cfec97e0b8478726a2ac3b3585e0fbb4e9331c69a4c0b476e0000000000ffffffff012ea1bf07000000001f03040000b27576a914903d20a04087a7a843f1f6fe0dfc8ae7358e058d88ac00000000\n"
   ]
  },
  {
   "cell_type": "markdown",
   "metadata": {},
   "source": [
    "#### 2.2.2) Set the input script into the finalised transaction\n",
    "* The input script to spend the previous p2pkh output script is `[endorsement]` `[public key]`\n",
    "* `bx input-set` `\"input script\"` `[encoded transaction]`"
   ]
  },
  {
   "cell_type": "code",
   "execution_count": null,
   "metadata": {
    "scrolled": false
   },
   "outputs": [],
   "source": [
    "bx input-set \\\n",
    "\"[3045022100e9d38f238e58b3eb4642a618e0478bde90e33e5f17749336c97d8057f1b0a3d6022070e7c2f2b9cf4f0d771889dd6488d399889408ff4985ea2def6ede808de69b7601] [035d2725b8a5b78f8e235a92e3acc2e426ac70889785dba7020189e88caa8a45b6]\" \\\n",
    "01000000019dc2f9c31dacce0cfec97e0b8478726a2ac3b3585e0fbb4e9331c69a4c0b476e0000000000ffffffff012ea1bf07000000001f03040000b27576a914903d20a04087a7a843f1f6fe0dfc8ae7358e058d88ac00000000\n"
   ]
  },
  {
   "cell_type": "markdown",
   "metadata": {},
   "source": [
    "### 2.3) Validate & Broadcast the endorsed transaction\n",
    "* `bx validate-tx` `[encoded transaction]`\n",
    "* `bx tx-decode -f json` `[encoded transaction]` | `jq \".transaction.hash\"`"
   ]
  },
  {
   "cell_type": "code",
   "execution_count": null,
   "metadata": {},
   "outputs": [],
   "source": [
    "bx validate-tx \\\n",
    "01000000019dc2f9c31dacce0cfec97e0b8478726a2ac3b3585e0fbb4e9331c69a4c0b476e000000006b483045022100e9d38f238e58b3eb4642a618e0478bde90e33e5f17749336c97d8057f1b0a3d6022070e7c2f2b9cf4f0d771889dd6488d399889408ff4985ea2def6ede808de69b760121035d2725b8a5b78f8e235a92e3acc2e426ac70889785dba7020189e88caa8a45b6ffffffff012ea1bf07000000001f03040000b27576a914903d20a04087a7a843f1f6fe0dfc8ae7358e058d88ac00000000\n"
   ]
  },
  {
   "cell_type": "code",
   "execution_count": null,
   "metadata": {},
   "outputs": [],
   "source": [
    "bx tx-decode -f json \\\n",
    "01000000019dc2f9c31dacce0cfec97e0b8478726a2ac3b3585e0fbb4e9331c69a4c0b476e000000006b483045022100e9d38f238e58b3eb4642a618e0478bde90e33e5f17749336c97d8057f1b0a3d6022070e7c2f2b9cf4f0d771889dd6488d399889408ff4985ea2def6ede808de69b760121035d2725b8a5b78f8e235a92e3acc2e426ac70889785dba7020189e88caa8a45b6ffffffff012ea1bf07000000001f03040000b27576a914903d20a04087a7a843f1f6fe0dfc8ae7358e058d88ac00000000 \\\n",
    "|jq \".transaction.hash\"\n"
   ]
  },
  {
   "cell_type": "code",
   "execution_count": null,
   "metadata": {},
   "outputs": [],
   "source": [
    "bx send-tx 01000000019dc2f9c31dacce0cfec97e0b8478726a2ac3b3585e0fbb4e9331c69a4c0b476e000000006b483045022100e9d38f238e58b3eb4642a618e0478bde90e33e5f17749336c97d8057f1b0a3d6022070e7c2f2b9cf4f0d771889dd6488d399889408ff4985ea2def6ede808de69b760121035d2725b8a5b78f8e235a92e3acc2e426ac70889785dba7020189e88caa8a45b6ffffffff012ea1bf07000000001f03040000b27576a914903d20a04087a7a843f1f6fe0dfc8ae7358e058d88ac00000000 \n"
   ]
  },
  {
   "cell_type": "markdown",
   "metadata": {},
   "source": [
    "<hr style=\"border: 0.5px dashed #000;\">\n",
    "\n",
    "## 3) Spend the CSV encumbered UXTO\n",
    "\n",
    "<img src=\"images/spend_from_csv.jpg\" alt=\"drawing\" style=\"\" width=\"700px\"/>\n",
    "\n",
    "### 3.1) Build transaction with activated delay locktime"
   ]
  },
  {
   "cell_type": "markdown",
   "metadata": {},
   "source": [
    "#### 3.1.1) Encode p2pkh output script"
   ]
  },
  {
   "cell_type": "code",
   "execution_count": null,
   "metadata": {},
   "outputs": [],
   "source": [
    "bx script-encode \"DUP HASH160 [903d20a04087a7a843f1f6fe0dfc8ae7358e058d] EQUALVERIFY CHECKSIG\""
   ]
  },
  {
   "cell_type": "markdown",
   "metadata": {},
   "source": [
    "**3.1.2) Encode transaction with delay & set input sequence**<br>\n",
    "* Transaction sequence delay must be `>=` delay in CSV output being spent.\n",
    "* Sequence delay encoding in blocks:\n",
    "    * Transaction version must be >= 2.\n",
    "    * Bit flag (1 << 22) must be deactivated.\n",
    "    * Encode block delay in first 16 bits."
   ]
  },
  {
   "cell_type": "code",
   "execution_count": null,
   "metadata": {},
   "outputs": [],
   "source": [
    "expr 129999350 - 4 \\* 100 - 300 - 300"
   ]
  },
  {
   "cell_type": "code",
   "execution_count": null,
   "metadata": {},
   "outputs": [],
   "source": [
    "bx tx-encode \\\n",
    "--version 2 \\\n",
    "--input 16f7fbce888a8001d99f92519eff7d4755fee947a0b9289ced5c5f723d3671e0:0:5 \\\n",
    "--output 76a914903d20a04087a7a843f1f6fe0dfc8ae7358e058d88ac:129998350\n"
   ]
  },
  {
   "cell_type": "markdown",
   "metadata": {},
   "source": [
    "### 3.2) Building the input script\n",
    "\n",
    "#### 3.2.1)  Signing the transaction with the private key\n",
    "* `bx fetch-tx` previous output script\n",
    "* `bx input-sign` `[private key]` `[\"previous output script\"]` `[encoded transaction]`\n",
    "    * Outputs DER encoded signature"
   ]
  },
  {
   "cell_type": "code",
   "execution_count": null,
   "metadata": {},
   "outputs": [],
   "source": [
    "bx fetch-tx -f json 16f7fbce888a8001d99f92519eff7d4755fee947a0b9289ced5c5f723d3671e0 \\\n",
    "| jq \".transaction.outputs[0].script\"\n"
   ]
  },
  {
   "cell_type": "code",
   "execution_count": null,
   "metadata": {},
   "outputs": [],
   "source": [
    "bx input-sign 962f3488480b23d4f85a198ba11e862ee6eebf4259af3f153a7c20084573b47c \\\n",
    "\"[050000] checksequenceverify drop dup hash160 [42a8bcd5f61fa17adbe800de6382f24bd1db0d7f] equalverify checksig\" \\\n",
    "0200000001e071363d725f5ced9c28b9a047e9fe55477dff9e51929fd901808a88cefbf716000000000005000000010e9ebf07000000001976a914903d20a04087a7a843f1f6fe0dfc8ae7358e058d88ac00000000\n"
   ]
  },
  {
   "cell_type": "markdown",
   "metadata": {},
   "source": [
    "#### 3.2.2) Set the input script into the finalised transaction"
   ]
  },
  {
   "cell_type": "code",
   "execution_count": null,
   "metadata": {},
   "outputs": [],
   "source": [
    "bx input-set \"[3045022100d6a7eba49a4bfecccc5519a9ed25b0de32c3dc487c37b9b36b85ea9526bede47022052dd8005ff085ae56d10e84a173fd2128d90f682b5abc8d60f6db1f50526a93801] [035d2725b8a5b78f8e235a92e3acc2e426ac70889785dba7020189e88caa8a45b6]\" \\\n",
    "0200000001e071363d725f5ced9c28b9a047e9fe55477dff9e51929fd901808a88cefbf716000000000005000000010e9ebf07000000001976a914903d20a04087a7a843f1f6fe0dfc8ae7358e058d88ac00000000\n"
   ]
  },
  {
   "cell_type": "markdown",
   "metadata": {},
   "source": [
    "### 3.3) Validate & Broadcast the endorsed transaction\n",
    "* `bx validate-tx` `[encoded transaction]`\n",
    "* Get TXID: `bx tx-decode -f json` `[encoded transaction]` | `jq \".transaction.hash\"`\n",
    "* `bx send-tx` `[encoded transaction]`"
   ]
  },
  {
   "cell_type": "code",
   "execution_count": null,
   "metadata": {},
   "outputs": [],
   "source": [
    "bx validate-tx \\\n",
    "0200000001e071363d725f5ced9c28b9a047e9fe55477dff9e51929fd901808a88cefbf716000000006b483045022100d6a7eba49a4bfecccc5519a9ed25b0de32c3dc487c37b9b36b85ea9526bede47022052dd8005ff085ae56d10e84a173fd2128d90f682b5abc8d60f6db1f50526a938012102e1af2f9086e95728bc3c768ee3e83ab81dd1841b92e281caa9f92501fd9b2b3105000000010e9ebf07000000001976a914903d20a04087a7a843f1f6fe0dfc8ae7358e058d88ac00000000\n"
   ]
  },
  {
   "cell_type": "code",
   "execution_count": null,
   "metadata": {},
   "outputs": [],
   "source": [
    "bx tx-decode -f json \\\n",
    "0200000001e071363d725f5ced9c28b9a047e9fe55477dff9e51929fd901808a88cefbf716000000006b483045022100d6a7eba49a4bfecccc5519a9ed25b0de32c3dc487c37b9b36b85ea9526bede47022052dd8005ff085ae56d10e84a173fd2128d90f682b5abc8d60f6db1f50526a938012102e1af2f9086e95728bc3c768ee3e83ab81dd1841b92e281caa9f92501fd9b2b3105000000010e9ebf07000000001976a914903d20a04087a7a843f1f6fe0dfc8ae7358e058d88ac00000000 \\\n",
    "| jq \".transaction.hash\"\n"
   ]
  },
  {
   "cell_type": "code",
   "execution_count": null,
   "metadata": {},
   "outputs": [],
   "source": [
    "bx send-tx 0200000001e071363d725f5ced9c28b9a047e9fe55477dff9e51929fd901808a88cefbf716000000006b483045022100d6a7eba49a4bfecccc5519a9ed25b0de32c3dc487c37b9b36b85ea9526bede47022052dd8005ff085ae56d10e84a173fd2128d90f682b5abc8d60f6db1f50526a938012102e1af2f9086e95728bc3c768ee3e83ab81dd1841b92e281caa9f92501fd9b2b3105000000010e9ebf07000000001976a914903d20a04087a7a843f1f6fe0dfc8ae7358e058d88ac00000000\n"
   ]
  }
 ],
 "metadata": {
  "kernelspec": {
   "display_name": "Bash",
   "language": "bash",
   "name": "bash"
  },
  "language_info": {
   "codemirror_mode": "shell",
   "file_extension": ".sh",
   "mimetype": "text/x-sh",
   "name": "bash"
  }
 },
 "nbformat": 4,
 "nbformat_minor": 2
}
