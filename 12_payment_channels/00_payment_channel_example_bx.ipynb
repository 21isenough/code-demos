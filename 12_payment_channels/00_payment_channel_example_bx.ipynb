{
 "cells": [
  {
   "cell_type": "markdown",
   "metadata": {},
   "source": [
    "# Libbitcoin BX: Payment Channel\n",
    "\n",
    "In this BX tutorial, we will demonstrate a simple payment channel between two participants, Alice and Bob.\n",
    "\n",
    "* Wallet Setup for Alice & Bob\n",
    "* 1) Opening a payment channel\n",
    "* 2) Updating the payment channel\n",
    "* 3) Alice broadcasts old state. Bob sweeps the channel.\n",
    "\n"
   ]
  },
  {
   "cell_type": "markdown",
   "metadata": {},
   "source": [
    "<hr style=\"border: 0.5px dashed #000;\">\n",
    "\n",
    "\n",
    "## Wallet setup for Alice & Bob"
   ]
  },
  {
   "cell_type": "code",
   "execution_count": 1,
   "metadata": {},
   "outputs": [
    {
     "name": "stdout",
     "output_type": "stream",
     "text": [
      "f8cc264660fe34de75466b1a3173f764b09efb35c5689f74f5bb7da62eb6ae28\n"
     ]
    }
   ],
   "source": [
    "bx seed | bx ec-new"
   ]
  },
  {
   "cell_type": "code",
   "execution_count": 2,
   "metadata": {},
   "outputs": [
    {
     "name": "stdout",
     "output_type": "stream",
     "text": [
      "02b3b4a1b2bd5555cbe37cc8cd58d143ee93cdde65ac987c5d2fbcdfd6fe79ccc5\n",
      "027546622c89d92aa58ad5cc0127dd67bac986c2fb52abfa4ed493ca9fa73e2f2a\n"
     ]
    }
   ],
   "source": [
    "bx ec-to-public dbafbb58c0e58a0609898e831d387e7ed63275e21c5755f1b4600b36cb314cbb &&\n",
    "bx ec-to-public 2d80969c3c10a85ce8a887686f9faad63d0b8bd05f6b5f4e22e425073c263129"
   ]
  },
  {
   "cell_type": "code",
   "execution_count": 3,
   "metadata": {},
   "outputs": [
    {
     "name": "stdout",
     "output_type": "stream",
     "text": [
      "eb8e87d55a0a313628d70603ab342dd7c380993e\n",
      "8d950d086cf089d0bc29a0184faa7a448fd8c841\n"
     ]
    }
   ],
   "source": [
    "bx sha256 02b3b4a1b2bd5555cbe37cc8cd58d143ee93cdde65ac987c5d2fbcdfd6fe79ccc5 | bx ripemd160 &&\n",
    "bx sha256 027546622c89d92aa58ad5cc0127dd67bac986c2fb52abfa4ed493ca9fa73e2f2a | bx ripemd160"
   ]
  },
  {
   "cell_type": "code",
   "execution_count": 4,
   "metadata": {},
   "outputs": [
    {
     "name": "stdout",
     "output_type": "stream",
     "text": [
      "n2zTqLKDrSF79wA7dni9mRbGQAP8ifMTbh\n",
      "mtRa8Liyeygehg3b4JgEowjSCH9DqbR3pX\n"
     ]
    }
   ],
   "source": [
    "bx ec-to-address -v 111 02b3b4a1b2bd5555cbe37cc8cd58d143ee93cdde65ac987c5d2fbcdfd6fe79ccc5 &&\n",
    "bx ec-to-address -v 111 027546622c89d92aa58ad5cc0127dd67bac986c2fb52abfa4ed493ca9fa73e2f2a\n"
   ]
  },
  {
   "cell_type": "markdown",
   "metadata": {},
   "source": [
    "**Note your spendable UXTOs here:**\n",
    "```\n",
    "TXID: 2d8eddc045e5aa39b5d8d35374cf597a35f14a00d6163bfa147da52d4714e1d9\n",
    "Index: 0\n",
    "Amount: 65000000\n",
    "```"
   ]
  },
  {
   "cell_type": "markdown",
   "metadata": {},
   "source": [
    "<hr style=\"border: 0.5px dashed #000;\">\n",
    "\n",
    "## 1) Opening the payment channel\n",
    "<br>\n",
    "<img src=\"images/payment_channel_funding.jpg\" alt=\"drawing\" style=\"\" width=\"700px\"/>"
   ]
  },
  {
   "cell_type": "markdown",
   "metadata": {},
   "source": [
    "## Alice creates the funding transaction"
   ]
  },
  {
   "cell_type": "markdown",
   "metadata": {},
   "source": [
    "### A + B multisig output script\n",
    "* `2`\n",
    "* `public key A`\n",
    "* `public key B`\n",
    "* `2`\n",
    "* `checkmultisig`\n"
   ]
  },
  {
   "cell_type": "code",
   "execution_count": null,
   "metadata": {},
   "outputs": [],
   "source": [
    "bx script-encode \\\n",
    "\"2 [04b3b4a1b2bd5555cbe37cc8cd58d143ee93cdde65ac987c5d2fbcdfd6fe79ccc564bec969580738901a21e5b5dbd687ed9897a5a01a9e99a8dda825e14beee4bc] [047546622c89d92aa58ad5cc0127dd67bac986c2fb52abfa4ed493ca9fa73e2f2a071bfd964f6ea4d9a0514db400a5df56a6fd5a058b4ea7444b7df8d834637fb2] 2 CHECKMULTISIG\"\n"
   ]
  },
  {
   "cell_type": "markdown",
   "metadata": {},
   "source": [
    "### Minimum fee calculation\n",
    "* `100 Satoshi/sigops + 1 Satoshi/Byte` \n",
    "* Multisig counts as `4 * 20 sigops`\n",
    "* Output amount(s) are previous output amount(s) minus fees"
   ]
  },
  {
   "cell_type": "code",
   "execution_count": null,
   "metadata": {},
   "outputs": [],
   "source": [
    "# Output amount\n",
    "expr 65000000 - 20 \\* 4 \\* 100 - 340\n"
   ]
  },
  {
   "cell_type": "markdown",
   "metadata": {},
   "source": [
    "### Encode funding transaction for signing."
   ]
  },
  {
   "cell_type": "code",
   "execution_count": null,
   "metadata": {},
   "outputs": [],
   "source": [
    "bx tx-encode \\\n",
    "--input 2d8eddc045e5aa39b5d8d35374cf597a35f14a00d6163bfa147da52d4714e1d9:0 \\\n",
    "--output 524104b3b4a1b2bd5555cbe37cc8cd58d143ee93cdde65ac987c5d2fbcdfd6fe79ccc564bec969580738901a21e5b5dbd687ed9897a5a01a9e99a8dda825e14beee4bc41047546622c89d92aa58ad5cc0127dd67bac986c2fb52abfa4ed493ca9fa73e2f2a071bfd964f6ea4d9a0514db400a5df56a6fd5a058b4ea7444b7df8d834637fb252ae:64991660\n"
   ]
  },
  {
   "cell_type": "markdown",
   "metadata": {},
   "source": [
    "### Alice signs funding transaction."
   ]
  },
  {
   "cell_type": "code",
   "execution_count": null,
   "metadata": {},
   "outputs": [],
   "source": [
    "bx fetch-tx -f json 2d8eddc045e5aa39b5d8d35374cf597a35f14a00d6163bfa147da52d4714e1d9 \\\n",
    "| jq \".transaction.outputs[0].script\"\n"
   ]
  },
  {
   "cell_type": "code",
   "execution_count": null,
   "metadata": {},
   "outputs": [],
   "source": [
    "bx input-sign \\\n",
    "dbafbb58c0e58a0609898e831d387e7ed63275e21c5755f1b4600b36cb314cbb \\\n",
    "\"dup hash160 [eb8e87d55a0a313628d70603ab342dd7c380993e] equalverify checksig\" \\\n",
    "0100000001d9e114472da57d14fa3b16d6004af1357a59cf7453d3d8b539aae545c0dd8e2d0000000000ffffffff01acb1df030000000087524104b3b4a1b2bd5555cbe37cc8cd58d143ee93cdde65ac987c5d2fbcdfd6fe79ccc564bec969580738901a21e5b5dbd687ed9897a5a01a9e99a8dda825e14beee4bc41047546622c89d92aa58ad5cc0127dd67bac986c2fb52abfa4ed493ca9fa73e2f2a071bfd964f6ea4d9a0514db400a5df56a6fd5a058b4ea7444b7df8d834637fb252ae00000000\n"
   ]
  },
  {
   "cell_type": "code",
   "execution_count": null,
   "metadata": {},
   "outputs": [],
   "source": [
    "bx input-set \\\n",
    "\"[3045022100855e10a0526742673ff226cdc681f34d075ff13159784d29640eaf6e74a8f486022009ca1a0b3d0361f5a0ac95c7a6a653adf61194667f5ffac57a4f2e8c18d439c501] [02b3b4a1b2bd5555cbe37cc8cd58d143ee93cdde65ac987c5d2fbcdfd6fe79ccc5]\" \\\n",
    "0100000001d9e114472da57d14fa3b16d6004af1357a59cf7453d3d8b539aae545c0dd8e2d0000000000ffffffff01acb1df030000000087524104b3b4a1b2bd5555cbe37cc8cd58d143ee93cdde65ac987c5d2fbcdfd6fe79ccc564bec969580738901a21e5b5dbd687ed9897a5a01a9e99a8dda825e14beee4bc41047546622c89d92aa58ad5cc0127dd67bac986c2fb52abfa4ed493ca9fa73e2f2a071bfd964f6ea4d9a0514db400a5df56a6fd5a058b4ea7444b7df8d834637fb252ae00000000\n"
   ]
  },
  {
   "cell_type": "code",
   "execution_count": null,
   "metadata": {},
   "outputs": [],
   "source": [
    "bx validate-tx \\\n",
    "0100000001d9e114472da57d14fa3b16d6004af1357a59cf7453d3d8b539aae545c0dd8e2d000000006b483045022100855e10a0526742673ff226cdc681f34d075ff13159784d29640eaf6e74a8f486022009ca1a0b3d0361f5a0ac95c7a6a653adf61194667f5ffac57a4f2e8c18d439c5012102b3b4a1b2bd5555cbe37cc8cd58d143ee93cdde65ac987c5d2fbcdfd6fe79ccc5ffffffff01acb1df030000000087524104b3b4a1b2bd5555cbe37cc8cd58d143ee93cdde65ac987c5d2fbcdfd6fe79ccc564bec969580738901a21e5b5dbd687ed9897a5a01a9e99a8dda825e14beee4bc41047546622c89d92aa58ad5cc0127dd67bac986c2fb52abfa4ed493ca9fa73e2f2a071bfd964f6ea4d9a0514db400a5df56a6fd5a058b4ea7444b7df8d834637fb252ae00000000\n"
   ]
  },
  {
   "cell_type": "code",
   "execution_count": null,
   "metadata": {},
   "outputs": [],
   "source": [
    "bx tx-decode -f json \\\n",
    "0100000001d9e114472da57d14fa3b16d6004af1357a59cf7453d3d8b539aae545c0dd8e2d000000006b483045022100855e10a0526742673ff226cdc681f34d075ff13159784d29640eaf6e74a8f486022009ca1a0b3d0361f5a0ac95c7a6a653adf61194667f5ffac57a4f2e8c18d439c5012102b3b4a1b2bd5555cbe37cc8cd58d143ee93cdde65ac987c5d2fbcdfd6fe79ccc5ffffffff01acb1df030000000087524104b3b4a1b2bd5555cbe37cc8cd58d143ee93cdde65ac987c5d2fbcdfd6fe79ccc564bec969580738901a21e5b5dbd687ed9897a5a01a9e99a8dda825e14beee4bc41047546622c89d92aa58ad5cc0127dd67bac986c2fb52abfa4ed493ca9fa73e2f2a071bfd964f6ea4d9a0514db400a5df56a6fd5a058b4ea7444b7df8d834637fb252ae00000000 \\\n",
    "| jq \".transaction.hash\"\n"
   ]
  },
  {
   "cell_type": "markdown",
   "metadata": {},
   "source": [
    "**Important:** Alice can only broadcast the funding transaction once commitment 0 has been signed by both parties, as in the following section. Otherwise, her funds could become unspendable without Bob's cooperation. "
   ]
  },
  {
   "cell_type": "markdown",
   "metadata": {},
   "source": [
    "## 1.2) Commitment transactions `0a/0b`\n"
   ]
  },
  {
   "cell_type": "markdown",
   "metadata": {},
   "source": [
    "### 1.2.1) Commitment transaction `0a`"
   ]
  },
  {
   "cell_type": "markdown",
   "metadata": {},
   "source": [
    "#### Output Scripts\n",
    "* RSMC A\n",
    "* PKPKH B"
   ]
  },
  {
   "cell_type": "markdown",
   "metadata": {},
   "source": [
    "#### RSMC A\n",
    "* `IF`\n",
    "    * `[public key R]`\n",
    "* `ELSE`\n",
    "    * `[3-byte delay]`\n",
    "    * `checksequenceverify`\n",
    "    * `drop`\n",
    "    * `[public key A]`\n",
    "* `ENDIF`\n",
    "* `CHECKSIG`"
   ]
  },
  {
   "cell_type": "markdown",
   "metadata": {},
   "source": [
    "#### `Secret r = r_A + r_B`\n",
    "* Both Alice and Bob independently generate secrets `r_A` and `r_B`\n",
    "* Alice and Bob only exchange public keys `R_A` AND `R_B`\n",
    "* `public key R = R_A + R_B = r_A * G + r_B * G`"
   ]
  },
  {
   "cell_type": "code",
   "execution_count": null,
   "metadata": {},
   "outputs": [],
   "source": [
    "bx ec-to-public fde351a976918c9b03ffca81788792e441b4383fbd08c7b0938232f74eabbdb5 &&\n",
    "bx ec-to-public a7f98d6d45a96f94f314034535b2e5d86c659adde3e05d3b91b8c1a84b597ffd"
   ]
  },
  {
   "cell_type": "markdown",
   "metadata": {},
   "source": [
    "#### Alice computes `public key R` by adding `R_B` to` r_A * G:`\n"
   ]
  },
  {
   "cell_type": "code",
   "execution_count": null,
   "metadata": {},
   "outputs": [],
   "source": [
    "bx ec-add 031111a478bb24bd57e67ee3bacb920f2b38d6730ef9cd98f0386b4eea6eafee7a fde351a976918c9b03ffca81788792e441b4383fbd08c7b0938232f74eabbdb5\n"
   ]
  },
  {
   "cell_type": "markdown",
   "metadata": {},
   "source": [
    "#### Encoding Output Scripts for Commitment `0a`"
   ]
  },
  {
   "cell_type": "code",
   "execution_count": null,
   "metadata": {},
   "outputs": [],
   "source": [
    "#RSMC A\n",
    "bx script-encode \\\n",
    "\"IF [0358efa6bb04acb2c86342fa3dd84c2b360b1e8597b908a142ecca7517ed044058] ELSE [050000] CHECKSEQUENCEVERIFY DROP [02b3b4a1b2bd5555cbe37cc8cd58d143ee93cdde65ac987c5d2fbcdfd6fe79ccc5] ENDIF CHECKSIG\"\n"
   ]
  },
  {
   "cell_type": "code",
   "execution_count": null,
   "metadata": {},
   "outputs": [],
   "source": [
    "#P2PKH B\n",
    "bx script-encode \\\n",
    "\"DUP HASH160 [8d950d086cf089d0bc29a0184faa7a448fd8c841] EQUALVERIFY CHECKSIG\"\n"
   ]
  },
  {
   "cell_type": "markdown",
   "metadata": {},
   "source": [
    "#### Minimum Fee Calculation"
   ]
  },
  {
   "cell_type": "code",
   "execution_count": null,
   "metadata": {},
   "outputs": [],
   "source": [
    "# Output Amounts minus fees \n",
    "# 2 sigops\n",
    "expr 64991660 - 2 \\* 4 \\* 100 - 350"
   ]
  },
  {
   "cell_type": "markdown",
   "metadata": {},
   "source": [
    "**Encode Commitment `0a` for signing**"
   ]
  },
  {
   "cell_type": "code",
   "execution_count": null,
   "metadata": {},
   "outputs": [],
   "source": [
    "bx tx-encode \\\n",
    "--input 8d2b546e2d4ca3342fff120efba60cf1b11da993f6c90442e3ca44da0e857908:0 \\\n",
    "--output 63210358efa6bb04acb2c86342fa3dd84c2b360b1e8597b908a142ecca7517ed0440586703050000b2752102b3b4a1b2bd5555cbe37cc8cd58d143ee93cdde65ac987c5d2fbcdfd6fe79ccc568ac:64900510 \\\n",
    "--output 76a9148d950d086cf089d0bc29a0184faa7a448fd8c84188ac:90000\n"
   ]
  },
  {
   "cell_type": "markdown",
   "metadata": {},
   "source": [
    "**Signing by Alice & Bob**"
   ]
  },
  {
   "cell_type": "code",
   "execution_count": null,
   "metadata": {},
   "outputs": [],
   "source": [
    "bx input-sign dbafbb58c0e58a0609898e831d387e7ed63275e21c5755f1b4600b36cb314cbb \\\n",
    "\"2 [04b3b4a1b2bd5555cbe37cc8cd58d143ee93cdde65ac987c5d2fbcdfd6fe79ccc564bec969580738901a21e5b5dbd687ed9897a5a01a9e99a8dda825e14beee4bc] [047546622c89d92aa58ad5cc0127dd67bac986c2fb52abfa4ed493ca9fa73e2f2a071bfd964f6ea4d9a0514db400a5df56a6fd5a058b4ea7444b7df8d834637fb2] 2 checkmultisig\" \\\n",
    "01000000010879850eda44cae34204c9f693a91db1f10ca6fb0e12ff2f34a34c2d6e542b8d0000000000ffffffff029e4dde03000000004e63210358efa6bb04acb2c86342fa3dd84c2b360b1e8597b908a142ecca7517ed0440586703050000b2752102b3b4a1b2bd5555cbe37cc8cd58d143ee93cdde65ac987c5d2fbcdfd6fe79ccc568ac905f0100000000001976a9148d950d086cf089d0bc29a0184faa7a448fd8c84188ac00000000 \\\n",
    "&&\n",
    "bx input-sign 2d80969c3c10a85ce8a887686f9faad63d0b8bd05f6b5f4e22e425073c263129 \\\n",
    "\"2 [04b3b4a1b2bd5555cbe37cc8cd58d143ee93cdde65ac987c5d2fbcdfd6fe79ccc564bec969580738901a21e5b5dbd687ed9897a5a01a9e99a8dda825e14beee4bc] [047546622c89d92aa58ad5cc0127dd67bac986c2fb52abfa4ed493ca9fa73e2f2a071bfd964f6ea4d9a0514db400a5df56a6fd5a058b4ea7444b7df8d834637fb2] 2 checkmultisig\" \\\n",
    "01000000010879850eda44cae34204c9f693a91db1f10ca6fb0e12ff2f34a34c2d6e542b8d0000000000ffffffff029e4dde03000000004e63210358efa6bb04acb2c86342fa3dd84c2b360b1e8597b908a142ecca7517ed0440586703050000b2752102b3b4a1b2bd5555cbe37cc8cd58d143ee93cdde65ac987c5d2fbcdfd6fe79ccc568ac905f0100000000001976a9148d950d086cf089d0bc29a0184faa7a448fd8c84188ac00000000\n"
   ]
  },
  {
   "cell_type": "code",
   "execution_count": null,
   "metadata": {},
   "outputs": [],
   "source": [
    "bx input-set \\\n",
    "\"zero [30440220188d7a4e53c3e7e745bedec01fbe98c40ad08b78a34b55911c0c59541e9f47bf0220625b3aac3e56b5a8100cbbc1a92faa4969c7303a236c8ed688a9731e013bd71c01] [3045022100eca3443f6f2980d32434e6d8f7ea6c56127102bc897bab51d4e5ea66f71b01d102200b4aa7ca6a509cd969ddad25a4718e8817930cba724f0c00ec26d42d254032fc01]\" \\\n",
    "01000000010879850eda44cae34204c9f693a91db1f10ca6fb0e12ff2f34a34c2d6e542b8d0000000000ffffffff029e4dde03000000004e63210358efa6bb04acb2c86342fa3dd84c2b360b1e8597b908a142ecca7517ed0440586703050000b2752102b3b4a1b2bd5555cbe37cc8cd58d143ee93cdde65ac987c5d2fbcdfd6fe79ccc568ac905f0100000000001976a9148d950d086cf089d0bc29a0184faa7a448fd8c84188ac00000000\n"
   ]
  },
  {
   "cell_type": "code",
   "execution_count": null,
   "metadata": {},
   "outputs": [],
   "source": [
    "bx validate-tx \\\n",
    "01000000010879850eda44cae34204c9f693a91db1f10ca6fb0e12ff2f34a34c2d6e542b8d0000000000ffffffff029e4dde03000000004e63210358efa6bb04acb2c86342fa3dd84c2b360b1e8597b908a142ecca7517ed0440586703050000b2752102b3b4a1b2bd5555cbe37cc8cd58d143ee93cdde65ac987c5d2fbcdfd6fe79ccc568ac905f0100000000001976a9148d950d086cf089d0bc29a0184faa7a448fd8c84188ac00000000\n"
   ]
  },
  {
   "cell_type": "markdown",
   "metadata": {},
   "source": [
    "**With commitment `0a` now complete, Alice is now ready to broadcast the funding transaction**"
   ]
  },
  {
   "cell_type": "code",
   "execution_count": null,
   "metadata": {},
   "outputs": [],
   "source": [
    "bx send-tx \\\n",
    "01000000010879850eda44cae34204c9f693a91db1f10ca6fb0e12ff2f34a34c2d6e542b8d0000000000ffffffff029e4dde03000000004e63210358efa6bb04acb2c86342fa3dd84c2b360b1e8597b908a142ecca7517ed0440586703050000b2752102b3b4a1b2bd5555cbe37cc8cd58d143ee93cdde65ac987c5d2fbcdfd6fe79ccc568ac905f0100000000001976a9148d950d086cf089d0bc29a0184faa7a448fd8c84188ac00000000\n"
   ]
  },
  {
   "cell_type": "markdown",
   "metadata": {},
   "source": [
    "### 1.2.2) Commitment transaction `0b`\n",
    "* Not shown\n",
    "* Follows section 1.2.1"
   ]
  },
  {
   "cell_type": "markdown",
   "metadata": {},
   "source": [
    "<hr style=\"border: 0.5px dashed #000;\">\n",
    "\n",
    "\n",
    "## 2) Updating the channel\n",
    "<br>\n",
    "<img src=\"images/payment_channel_update.jpg\" alt=\"drawing\" style=\"\" width=\"700px\"/>"
   ]
  },
  {
   "cell_type": "markdown",
   "metadata": {},
   "source": [
    "### 2.1) New commitment transaction `1a`/`1b` are created\n",
    "* Not shown \n",
    "* Follows section 1.2\n"
   ]
  },
  {
   "cell_type": "markdown",
   "metadata": {},
   "source": [
    "### 2.2) Alice reveals `r_A` to Bob\n",
    "* Since Alice is paying Bob, she must revoke her past commitment TX output. \n",
    "* Bob can now compute `r` = `r_A + r_B`"
   ]
  },
  {
   "cell_type": "code",
   "execution_count": null,
   "metadata": {},
   "outputs": [],
   "source": [
    "bx ec-add-secrets \\\n",
    "fde351a976918c9b03ffca81788792e441b4383fbd08c7b0938232f74eabbdb5 \\\n",
    "a7f98d6d45a96f94f314034535b2e5d86c659adde3e05d3b91b8c1a84b597ffd\n"
   ]
  },
  {
   "cell_type": "code",
   "execution_count": null,
   "metadata": {},
   "outputs": [],
   "source": [
    "bx ec-to-public a5dcdf16bc3afc2ff713cdc6ae3a78bdf36af636f1a084b065689612c9cefc71\n",
    "0358efa6bb04acb2c86342fa3dd84c2b360b1e8597b908a142ecca7517ed044058\n"
   ]
  },
  {
   "cell_type": "markdown",
   "metadata": {},
   "source": [
    "<hr style=\"border: 0.5px dashed #000;\">\n",
    "\n",
    "## 3) Alice broadcasts old state. Bob sweeps the channel.\n",
    "<br>\n",
    "<img src=\"images/payment_channel_penalty.jpg\" alt=\"drawing\" style=\"\" width=\"700px\"/>"
   ]
  },
  {
   "cell_type": "markdown",
   "metadata": {},
   "source": [
    "### 3.1) Alice broadcasts commitment tx `0a`"
   ]
  },
  {
   "cell_type": "code",
   "execution_count": null,
   "metadata": {},
   "outputs": [],
   "source": [
    "bx send-tx 01000000010879850eda44cae34204c9f693a91db1f10ca6fb0e12ff2f34a34c2d6e542b8d0000000092004730440220188d7a4e53c3e7e745bedec01fbe98c40ad08b78a34b55911c0c59541e9f47bf0220625b3aac3e56b5a8100cbbc1a92faa4969c7303a236c8ed688a9731e013bd71c01483045022100eca3443f6f2980d32434e6d8f7ea6c56127102bc897bab51d4e5ea66f71b01d102200b4aa7ca6a509cd969ddad25a4718e8817930cba724f0c00ec26d42d254032fc01ffffffff029e4dde03000000004e63210358efa6bb04acb2c86342fa3dd84c2b360b1e8597b908a142ecca7517ed0440586703050000b2752102b3b4a1b2bd5555cbe37cc8cd58d143ee93cdde65ac987c5d2fbcdfd6fe79ccc568ac905f0100000000001976a9148d950d086cf089d0bc29a0184faa7a448fd8c84188ac00000000\n"
   ]
  },
  {
   "cell_type": "code",
   "execution_count": null,
   "metadata": {},
   "outputs": [],
   "source": [
    "bx tx-decode -f json \\\n",
    "01000000010879850eda44cae34204c9f693a91db1f10ca6fb0e12ff2f34a34c2d6e542b8d0000000092004730440220188d7a4e53c3e7e745bedec01fbe98c40ad08b78a34b55911c0c59541e9f47bf0220625b3aac3e56b5a8100cbbc1a92faa4969c7303a236c8ed688a9731e013bd71c01483045022100eca3443f6f2980d32434e6d8f7ea6c56127102bc897bab51d4e5ea66f71b01d102200b4aa7ca6a509cd969ddad25a4718e8817930cba724f0c00ec26d42d254032fc01ffffffff029e4dde03000000004e63210358efa6bb04acb2c86342fa3dd84c2b360b1e8597b908a142ecca7517ed0440586703050000b2752102b3b4a1b2bd5555cbe37cc8cd58d143ee93cdde65ac987c5d2fbcdfd6fe79ccc568ac905f0100000000001976a9148d950d086cf089d0bc29a0184faa7a448fd8c84188ac00000000 \\\n",
    "| jq \".transaction.hash\"\n"
   ]
  },
  {
   "cell_type": "markdown",
   "metadata": {},
   "source": [
    "### 3.2) Bob sweeps funds from commitment tx `0a`"
   ]
  },
  {
   "cell_type": "markdown",
   "metadata": {},
   "source": [
    "#### Encode penalty transaction for signing"
   ]
  },
  {
   "cell_type": "code",
   "execution_count": null,
   "metadata": {},
   "outputs": [],
   "source": [
    "# Encode output spendable by Bob\n",
    "bx script-encode \\\n",
    "\"DUP HASH160 [8d950d086cf089d0bc29a0184faa7a448fd8c841] EQUALVERIFY CHECKSIG\"\n"
   ]
  },
  {
   "cell_type": "code",
   "execution_count": null,
   "metadata": {},
   "outputs": [],
   "source": [
    "expr 64990510 - 4 \\* 100 - 350"
   ]
  },
  {
   "cell_type": "code",
   "execution_count": null,
   "metadata": {},
   "outputs": [],
   "source": [
    "bx tx-encode \\\n",
    "--input 796d7d2d3adec17738b67c357e0d6ebd0f808c4bd03c296e85022b517a60a71e:0 \\\n",
    "--input 796d7d2d3adec17738b67c357e0d6ebd0f808c4bd03c296e85022b517a60a71e:1 \\\n",
    "--output 76a9148d950d086cf089d0bc29a0184faa7a448fd8c84188ac:64989760\n"
   ]
  },
  {
   "cell_type": "markdown",
   "metadata": {},
   "source": [
    "#### Bob signs input to spend RSMC A\n",
    "* `[Sig R]`\n",
    "* `1`"
   ]
  },
  {
   "cell_type": "code",
   "execution_count": null,
   "metadata": {},
   "outputs": [],
   "source": [
    "bx fetch-tx -f json 796d7d2d3adec17738b67c357e0d6ebd0f808c4bd03c296e85022b517a60a71e \\\n",
    "| jq \".transaction.outputs[0].script\"\n"
   ]
  },
  {
   "cell_type": "code",
   "execution_count": null,
   "metadata": {},
   "outputs": [],
   "source": [
    "# Bob signs input 0 (RSMC) with secret r.\n",
    "bx input-sign --index 0 a5dcdf16bc3afc2ff713cdc6ae3a78bdf36af636f1a084b065689612c9cefc71 \\\n",
    "\"if [0358efa6bb04acb2c86342fa3dd84c2b360b1e8597b908a142ecca7517ed044058] else [050000] checksequenceverify drop [02b3b4a1b2bd5555cbe37cc8cd58d143ee93cdde65ac987c5d2fbcdfd6fe79ccc5] endif checksig\" \\\n",
    "01000000021ea7607a512b02856e293cd04b8c800fbd6e0d7e357cb63877c1de3a2d7d6d790000000000ffffffff1ea7607a512b02856e293cd04b8c800fbd6e0d7e357cb63877c1de3a2d7d6d790100000000ffffffff0140aadf03000000001976a9148d950d086cf089d0bc29a0184faa7a448fd8c84188ac00000000\n"
   ]
  },
  {
   "cell_type": "markdown",
   "metadata": {},
   "source": [
    "#### Bob signs input to spend P2PKH B"
   ]
  },
  {
   "cell_type": "code",
   "execution_count": null,
   "metadata": {},
   "outputs": [],
   "source": [
    "bx fetch-tx -f json 796d7d2d3adec17738b67c357e0d6ebd0f808c4bd03c296e85022b517a60a71e \\\n",
    "| jq \".transaction.outputs[1].script\"\n"
   ]
  },
  {
   "cell_type": "code",
   "execution_count": null,
   "metadata": {},
   "outputs": [],
   "source": [
    "# Bob signs input 1 (p2pkh) with private key.\n",
    "bx input-sign --index 1 2d80969c3c10a85ce8a887686f9faad63d0b8bd05f6b5f4e22e425073c263129 \\\n",
    "\"dup hash160 [8d950d086cf089d0bc29a0184faa7a448fd8c841] equalverify checksig\" \\\n",
    "01000000021ea7607a512b02856e293cd04b8c800fbd6e0d7e357cb63877c1de3a2d7d6d790000000000ffffffff1ea7607a512b02856e293cd04b8c800fbd6e0d7e357cb63877c1de3a2d7d6d790100000000ffffffff0140aadf03000000001976a9148d950d086cf089d0bc29a0184faa7a448fd8c84188ac00000000\n"
   ]
  },
  {
   "cell_type": "markdown",
   "metadata": {},
   "source": [
    "#### Finalise penalty transaction\n"
   ]
  },
  {
   "cell_type": "code",
   "execution_count": null,
   "metadata": {},
   "outputs": [],
   "source": [
    "bx input-set --index 0 \\\n",
    "\"[304402202f79d5255845e05d4e3d3688f191a35c61c647080a56754bad647f28e1dfe14702203ff30d1e22ce7396b2b5f78dee6ea76934c8567f7f0c86f5954fba04256e16db01] 1\" \\\n",
    "01000000021ea7607a512b02856e293cd04b8c800fbd6e0d7e357cb63877c1de3a2d7d6d790000000000ffffffff1ea7607a512b02856e293cd04b8c800fbd6e0d7e357cb63877c1de3a2d7d6d790100000000ffffffff0140aadf03000000001976a9148d950d086cf089d0bc29a0184faa7a448fd8c84188ac00000000\n"
   ]
  },
  {
   "cell_type": "code",
   "execution_count": null,
   "metadata": {
    "scrolled": true
   },
   "outputs": [],
   "source": [
    "bx input-set --index 1 \\\n",
    "\"[3045022100e21adb334909a91f49ef53c038823199ec51c6a2a483a7a5ced56990b98aa44202206d2fa178206808bd4be1dbdc3e26934b77f29d7c4f893153e6068c2afac1d0ee01] [027546622c89d92aa58ad5cc0127dd67bac986c2fb52abfa4ed493ca9fa73e2f2a]\" \\\n",
    "01000000021ea7607a512b02856e293cd04b8c800fbd6e0d7e357cb63877c1de3a2d7d6d79000000004947304402202f79d5255845e05d4e3d3688f191a35c61c647080a56754bad647f28e1dfe14702203ff30d1e22ce7396b2b5f78dee6ea76934c8567f7f0c86f5954fba04256e16db0151ffffffff1ea7607a512b02856e293cd04b8c800fbd6e0d7e357cb63877c1de3a2d7d6d790100000000ffffffff0140aadf03000000001976a9148d950d086cf089d0bc29a0184faa7a448fd8c84188ac00000000\n"
   ]
  },
  {
   "cell_type": "code",
   "execution_count": null,
   "metadata": {},
   "outputs": [],
   "source": [
    "bx validate-tx 01000000021ea7607a512b02856e293cd04b8c800fbd6e0d7e357cb63877c1de3a2d7d6d79000000004947304402202f79d5255845e05d4e3d3688f191a35c61c647080a56754bad647f28e1dfe14702203ff30d1e22ce7396b2b5f78dee6ea76934c8567f7f0c86f5954fba04256e16db0151ffffffff1ea7607a512b02856e293cd04b8c800fbd6e0d7e357cb63877c1de3a2d7d6d79010000006b483045022100e21adb334909a91f49ef53c038823199ec51c6a2a483a7a5ced56990b98aa44202206d2fa178206808bd4be1dbdc3e26934b77f29d7c4f893153e6068c2afac1d0ee0121027546622c89d92aa58ad5cc0127dd67bac986c2fb52abfa4ed493ca9fa73e2f2affffffff0140aadf03000000001976a9148d950d086cf089d0bc29a0184faa7a448fd8c84188ac00000000\n"
   ]
  }
 ],
 "metadata": {
  "kernelspec": {
   "display_name": "Bash",
   "language": "bash",
   "name": "bash"
  },
  "language_info": {
   "codemirror_mode": "shell",
   "file_extension": ".sh",
   "mimetype": "text/x-sh",
   "name": "bash"
  }
 },
 "nbformat": 4,
 "nbformat_minor": 2
}
