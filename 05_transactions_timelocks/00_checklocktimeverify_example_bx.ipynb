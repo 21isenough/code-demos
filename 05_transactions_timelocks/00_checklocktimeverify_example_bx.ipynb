{
 "cells": [
  {
   "cell_type": "markdown",
   "metadata": {},
   "source": [
    "# Libbitcoin BX: Transactions with absolute locktime.\n",
    "In this BX tutorial, we will send funds to a `checklocktimeverify` encumbered output, and spend this after the absolute locktime has expired.\n",
    "<img src=\"images/cltv_overview.jpg\" alt=\"drawing\" style=\"\" width=\"700px\"/>"
   ]
  },
  {
   "cell_type": "markdown",
   "metadata": {},
   "source": [
    "<hr style=\"border: 0.5px dashed #000;\">\n",
    "\n",
    "## 1) Setup wallet and test funds\n",
    "### 1.1) Generate private/public key pair\n",
    "#### 1.1.1) New private key"
   ]
  },
  {
   "cell_type": "code",
   "execution_count": null,
   "metadata": {},
   "outputs": [],
   "source": [
    "bx seed | bx ec-new"
   ]
  },
  {
   "cell_type": "markdown",
   "metadata": {},
   "source": [
    "#### 1.1.2) Save your private key"
   ]
  },
  {
   "cell_type": "code",
   "execution_count": null,
   "metadata": {},
   "outputs": [],
   "source": [
    "echo e60c1ee5fb938aa041c15594b0df6ffbedbfc33e4aaf231b7eb4dbf18c464d8e"
   ]
  },
  {
   "cell_type": "markdown",
   "metadata": {},
   "source": [
    "#### 1.1.3) Derive public key<br>"
   ]
  },
  {
   "cell_type": "code",
   "execution_count": null,
   "metadata": {},
   "outputs": [],
   "source": [
    "bx ec-to-public e60c1ee5fb938aa041c15594b0df6ffbedbfc33e4aaf231b7eb4dbf18c464d8e"
   ]
  },
  {
   "cell_type": "markdown",
   "metadata": {},
   "source": [
    "#### 1.1.4) Derive public key hash"
   ]
  },
  {
   "cell_type": "code",
   "execution_count": null,
   "metadata": {},
   "outputs": [],
   "source": [
    "bx sha256 02e1af2f9086e95728bc3c768ee3e83ab81dd1841b92e281caa9f92501fd9b2b31 | bx ripemd160"
   ]
  },
  {
   "cell_type": "markdown",
   "metadata": {},
   "source": [
    "### 1.2) Derive testnet address\n",
    "Add version prefix for mainnet/testnet<br>\n",
    "* `6f` in hex\n",
    "* `111` in decimal\n",
    "\n",
    "And base58 encode result"
   ]
  },
  {
   "cell_type": "code",
   "execution_count": null,
   "metadata": {},
   "outputs": [],
   "source": [
    "bx wrap-encode -v 111 42a8bcd5f61fa17adbe800de6382f24bd1db0d7f \\\n",
    "| bx base58-encode\n"
   ]
  },
  {
   "cell_type": "markdown",
   "metadata": {},
   "source": [
    "### 1.3) Send test coins funds to your testnet address\n",
    "Note your spendable p2pkh UXTO's below..."
   ]
  },
  {
   "cell_type": "markdown",
   "metadata": {},
   "source": [
    "* UXTO 0: \n",
    "    * TXID: `423f3180d4a0f95c925553beef5e2fec7a4f19f9632c8294575ac450ff5b6b89`<br>\n",
    "    * Index: `0`\n",
    "    * Amount: `130000000`\n",
    "\n",
    "* UXTO 0: \n",
    "    * TXID: `d4552abb5edd8ce6eb8a8399d717f6636356e8a8d6242d7f50832399a7ab238e`<br>\n",
    "    * Index: `0`\n",
    "    * Amount: `64998700`"
   ]
  },
  {
   "cell_type": "markdown",
   "metadata": {},
   "source": [
    "<hr style=\"border: 0.5px dashed #000;\">\n",
    "\n",
    "## 2) Spending to a CLTV encumbered output<br>\n",
    "<img src=\"images/spend_to_cltv.jpg\" alt=\"drawing\" style=\"\" width=\"700px\"/>\n",
    "\n",
    "### 2.1) Build transaction with CLTV encumbered output for signing\n",
    "\n",
    "#### 2.1.1) Determine absolute locktime in blockheight\n",
    "* `$ bx fetch-height`\n",
    "* `$ expr [current blockheight] + [delay in blocks]`.\n",
    "* Encode locktime in hex (little endian)"
   ]
  },
  {
   "cell_type": "code",
   "execution_count": null,
   "metadata": {},
   "outputs": [],
   "source": [
    "bx fetch-height "
   ]
  },
  {
   "cell_type": "code",
   "execution_count": null,
   "metadata": {},
   "outputs": [],
   "source": [
    "expr 1412027 + 4"
   ]
  },
  {
   "cell_type": "code",
   "execution_count": null,
   "metadata": {},
   "outputs": [],
   "source": [
    "printf '%x\\n' 1412016"
   ]
  },
  {
   "cell_type": "markdown",
   "metadata": {},
   "source": [
    "**Note:** Don't forget to flip byte-order (4-Bytes) above for output script below."
   ]
  },
  {
   "cell_type": "markdown",
   "metadata": {},
   "source": [
    "#### 2.1.2) Encode CLTV-encumbered P2PKH output script\n",
    "* **`[locktime]`**\n",
    "* **`CHECKLOCKTIMEVERIFY`**\n",
    "* `DROP`\n",
    "* `DUP`\n",
    "* `HASH160`\n",
    "* `[public key hash]`\n",
    "* `EQUALVERIFY`\n",
    "* `CHECKSIG`"
   ]
  },
  {
   "cell_type": "code",
   "execution_count": null,
   "metadata": {},
   "outputs": [],
   "source": [
    "bx script-encode \\\n",
    "\"[b08b1500] CHECKLOCKTIMEVERIFY DROP DUP HASH160 [42a8bcd5f61fa17adbe800de6382f24bd1db0d7f] EQUALVERIFY CHECKSIG\"\n"
   ]
  },
  {
   "cell_type": "markdown",
   "metadata": {},
   "source": [
    "#### 2.1.3) Calculate output amount"
   ]
  },
  {
   "cell_type": "markdown",
   "metadata": {},
   "source": [
    "* `400 Satoshi/sigops + 1 Satoshi/Byte` \n",
    "* Output amount(s) are previous output amount(s) minus fees"
   ]
  },
  {
   "cell_type": "code",
   "execution_count": 2,
   "metadata": {},
   "outputs": [
    {
     "name": "stdout",
     "output_type": "stream",
     "text": [
      "129998350\n"
     ]
    }
   ],
   "source": [
    "expr 130000000 - 400 - 250 - 1000\n"
   ]
  },
  {
   "cell_type": "markdown",
   "metadata": {},
   "source": [
    "#### 2.1.4) Encode transaction for signing\n",
    "* `bx tx-encode -i [prevout txid:index:sequence] -o [output script:amount]`\n",
    "* Input sequence defaults to `ffffffff`/`4294967295`"
   ]
  },
  {
   "cell_type": "code",
   "execution_count": null,
   "metadata": {},
   "outputs": [],
   "source": [
    "bx tx-encode \\\n",
    "--input 423f3180d4a0f95c925553beef5e2fec7a4f19f9632c8294575ac450ff5b6b89:0:4294967295 \\\n",
    "--output 04b08b1500b17576a91442a8bcd5f61fa17adbe800de6382f24bd1db0d7f88ac:129998350\n"
   ]
  },
  {
   "cell_type": "markdown",
   "metadata": {},
   "source": [
    "### 2.2) Building the input script\n",
    "\n",
    "#### 2.2.1) Signing the transaction with the private key\n",
    "* `bx fetch-tx` previous output script\n",
    "* `bx input-sign` `[private key]` `[\"previous output script\"]` `[encoded transaction]`\n",
    "    * Outputs DER encoded signature"
   ]
  },
  {
   "cell_type": "code",
   "execution_count": null,
   "metadata": {},
   "outputs": [],
   "source": [
    "bx fetch-tx -f json 423f3180d4a0f95c925553beef5e2fec7a4f19f9632c8294575ac450ff5b6b89 \\\n",
    "| jq \".transaction.outputs[0].script\""
   ]
  },
  {
   "cell_type": "code",
   "execution_count": null,
   "metadata": {},
   "outputs": [],
   "source": [
    "bx input-sign \\\n",
    "e60c1ee5fb938aa041c15594b0df6ffbedbfc33e4aaf231b7eb4dbf18c464d8e \\\n",
    "\"dup hash160 [42a8bcd5f61fa17adbe800de6382f24bd1db0d7f] equalverify checksig\" \\\n",
    "0100000001896b5bff50c45a5794822c63f9194f7aec2f5eefbe5355925cf9a0d480313f420000000000ffffffff010e9ebf07000000002004b08b1500b17576a91442a8bcd5f61fa17adbe800de6382f24bd1db0d7f88ac00000000\n"
   ]
  },
  {
   "cell_type": "markdown",
   "metadata": {},
   "source": [
    "#### 2.2.2) Set the input script into the finalised transaction\n",
    "* The input script to spend the previous p2pkh output script is `[endorsement]` `[public key]`\n",
    "* `bx input-set` `\"input script\"` `[encoded transaction]`"
   ]
  },
  {
   "cell_type": "code",
   "execution_count": null,
   "metadata": {},
   "outputs": [],
   "source": [
    "bx input-set \\\n",
    "\"[3044022020ff2e82115e6822c0d69b0c4370dba42de61ad24c650563242125758258d5e902201af2906a9f0b74f28f90378303896798a0d70077770f9ba455ecc5613178b68e01] [02e1af2f9086e95728bc3c768ee3e83ab81dd1841b92e281caa9f92501fd9b2b31]\" \\\n",
    "0100000001896b5bff50c45a5794822c63f9194f7aec2f5eefbe5355925cf9a0d480313f420000000000ffffffff010e9ebf07000000002004b08b1500b17576a91442a8bcd5f61fa17adbe800de6382f24bd1db0d7f88ac00000000\n"
   ]
  },
  {
   "cell_type": "markdown",
   "metadata": {},
   "source": [
    "### 2.3) Validate & Broadcast the endorsed transaction\n",
    "* `bx validate-tx` `[encoded transaction]`\n",
    "* `bx tx-decode -f json` `[encoded transaction]` | `jq \".transaction.hash\"`"
   ]
  },
  {
   "cell_type": "code",
   "execution_count": null,
   "metadata": {},
   "outputs": [],
   "source": [
    "bx validate-tx \\\n",
    "0100000001896b5bff50c45a5794822c63f9194f7aec2f5eefbe5355925cf9a0d480313f42000000006a473044022020ff2e82115e6822c0d69b0c4370dba42de61ad24c650563242125758258d5e902201af2906a9f0b74f28f90378303896798a0d70077770f9ba455ecc5613178b68e012102e1af2f9086e95728bc3c768ee3e83ab81dd1841b92e281caa9f92501fd9b2b31ffffffff010e9ebf07000000002004b08b1500b17576a91442a8bcd5f61fa17adbe800de6382f24bd1db0d7f88ac00000000\n"
   ]
  },
  {
   "cell_type": "code",
   "execution_count": null,
   "metadata": {},
   "outputs": [],
   "source": [
    "bx tx-decode -f json \\\n",
    "0100000001896b5bff50c45a5794822c63f9194f7aec2f5eefbe5355925cf9a0d480313f42000000006a473044022020ff2e82115e6822c0d69b0c4370dba42de61ad24c650563242125758258d5e902201af2906a9f0b74f28f90378303896798a0d70077770f9ba455ecc5613178b68e012102e1af2f9086e95728bc3c768ee3e83ab81dd1841b92e281caa9f92501fd9b2b31ffffffff010e9ebf07000000002004b08b1500b17576a91442a8bcd5f61fa17adbe800de6382f24bd1db0d7f88ac00000000 \\\n",
    "|jq \".transaction.hash\""
   ]
  },
  {
   "cell_type": "code",
   "execution_count": null,
   "metadata": {},
   "outputs": [],
   "source": [
    "bx send-tx 0100000001896b5bff50c45a5794822c63f9194f7aec2f5eefbe5355925cf9a0d480313f42000000006a473044022020ff2e82115e6822c0d69b0c4370dba42de61ad24c650563242125758258d5e902201af2906a9f0b74f28f90378303896798a0d70077770f9ba455ecc5613178b68e012102e1af2f9086e95728bc3c768ee3e83ab81dd1841b92e281caa9f92501fd9b2b31ffffffff010e9ebf07000000002004b08b1500b17576a91442a8bcd5f61fa17adbe800de6382f24bd1db0d7f88ac00000000\n"
   ]
  },
  {
   "cell_type": "markdown",
   "metadata": {},
   "source": [
    "<hr style=\"border: 0.5px dashed #000;\">\n",
    "\n",
    "## 3) Spend the CLTV encumbered UXTO\n",
    "\n",
    "<img src=\"images/spend_from_cltv.jpg\" alt=\"drawing\" style=\"\" width=\"700px\"/>\n",
    "\n",
    "### 3.1) Build transaction with activated locktime for signing"
   ]
  },
  {
   "cell_type": "markdown",
   "metadata": {},
   "source": [
    "#### 3.1.1) Encode p2pkh output script"
   ]
  },
  {
   "cell_type": "code",
   "execution_count": null,
   "metadata": {},
   "outputs": [],
   "source": [
    "bx script-encode \"DUP HASH160 [42a8bcd5f61fa17adbe800de6382f24bd1db0d7f] EQUALVERIFY CHECKSIG\""
   ]
  },
  {
   "cell_type": "markdown",
   "metadata": {},
   "source": [
    "**3.1.2) Encode transaction with locktime & set input sequence**<br>\n",
    "* Reference Previous Outpoint<br>\n",
    "* Transaction locktime field must be `>=` locktime in CLTV output being spent.\n",
    "* Input sequence msut be less than maximum, so `fffffffe`/`4294967294`"
   ]
  },
  {
   "cell_type": "code",
   "execution_count": null,
   "metadata": {},
   "outputs": [],
   "source": [
    "expr 129998350 - 400 - 250 - 1000"
   ]
  },
  {
   "cell_type": "code",
   "execution_count": null,
   "metadata": {
    "scrolled": true
   },
   "outputs": [],
   "source": [
    "bx tx-encode \\\n",
    "--lock_time 1411982 \\\n",
    "--input e25ac53e48592030908ce9e438f6fd93dd01364c7562d5646a4373d67ddcbb7a:0:4294967294 \\\n",
    "--output 76a91442a8bcd5f61fa17adbe800de6382f24bd1db0d7f88ac:129996700\n"
   ]
  },
  {
   "cell_type": "markdown",
   "metadata": {},
   "source": [
    "### 3.2) Building the input script\n",
    "\n",
    "#### 3.2.1)  Signing the transaction with the private key\n",
    "* `bx fetch-tx` previous output script\n",
    "* `bx input-sign` `[private key]` `[\"previous output script\"]` `[encoded transaction]`\n",
    "    * Outputs DER encoded signature"
   ]
  },
  {
   "cell_type": "code",
   "execution_count": null,
   "metadata": {},
   "outputs": [],
   "source": [
    "bx fetch-tx -f json e25ac53e48592030908ce9e438f6fd93dd01364c7562d5646a4373d67ddcbb7a \\\n",
    "| jq \".transaction.outputs[0].script\"\n"
   ]
  },
  {
   "cell_type": "code",
   "execution_count": null,
   "metadata": {},
   "outputs": [],
   "source": [
    "bx input-sign e60c1ee5fb938aa041c15594b0df6ffbedbfc33e4aaf231b7eb4dbf18c464d8e \\\n",
    "\"[b08b1500] CHECKLOCKTIMEVERIFY DROP DUP HASH160 [42a8bcd5f61fa17adbe800de6382f24bd1db0d7f] EQUALVERIFY CHECKSIG\" \\\n",
    "01000000017abbdc7dd673436a64d562754c3601dd93fdf638e4e98c90302059483ec55ae20000000000feffffff019c97bf07000000001976a91442a8bcd5f61fa17adbe800de6382f24bd1db0d7f88ac8e8b1500\n"
   ]
  },
  {
   "cell_type": "markdown",
   "metadata": {},
   "source": [
    "#### 3.2.2) Set the input script into the finalised transaction"
   ]
  },
  {
   "cell_type": "code",
   "execution_count": null,
   "metadata": {},
   "outputs": [],
   "source": [
    "bx input-set \"[3045022100e99a3e961b76a91bafeca92fd5e3f514873c1c5439debfe3ff573c6aef351f87022008ccf9f779c5542464d8e2ca932fbba482b134ce0f2fe644c8efb89a0d6326a301] [02e1af2f9086e95728bc3c768ee3e83ab81dd1841b92e281caa9f92501fd9b2b31]\" \\\n",
    "01000000017abbdc7dd673436a64d562754c3601dd93fdf638e4e98c90302059483ec55ae20000000000feffffff019c97bf07000000001976a91442a8bcd5f61fa17adbe800de6382f24bd1db0d7f88ac8e8b1500\n"
   ]
  },
  {
   "cell_type": "markdown",
   "metadata": {},
   "source": [
    "### 3.3) Validate & Broadcast the endorsed transaction\n",
    "* `bx validate-tx` `[encoded transaction]`\n",
    "* Get TXID: `bx tx-decode -f json` `[encoded transaction]` | `jq \".transaction.hash\"`\n",
    "* `bx send-tx` `[encoded transaction]`"
   ]
  },
  {
   "cell_type": "code",
   "execution_count": null,
   "metadata": {},
   "outputs": [],
   "source": [
    "bx validate-tx \\\n",
    "01000000017abbdc7dd673436a64d562754c3601dd93fdf638e4e98c90302059483ec55ae2000000006b483045022100e99a3e961b76a91bafeca92fd5e3f514873c1c5439debfe3ff573c6aef351f87022008ccf9f779c5542464d8e2ca932fbba482b134ce0f2fe644c8efb89a0d6326a3012102e1af2f9086e95728bc3c768ee3e83ab81dd1841b92e281caa9f92501fd9b2b31feffffff019c97bf07000000001976a91442a8bcd5f61fa17adbe800de6382f24bd1db0d7f88ac8e8b1500\n"
   ]
  },
  {
   "cell_type": "code",
   "execution_count": null,
   "metadata": {},
   "outputs": [],
   "source": [
    "bx tx-decode -f json \\\n",
    "01000000017abbdc7dd673436a64d562754c3601dd93fdf638e4e98c90302059483ec55ae2000000006b483045022100e99a3e961b76a91bafeca92fd5e3f514873c1c5439debfe3ff573c6aef351f87022008ccf9f779c5542464d8e2ca932fbba482b134ce0f2fe644c8efb89a0d6326a3012102e1af2f9086e95728bc3c768ee3e83ab81dd1841b92e281caa9f92501fd9b2b31feffffff019c97bf07000000001976a91442a8bcd5f61fa17adbe800de6382f24bd1db0d7f88ac8e8b1500 \\\n",
    "| jq \".transaction.hash\"\n"
   ]
  }
 ],
 "metadata": {
  "kernelspec": {
   "display_name": "Bash",
   "language": "bash",
   "name": "bash"
  },
  "language_info": {
   "codemirror_mode": "shell",
   "file_extension": ".sh",
   "mimetype": "text/x-sh",
   "name": "bash"
  }
 },
 "nbformat": 4,
 "nbformat_minor": 2
}
